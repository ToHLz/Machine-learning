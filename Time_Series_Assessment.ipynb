{
  "nbformat": 4,
  "nbformat_minor": 0,
  "metadata": {
    "colab": {
      "name": "Time Series Assessment",
      "provenance": [],
      "authorship_tag": "ABX9TyOWogu3+Nbf69uGEogeAy+h",
      "include_colab_link": true
    },
    "kernelspec": {
      "name": "python3",
      "display_name": "Python 3"
    },
    "language_info": {
      "name": "python"
    }
  },
  "cells": [
    {
      "cell_type": "markdown",
      "metadata": {
        "id": "view-in-github",
        "colab_type": "text"
      },
      "source": [
        "<a href=\"https://colab.research.google.com/github/ToHLz/Machine-learning/blob/main/Time_Series_Assessment.ipynb\" target=\"_parent\"><img src=\"https://colab.research.google.com/assets/colab-badge.svg\" alt=\"Open In Colab\"/></a>"
      ]
    },
    {
      "cell_type": "code",
      "execution_count": null,
      "metadata": {
        "colab": {
          "base_uri": "https://localhost:8080/"
        },
        "id": "1f--uinoiT5F",
        "outputId": "fca95fb4-c80a-48ea-9f3b-02d4ac6d63a0"
      },
      "outputs": [
        {
          "output_type": "stream",
          "name": "stderr",
          "text": [
            "/usr/local/lib/python3.7/dist-packages/statsmodels/tools/_testing.py:19: FutureWarning: pandas.util.testing is deprecated. Use the functions in the public API at pandas.testing instead.\n",
            "  import pandas.util.testing as tm\n"
          ]
        }
      ],
      "source": [
        "import pandas as pd\n",
        "import matplotlib.pyplot as plt\n",
        "import matplotlib.ticker as ticker \n",
        "import numpy as np\n",
        "import statsmodels.api as sm\n",
        "import itertools\n",
        "from sklearn.metrics import mean_squared_error\n",
        "from statsmodels.tsa.arima_model import ARIMA\n",
        "from statsmodels.tsa.api import ExponentialSmoothing, SimpleExpSmoothing, Holt\n",
        "from scipy.spatial.distance import cdist\n",
        "import statsmodels\n",
        "from datetime import datetime \n",
        "import seaborn as sns\n",
        "from statsmodels.tsa.statespace.sarimax import SARIMAX"
      ]
    },
    {
      "cell_type": "code",
      "source": [
        "df = pd.read_csv('https://raw.githubusercontent.com/ToHLz/Machine-learning/main/PT_Train.csv')\n",
        "df.head()"
      ],
      "metadata": {
        "colab": {
          "base_uri": "https://localhost:8080/",
          "height": 206
        },
        "id": "sVeIcNN4ia7U",
        "outputId": "198335fc-11c7-41ac-8e11-11fb279ba2e7"
      },
      "execution_count": null,
      "outputs": [
        {
          "output_type": "execute_result",
          "data": {
            "text/html": [
              "\n",
              "  <div id=\"df-152d0325-0a28-4203-ae0a-15a7f629d5dd\">\n",
              "    <div class=\"colab-df-container\">\n",
              "      <div>\n",
              "<style scoped>\n",
              "    .dataframe tbody tr th:only-of-type {\n",
              "        vertical-align: middle;\n",
              "    }\n",
              "\n",
              "    .dataframe tbody tr th {\n",
              "        vertical-align: top;\n",
              "    }\n",
              "\n",
              "    .dataframe thead th {\n",
              "        text-align: right;\n",
              "    }\n",
              "</style>\n",
              "<table border=\"1\" class=\"dataframe\">\n",
              "  <thead>\n",
              "    <tr style=\"text-align: right;\">\n",
              "      <th></th>\n",
              "      <th>Timestamp (GMT)</th>\n",
              "      <th>Lifetouch Heart Rate</th>\n",
              "      <th>Lifetouch Respiration Rate</th>\n",
              "      <th>Oximeter SpO2</th>\n",
              "      <th>Oximeter Pulse</th>\n",
              "    </tr>\n",
              "  </thead>\n",
              "  <tbody>\n",
              "    <tr>\n",
              "      <th>0</th>\n",
              "      <td>17/08/2015 15:09</td>\n",
              "      <td>139</td>\n",
              "      <td>41</td>\n",
              "      <td>NaN</td>\n",
              "      <td>NaN</td>\n",
              "    </tr>\n",
              "    <tr>\n",
              "      <th>1</th>\n",
              "      <td>17/08/2015 15:10</td>\n",
              "      <td>144</td>\n",
              "      <td>40</td>\n",
              "      <td>92.0</td>\n",
              "      <td>140.0</td>\n",
              "    </tr>\n",
              "    <tr>\n",
              "      <th>2</th>\n",
              "      <td>17/08/2015 15:11</td>\n",
              "      <td>140</td>\n",
              "      <td>42</td>\n",
              "      <td>89.0</td>\n",
              "      <td>144.0</td>\n",
              "    </tr>\n",
              "    <tr>\n",
              "      <th>3</th>\n",
              "      <td>17/08/2015 15:12</td>\n",
              "      <td>138</td>\n",
              "      <td>45</td>\n",
              "      <td>93.0</td>\n",
              "      <td>141.0</td>\n",
              "    </tr>\n",
              "    <tr>\n",
              "      <th>4</th>\n",
              "      <td>17/08/2015 15:13</td>\n",
              "      <td>133</td>\n",
              "      <td>42</td>\n",
              "      <td>94.0</td>\n",
              "      <td>134.0</td>\n",
              "    </tr>\n",
              "  </tbody>\n",
              "</table>\n",
              "</div>\n",
              "      <button class=\"colab-df-convert\" onclick=\"convertToInteractive('df-152d0325-0a28-4203-ae0a-15a7f629d5dd')\"\n",
              "              title=\"Convert this dataframe to an interactive table.\"\n",
              "              style=\"display:none;\">\n",
              "        \n",
              "  <svg xmlns=\"http://www.w3.org/2000/svg\" height=\"24px\"viewBox=\"0 0 24 24\"\n",
              "       width=\"24px\">\n",
              "    <path d=\"M0 0h24v24H0V0z\" fill=\"none\"/>\n",
              "    <path d=\"M18.56 5.44l.94 2.06.94-2.06 2.06-.94-2.06-.94-.94-2.06-.94 2.06-2.06.94zm-11 1L8.5 8.5l.94-2.06 2.06-.94-2.06-.94L8.5 2.5l-.94 2.06-2.06.94zm10 10l.94 2.06.94-2.06 2.06-.94-2.06-.94-.94-2.06-.94 2.06-2.06.94z\"/><path d=\"M17.41 7.96l-1.37-1.37c-.4-.4-.92-.59-1.43-.59-.52 0-1.04.2-1.43.59L10.3 9.45l-7.72 7.72c-.78.78-.78 2.05 0 2.83L4 21.41c.39.39.9.59 1.41.59.51 0 1.02-.2 1.41-.59l7.78-7.78 2.81-2.81c.8-.78.8-2.07 0-2.86zM5.41 20L4 18.59l7.72-7.72 1.47 1.35L5.41 20z\"/>\n",
              "  </svg>\n",
              "      </button>\n",
              "      \n",
              "  <style>\n",
              "    .colab-df-container {\n",
              "      display:flex;\n",
              "      flex-wrap:wrap;\n",
              "      gap: 12px;\n",
              "    }\n",
              "\n",
              "    .colab-df-convert {\n",
              "      background-color: #E8F0FE;\n",
              "      border: none;\n",
              "      border-radius: 50%;\n",
              "      cursor: pointer;\n",
              "      display: none;\n",
              "      fill: #1967D2;\n",
              "      height: 32px;\n",
              "      padding: 0 0 0 0;\n",
              "      width: 32px;\n",
              "    }\n",
              "\n",
              "    .colab-df-convert:hover {\n",
              "      background-color: #E2EBFA;\n",
              "      box-shadow: 0px 1px 2px rgba(60, 64, 67, 0.3), 0px 1px 3px 1px rgba(60, 64, 67, 0.15);\n",
              "      fill: #174EA6;\n",
              "    }\n",
              "\n",
              "    [theme=dark] .colab-df-convert {\n",
              "      background-color: #3B4455;\n",
              "      fill: #D2E3FC;\n",
              "    }\n",
              "\n",
              "    [theme=dark] .colab-df-convert:hover {\n",
              "      background-color: #434B5C;\n",
              "      box-shadow: 0px 1px 3px 1px rgba(0, 0, 0, 0.15);\n",
              "      filter: drop-shadow(0px 1px 2px rgba(0, 0, 0, 0.3));\n",
              "      fill: #FFFFFF;\n",
              "    }\n",
              "  </style>\n",
              "\n",
              "      <script>\n",
              "        const buttonEl =\n",
              "          document.querySelector('#df-152d0325-0a28-4203-ae0a-15a7f629d5dd button.colab-df-convert');\n",
              "        buttonEl.style.display =\n",
              "          google.colab.kernel.accessAllowed ? 'block' : 'none';\n",
              "\n",
              "        async function convertToInteractive(key) {\n",
              "          const element = document.querySelector('#df-152d0325-0a28-4203-ae0a-15a7f629d5dd');\n",
              "          const dataTable =\n",
              "            await google.colab.kernel.invokeFunction('convertToInteractive',\n",
              "                                                     [key], {});\n",
              "          if (!dataTable) return;\n",
              "\n",
              "          const docLinkHtml = 'Like what you see? Visit the ' +\n",
              "            '<a target=\"_blank\" href=https://colab.research.google.com/notebooks/data_table.ipynb>data table notebook</a>'\n",
              "            + ' to learn more about interactive tables.';\n",
              "          element.innerHTML = '';\n",
              "          dataTable['output_type'] = 'display_data';\n",
              "          await google.colab.output.renderOutput(dataTable, element);\n",
              "          const docLink = document.createElement('div');\n",
              "          docLink.innerHTML = docLinkHtml;\n",
              "          element.appendChild(docLink);\n",
              "        }\n",
              "      </script>\n",
              "    </div>\n",
              "  </div>\n",
              "  "
            ],
            "text/plain": [
              "    Timestamp (GMT)  Lifetouch Heart Rate  ...  Oximeter SpO2  Oximeter Pulse\n",
              "0  17/08/2015 15:09                   139  ...            NaN             NaN\n",
              "1  17/08/2015 15:10                   144  ...           92.0           140.0\n",
              "2  17/08/2015 15:11                   140  ...           89.0           144.0\n",
              "3  17/08/2015 15:12                   138  ...           93.0           141.0\n",
              "4  17/08/2015 15:13                   133  ...           94.0           134.0\n",
              "\n",
              "[5 rows x 5 columns]"
            ]
          },
          "metadata": {},
          "execution_count": 2
        }
      ]
    },
    {
      "cell_type": "code",
      "source": [
        "df.info()"
      ],
      "metadata": {
        "colab": {
          "base_uri": "https://localhost:8080/"
        },
        "id": "5J8CUgAPik1J",
        "outputId": "f9c969f2-979f-48e6-f05c-16d70ddd6bf7"
      },
      "execution_count": null,
      "outputs": [
        {
          "output_type": "stream",
          "name": "stdout",
          "text": [
            "<class 'pandas.core.frame.DataFrame'>\n",
            "RangeIndex: 226 entries, 0 to 225\n",
            "Data columns (total 5 columns):\n",
            " #   Column                      Non-Null Count  Dtype  \n",
            "---  ------                      --------------  -----  \n",
            " 0   Timestamp (GMT)             226 non-null    object \n",
            " 1   Lifetouch Heart Rate        226 non-null    int64  \n",
            " 2   Lifetouch Respiration Rate  226 non-null    int64  \n",
            " 3   Oximeter SpO2               191 non-null    float64\n",
            " 4   Oximeter Pulse              191 non-null    float64\n",
            "dtypes: float64(2), int64(2), object(1)\n",
            "memory usage: 9.0+ KB\n"
          ]
        }
      ]
    },
    {
      "cell_type": "code",
      "source": [
        "# Since our focus is on the Lifetouch Heart Rate column, let us drop the other columns\n",
        "# Let us add another column \"Minutes-No\"\n",
        "#df = df.drop(columns=[\"Lifetouch Respiration Rate\",\"Oximeter SpO2\",\"Oximeter Pulse\"], axis=1)\n",
        "\n",
        "#Convert Minute to integer\n",
        "df[\"Minutes-No\"]= list(range(0,len(df[\"Timestamp (GMT)\"])))"
      ],
      "metadata": {
        "id": "hsKjUqIoinUv"
      },
      "execution_count": null,
      "outputs": []
    },
    {
      "cell_type": "code",
      "source": [
        "# Let us convert the data type and set the datetime as index\n",
        "con=df['Timestamp (GMT)']\n",
        "df['Timestamp (GMT)']=pd.to_datetime(df['Timestamp (GMT)'])\n",
        "df.set_index('Timestamp (GMT)', inplace=True)\n",
        "#check datatype of index\n",
        "df.index"
      ],
      "metadata": {
        "colab": {
          "base_uri": "https://localhost:8080/"
        },
        "id": "_5cl6A1RiqtD",
        "outputId": "68592154-bb24-4622-a914-a528efaf33e1"
      },
      "execution_count": null,
      "outputs": [
        {
          "output_type": "execute_result",
          "data": {
            "text/plain": [
              "DatetimeIndex(['2015-08-17 15:09:00', '2015-08-17 15:10:00',\n",
              "               '2015-08-17 15:11:00', '2015-08-17 15:12:00',\n",
              "               '2015-08-17 15:13:00', '2015-08-17 15:14:00',\n",
              "               '2015-08-17 15:15:00', '2015-08-17 15:16:00',\n",
              "               '2015-08-17 15:17:00', '2015-08-17 15:18:00',\n",
              "               ...\n",
              "               '2015-08-17 18:45:00', '2015-08-17 18:46:00',\n",
              "               '2015-08-17 18:47:00', '2015-08-17 18:48:00',\n",
              "               '2015-08-17 18:49:00', '2015-08-17 18:50:00',\n",
              "               '2015-08-17 18:51:00', '2015-08-17 18:52:00',\n",
              "               '2015-08-17 18:53:00', '2015-08-17 18:54:00'],\n",
              "              dtype='datetime64[ns]', name='Timestamp (GMT)', length=226, freq=None)"
            ]
          },
          "metadata": {},
          "execution_count": 5
        }
      ]
    },
    {
      "cell_type": "code",
      "source": [
        "# Let us see the statistical distribution of the dataset\n",
        "df.describe()"
      ],
      "metadata": {
        "colab": {
          "base_uri": "https://localhost:8080/",
          "height": 300
        },
        "id": "h4pIKghPixLz",
        "outputId": "6d565883-08f1-4d2d-e5f3-0a66cca7b4e4"
      },
      "execution_count": null,
      "outputs": [
        {
          "output_type": "execute_result",
          "data": {
            "text/html": [
              "\n",
              "  <div id=\"df-e48c7b23-aea3-4e6b-a529-4bd88cfd2093\">\n",
              "    <div class=\"colab-df-container\">\n",
              "      <div>\n",
              "<style scoped>\n",
              "    .dataframe tbody tr th:only-of-type {\n",
              "        vertical-align: middle;\n",
              "    }\n",
              "\n",
              "    .dataframe tbody tr th {\n",
              "        vertical-align: top;\n",
              "    }\n",
              "\n",
              "    .dataframe thead th {\n",
              "        text-align: right;\n",
              "    }\n",
              "</style>\n",
              "<table border=\"1\" class=\"dataframe\">\n",
              "  <thead>\n",
              "    <tr style=\"text-align: right;\">\n",
              "      <th></th>\n",
              "      <th>Lifetouch Heart Rate</th>\n",
              "      <th>Lifetouch Respiration Rate</th>\n",
              "      <th>Oximeter SpO2</th>\n",
              "      <th>Oximeter Pulse</th>\n",
              "      <th>Minutes-No</th>\n",
              "    </tr>\n",
              "  </thead>\n",
              "  <tbody>\n",
              "    <tr>\n",
              "      <th>count</th>\n",
              "      <td>226.000000</td>\n",
              "      <td>226.000000</td>\n",
              "      <td>191.000000</td>\n",
              "      <td>191.000000</td>\n",
              "      <td>226.000000</td>\n",
              "    </tr>\n",
              "    <tr>\n",
              "      <th>mean</th>\n",
              "      <td>2315.615044</td>\n",
              "      <td>2219.216814</td>\n",
              "      <td>83.450262</td>\n",
              "      <td>126.335079</td>\n",
              "      <td>112.500000</td>\n",
              "    </tr>\n",
              "    <tr>\n",
              "      <th>std</th>\n",
              "      <td>11351.588825</td>\n",
              "      <td>11370.093548</td>\n",
              "      <td>29.802974</td>\n",
              "      <td>46.348142</td>\n",
              "      <td>65.384759</td>\n",
              "    </tr>\n",
              "    <tr>\n",
              "      <th>min</th>\n",
              "      <td>106.000000</td>\n",
              "      <td>34.000000</td>\n",
              "      <td>-1.000000</td>\n",
              "      <td>-1.000000</td>\n",
              "      <td>0.000000</td>\n",
              "    </tr>\n",
              "    <tr>\n",
              "      <th>25%</th>\n",
              "      <td>136.000000</td>\n",
              "      <td>38.000000</td>\n",
              "      <td>92.000000</td>\n",
              "      <td>134.000000</td>\n",
              "      <td>56.250000</td>\n",
              "    </tr>\n",
              "    <tr>\n",
              "      <th>50%</th>\n",
              "      <td>145.000000</td>\n",
              "      <td>46.000000</td>\n",
              "      <td>93.000000</td>\n",
              "      <td>139.000000</td>\n",
              "      <td>112.500000</td>\n",
              "    </tr>\n",
              "    <tr>\n",
              "      <th>75%</th>\n",
              "      <td>156.000000</td>\n",
              "      <td>53.000000</td>\n",
              "      <td>95.000000</td>\n",
              "      <td>149.000000</td>\n",
              "      <td>168.750000</td>\n",
              "    </tr>\n",
              "    <tr>\n",
              "      <th>max</th>\n",
              "      <td>61442.000000</td>\n",
              "      <td>61442.000000</td>\n",
              "      <td>98.000000</td>\n",
              "      <td>166.000000</td>\n",
              "      <td>225.000000</td>\n",
              "    </tr>\n",
              "  </tbody>\n",
              "</table>\n",
              "</div>\n",
              "      <button class=\"colab-df-convert\" onclick=\"convertToInteractive('df-e48c7b23-aea3-4e6b-a529-4bd88cfd2093')\"\n",
              "              title=\"Convert this dataframe to an interactive table.\"\n",
              "              style=\"display:none;\">\n",
              "        \n",
              "  <svg xmlns=\"http://www.w3.org/2000/svg\" height=\"24px\"viewBox=\"0 0 24 24\"\n",
              "       width=\"24px\">\n",
              "    <path d=\"M0 0h24v24H0V0z\" fill=\"none\"/>\n",
              "    <path d=\"M18.56 5.44l.94 2.06.94-2.06 2.06-.94-2.06-.94-.94-2.06-.94 2.06-2.06.94zm-11 1L8.5 8.5l.94-2.06 2.06-.94-2.06-.94L8.5 2.5l-.94 2.06-2.06.94zm10 10l.94 2.06.94-2.06 2.06-.94-2.06-.94-.94-2.06-.94 2.06-2.06.94z\"/><path d=\"M17.41 7.96l-1.37-1.37c-.4-.4-.92-.59-1.43-.59-.52 0-1.04.2-1.43.59L10.3 9.45l-7.72 7.72c-.78.78-.78 2.05 0 2.83L4 21.41c.39.39.9.59 1.41.59.51 0 1.02-.2 1.41-.59l7.78-7.78 2.81-2.81c.8-.78.8-2.07 0-2.86zM5.41 20L4 18.59l7.72-7.72 1.47 1.35L5.41 20z\"/>\n",
              "  </svg>\n",
              "      </button>\n",
              "      \n",
              "  <style>\n",
              "    .colab-df-container {\n",
              "      display:flex;\n",
              "      flex-wrap:wrap;\n",
              "      gap: 12px;\n",
              "    }\n",
              "\n",
              "    .colab-df-convert {\n",
              "      background-color: #E8F0FE;\n",
              "      border: none;\n",
              "      border-radius: 50%;\n",
              "      cursor: pointer;\n",
              "      display: none;\n",
              "      fill: #1967D2;\n",
              "      height: 32px;\n",
              "      padding: 0 0 0 0;\n",
              "      width: 32px;\n",
              "    }\n",
              "\n",
              "    .colab-df-convert:hover {\n",
              "      background-color: #E2EBFA;\n",
              "      box-shadow: 0px 1px 2px rgba(60, 64, 67, 0.3), 0px 1px 3px 1px rgba(60, 64, 67, 0.15);\n",
              "      fill: #174EA6;\n",
              "    }\n",
              "\n",
              "    [theme=dark] .colab-df-convert {\n",
              "      background-color: #3B4455;\n",
              "      fill: #D2E3FC;\n",
              "    }\n",
              "\n",
              "    [theme=dark] .colab-df-convert:hover {\n",
              "      background-color: #434B5C;\n",
              "      box-shadow: 0px 1px 3px 1px rgba(0, 0, 0, 0.15);\n",
              "      filter: drop-shadow(0px 1px 2px rgba(0, 0, 0, 0.3));\n",
              "      fill: #FFFFFF;\n",
              "    }\n",
              "  </style>\n",
              "\n",
              "      <script>\n",
              "        const buttonEl =\n",
              "          document.querySelector('#df-e48c7b23-aea3-4e6b-a529-4bd88cfd2093 button.colab-df-convert');\n",
              "        buttonEl.style.display =\n",
              "          google.colab.kernel.accessAllowed ? 'block' : 'none';\n",
              "\n",
              "        async function convertToInteractive(key) {\n",
              "          const element = document.querySelector('#df-e48c7b23-aea3-4e6b-a529-4bd88cfd2093');\n",
              "          const dataTable =\n",
              "            await google.colab.kernel.invokeFunction('convertToInteractive',\n",
              "                                                     [key], {});\n",
              "          if (!dataTable) return;\n",
              "\n",
              "          const docLinkHtml = 'Like what you see? Visit the ' +\n",
              "            '<a target=\"_blank\" href=https://colab.research.google.com/notebooks/data_table.ipynb>data table notebook</a>'\n",
              "            + ' to learn more about interactive tables.';\n",
              "          element.innerHTML = '';\n",
              "          dataTable['output_type'] = 'display_data';\n",
              "          await google.colab.output.renderOutput(dataTable, element);\n",
              "          const docLink = document.createElement('div');\n",
              "          docLink.innerHTML = docLinkHtml;\n",
              "          element.appendChild(docLink);\n",
              "        }\n",
              "      </script>\n",
              "    </div>\n",
              "  </div>\n",
              "  "
            ],
            "text/plain": [
              "       Lifetouch Heart Rate  ...  Minutes-No\n",
              "count            226.000000  ...  226.000000\n",
              "mean            2315.615044  ...  112.500000\n",
              "std            11351.588825  ...   65.384759\n",
              "min              106.000000  ...    0.000000\n",
              "25%              136.000000  ...   56.250000\n",
              "50%              145.000000  ...  112.500000\n",
              "75%              156.000000  ...  168.750000\n",
              "max            61442.000000  ...  225.000000\n",
              "\n",
              "[8 rows x 5 columns]"
            ]
          },
          "metadata": {},
          "execution_count": 6
        }
      ]
    },
    {
      "cell_type": "code",
      "source": [
        "# Outliers are removed by creating an updated list and replaced by the mean\n",
        "\n",
        "df_filtered = df.copy()\n",
        "df_filtered.drop(df_filtered[df_filtered['Lifetouch Heart Rate'] > 500].index, inplace = True)\n",
        "mean = df_filtered['Lifetouch Heart Rate'].mean()\n",
        "df['Lifetouch Heart Rate'] = np.where(df['Lifetouch Heart Rate'] > 500, mean, df['Lifetouch Heart Rate'])\n",
        "print(mean)"
      ],
      "metadata": {
        "colab": {
          "base_uri": "https://localhost:8080/"
        },
        "id": "e4rt6GPsi0ub",
        "outputId": "ee3cb5a2-bb6c-4060-91c3-2a0a19a37277"
      },
      "execution_count": null,
      "outputs": [
        {
          "output_type": "stream",
          "name": "stdout",
          "text": [
            "145.86238532110093\n"
          ]
        }
      ]
    },
    {
      "cell_type": "code",
      "source": [
        "df.describe()"
      ],
      "metadata": {
        "colab": {
          "base_uri": "https://localhost:8080/",
          "height": 300
        },
        "id": "-vzsO4sci3k4",
        "outputId": "f5fc17f3-61cf-42d5-e035-1d286b71f481"
      },
      "execution_count": null,
      "outputs": [
        {
          "output_type": "execute_result",
          "data": {
            "text/html": [
              "\n",
              "  <div id=\"df-2f641497-8602-469a-aa53-6900a359ce61\">\n",
              "    <div class=\"colab-df-container\">\n",
              "      <div>\n",
              "<style scoped>\n",
              "    .dataframe tbody tr th:only-of-type {\n",
              "        vertical-align: middle;\n",
              "    }\n",
              "\n",
              "    .dataframe tbody tr th {\n",
              "        vertical-align: top;\n",
              "    }\n",
              "\n",
              "    .dataframe thead th {\n",
              "        text-align: right;\n",
              "    }\n",
              "</style>\n",
              "<table border=\"1\" class=\"dataframe\">\n",
              "  <thead>\n",
              "    <tr style=\"text-align: right;\">\n",
              "      <th></th>\n",
              "      <th>Lifetouch Heart Rate</th>\n",
              "      <th>Lifetouch Respiration Rate</th>\n",
              "      <th>Oximeter SpO2</th>\n",
              "      <th>Oximeter Pulse</th>\n",
              "      <th>Minutes-No</th>\n",
              "    </tr>\n",
              "  </thead>\n",
              "  <tbody>\n",
              "    <tr>\n",
              "      <th>count</th>\n",
              "      <td>226.000000</td>\n",
              "      <td>226.000000</td>\n",
              "      <td>191.000000</td>\n",
              "      <td>191.000000</td>\n",
              "      <td>226.000000</td>\n",
              "    </tr>\n",
              "    <tr>\n",
              "      <th>mean</th>\n",
              "      <td>145.862385</td>\n",
              "      <td>2219.216814</td>\n",
              "      <td>83.450262</td>\n",
              "      <td>126.335079</td>\n",
              "      <td>112.500000</td>\n",
              "    </tr>\n",
              "    <tr>\n",
              "      <th>std</th>\n",
              "      <td>11.129115</td>\n",
              "      <td>11370.093548</td>\n",
              "      <td>29.802974</td>\n",
              "      <td>46.348142</td>\n",
              "      <td>65.384759</td>\n",
              "    </tr>\n",
              "    <tr>\n",
              "      <th>min</th>\n",
              "      <td>106.000000</td>\n",
              "      <td>34.000000</td>\n",
              "      <td>-1.000000</td>\n",
              "      <td>-1.000000</td>\n",
              "      <td>0.000000</td>\n",
              "    </tr>\n",
              "    <tr>\n",
              "      <th>25%</th>\n",
              "      <td>136.000000</td>\n",
              "      <td>38.000000</td>\n",
              "      <td>92.000000</td>\n",
              "      <td>134.000000</td>\n",
              "      <td>56.250000</td>\n",
              "    </tr>\n",
              "    <tr>\n",
              "      <th>50%</th>\n",
              "      <td>144.931193</td>\n",
              "      <td>46.000000</td>\n",
              "      <td>93.000000</td>\n",
              "      <td>139.000000</td>\n",
              "      <td>112.500000</td>\n",
              "    </tr>\n",
              "    <tr>\n",
              "      <th>75%</th>\n",
              "      <td>155.000000</td>\n",
              "      <td>53.000000</td>\n",
              "      <td>95.000000</td>\n",
              "      <td>149.000000</td>\n",
              "      <td>168.750000</td>\n",
              "    </tr>\n",
              "    <tr>\n",
              "      <th>max</th>\n",
              "      <td>172.000000</td>\n",
              "      <td>61442.000000</td>\n",
              "      <td>98.000000</td>\n",
              "      <td>166.000000</td>\n",
              "      <td>225.000000</td>\n",
              "    </tr>\n",
              "  </tbody>\n",
              "</table>\n",
              "</div>\n",
              "      <button class=\"colab-df-convert\" onclick=\"convertToInteractive('df-2f641497-8602-469a-aa53-6900a359ce61')\"\n",
              "              title=\"Convert this dataframe to an interactive table.\"\n",
              "              style=\"display:none;\">\n",
              "        \n",
              "  <svg xmlns=\"http://www.w3.org/2000/svg\" height=\"24px\"viewBox=\"0 0 24 24\"\n",
              "       width=\"24px\">\n",
              "    <path d=\"M0 0h24v24H0V0z\" fill=\"none\"/>\n",
              "    <path d=\"M18.56 5.44l.94 2.06.94-2.06 2.06-.94-2.06-.94-.94-2.06-.94 2.06-2.06.94zm-11 1L8.5 8.5l.94-2.06 2.06-.94-2.06-.94L8.5 2.5l-.94 2.06-2.06.94zm10 10l.94 2.06.94-2.06 2.06-.94-2.06-.94-.94-2.06-.94 2.06-2.06.94z\"/><path d=\"M17.41 7.96l-1.37-1.37c-.4-.4-.92-.59-1.43-.59-.52 0-1.04.2-1.43.59L10.3 9.45l-7.72 7.72c-.78.78-.78 2.05 0 2.83L4 21.41c.39.39.9.59 1.41.59.51 0 1.02-.2 1.41-.59l7.78-7.78 2.81-2.81c.8-.78.8-2.07 0-2.86zM5.41 20L4 18.59l7.72-7.72 1.47 1.35L5.41 20z\"/>\n",
              "  </svg>\n",
              "      </button>\n",
              "      \n",
              "  <style>\n",
              "    .colab-df-container {\n",
              "      display:flex;\n",
              "      flex-wrap:wrap;\n",
              "      gap: 12px;\n",
              "    }\n",
              "\n",
              "    .colab-df-convert {\n",
              "      background-color: #E8F0FE;\n",
              "      border: none;\n",
              "      border-radius: 50%;\n",
              "      cursor: pointer;\n",
              "      display: none;\n",
              "      fill: #1967D2;\n",
              "      height: 32px;\n",
              "      padding: 0 0 0 0;\n",
              "      width: 32px;\n",
              "    }\n",
              "\n",
              "    .colab-df-convert:hover {\n",
              "      background-color: #E2EBFA;\n",
              "      box-shadow: 0px 1px 2px rgba(60, 64, 67, 0.3), 0px 1px 3px 1px rgba(60, 64, 67, 0.15);\n",
              "      fill: #174EA6;\n",
              "    }\n",
              "\n",
              "    [theme=dark] .colab-df-convert {\n",
              "      background-color: #3B4455;\n",
              "      fill: #D2E3FC;\n",
              "    }\n",
              "\n",
              "    [theme=dark] .colab-df-convert:hover {\n",
              "      background-color: #434B5C;\n",
              "      box-shadow: 0px 1px 3px 1px rgba(0, 0, 0, 0.15);\n",
              "      filter: drop-shadow(0px 1px 2px rgba(0, 0, 0, 0.3));\n",
              "      fill: #FFFFFF;\n",
              "    }\n",
              "  </style>\n",
              "\n",
              "      <script>\n",
              "        const buttonEl =\n",
              "          document.querySelector('#df-2f641497-8602-469a-aa53-6900a359ce61 button.colab-df-convert');\n",
              "        buttonEl.style.display =\n",
              "          google.colab.kernel.accessAllowed ? 'block' : 'none';\n",
              "\n",
              "        async function convertToInteractive(key) {\n",
              "          const element = document.querySelector('#df-2f641497-8602-469a-aa53-6900a359ce61');\n",
              "          const dataTable =\n",
              "            await google.colab.kernel.invokeFunction('convertToInteractive',\n",
              "                                                     [key], {});\n",
              "          if (!dataTable) return;\n",
              "\n",
              "          const docLinkHtml = 'Like what you see? Visit the ' +\n",
              "            '<a target=\"_blank\" href=https://colab.research.google.com/notebooks/data_table.ipynb>data table notebook</a>'\n",
              "            + ' to learn more about interactive tables.';\n",
              "          element.innerHTML = '';\n",
              "          dataTable['output_type'] = 'display_data';\n",
              "          await google.colab.output.renderOutput(dataTable, element);\n",
              "          const docLink = document.createElement('div');\n",
              "          docLink.innerHTML = docLinkHtml;\n",
              "          element.appendChild(docLink);\n",
              "        }\n",
              "      </script>\n",
              "    </div>\n",
              "  </div>\n",
              "  "
            ],
            "text/plain": [
              "       Lifetouch Heart Rate  ...  Minutes-No\n",
              "count            226.000000  ...  226.000000\n",
              "mean             145.862385  ...  112.500000\n",
              "std               11.129115  ...   65.384759\n",
              "min              106.000000  ...    0.000000\n",
              "25%              136.000000  ...   56.250000\n",
              "50%              144.931193  ...  112.500000\n",
              "75%              155.000000  ...  168.750000\n",
              "max              172.000000  ...  225.000000\n",
              "\n",
              "[8 rows x 5 columns]"
            ]
          },
          "metadata": {},
          "execution_count": 8
        }
      ]
    },
    {
      "cell_type": "code",
      "source": [
        "#Plot the time series\n",
        "plt.figure(figsize=(12, 8))\n",
        "plt.plot(df[\"Minutes-No\"], df['Lifetouch Heart Rate'])\n",
        "plt.xticks(np.arange(min(df[\"Minutes-No\"]), max(df[\"Minutes-No\"])+1, 20))\n",
        "plt.legend(labels=\"HeartRate\", loc=2)\n",
        "plt.xlabel(\"Time\")\n",
        "plt.ylabel(\"Heart Rate\")\n",
        "plt.title(\"Times Series Plot(Time vs Heart Rate)\")\n",
        "plt.show()"
      ],
      "metadata": {
        "colab": {
          "base_uri": "https://localhost:8080/",
          "height": 513
        },
        "id": "-Pr7zEyzi9S8",
        "outputId": "f59a7aac-6bad-49f7-83c5-505509868961"
      },
      "execution_count": null,
      "outputs": [
        {
          "output_type": "display_data",
          "data": {
            "image/png": "[encoded data removed]",
            "text/plain": [
              "<Figure size 864x576 with 1 Axes>"
            ]
          },
          "metadata": {
            "needs_background": "light"
          }
        }
      ]
    },
    {
      "cell_type": "code",
      "source": [
        "data=df['Lifetouch Heart Rate']\n",
        "x = pd.plotting.autocorrelation_plot(data)\n",
        " \n",
        "# plotting the Curve\n",
        "x.plot()\n",
        " \n",
        "# Display\n",
        "plt.show()"
      ],
      "metadata": {
        "colab": {
          "base_uri": "https://localhost:8080/",
          "height": 283
        },
        "id": "c32-qN1LjAFc",
        "outputId": "8f7aece9-4616-421e-d389-b20258076c6d"
      },
      "execution_count": null,
      "outputs": [
        {
          "output_type": "display_data",
          "data": {
            "image/png": "[encoded data removed]",
            "text/plain": [
              "<Figure size 432x288 with 1 Axes>"
            ]
          },
          "metadata": {
            "needs_background": "light"
          }
        }
      ]
    },
    {
      "cell_type": "code",
      "source": [
        "# check stationarity of the series\n",
        "def check_stationarity(series):\n",
        "  statistic, p_value, n_lags, critical_values = sm.tsa.stattools.kpss(series)\n",
        "  print(f'p value: {p_value}')\n",
        "  print(f'Result: The series is {\"not \" if p_value < 0.05 else \"\"}stationary \\n')\n",
        "  \n",
        "check_stationarity(df['Lifetouch Heart Rate'])"
      ],
      "metadata": {
        "colab": {
          "base_uri": "https://localhost:8080/"
        },
        "id": "Y1wdzAifjDwX",
        "outputId": "600d103a-3588-4b0d-d0d0-2fe2c5deba70"
      },
      "execution_count": null,
      "outputs": [
        {
          "output_type": "stream",
          "name": "stdout",
          "text": [
            "p value: 0.01\n",
            "Result: The series is not stationary \n",
            "\n"
          ]
        },
        {
          "output_type": "stream",
          "name": "stderr",
          "text": [
            "/usr/local/lib/python3.7/dist-packages/statsmodels/tsa/stattools.py:1685: FutureWarning: The behavior of using lags=None will change in the next release. Currently lags=None is the same as lags='legacy', and so a sample-size lag length is used. After the next release, the default will change to be the same as lags='auto' which uses an automatic lag length selection method. To silence this warning, either use 'auto' or 'legacy'\n",
            "  warn(msg, FutureWarning)\n",
            "/usr/local/lib/python3.7/dist-packages/statsmodels/tsa/stattools.py:1709: InterpolationWarning: p-value is smaller than the indicated p-value\n",
            "  warn(\"p-value is smaller than the indicated p-value\", InterpolationWarning)\n"
          ]
        }
      ]
    },
    {
      "cell_type": "code",
      "source": [
        "from statsmodels.tsa.stattools import adfuller\n",
        "\n",
        "def adf_test(series):\n",
        "    result = adfuller(series, autolag='AIC')\n",
        "    print(f'ADF Statistic: {result[0]}')\n",
        "    print(f'p-value: {result[1]}')\n",
        "    for key, value in result[4].items():\n",
        "        print('Critial Values:')\n",
        "        print(f'   {key}, {value}')\n",
        "\n",
        "series = df.loc[:, 'Lifetouch Heart Rate'].values\n",
        "adf_test(series)"
      ],
      "metadata": {
        "colab": {
          "base_uri": "https://localhost:8080/"
        },
        "id": "dUnvYAOzjNGV",
        "outputId": "e1520e5c-24c1-4166-9c37-4f5518e73e5b"
      },
      "execution_count": null,
      "outputs": [
        {
          "output_type": "stream",
          "name": "stdout",
          "text": [
            "ADF Statistic: -2.3134232628478246\n",
            "p-value: 0.16767524300113734\n",
            "Critial Values:\n",
            "   1%, -3.460154163751041\n",
            "Critial Values:\n",
            "   5%, -2.874648939216792\n",
            "Critial Values:\n",
            "   10%, -2.5737567259151044\n"
          ]
        }
      ]
    },
    {
      "cell_type": "markdown",
      "source": [
        "Log Transformation of the Heart Rate"
      ],
      "metadata": {
        "id": "XBC3maktjSL9"
      }
    },
    {
      "cell_type": "code",
      "source": [
        "# add new column 'Log-Lifetouch Heart Rate' with log transformed values\n",
        "df['Log-LHR'] = np.log(df['Lifetouch Heart Rate']) \n",
        "\n",
        "df.head()"
      ],
      "metadata": {
        "colab": {
          "base_uri": "https://localhost:8080/",
          "height": 238
        },
        "id": "iJb7bYKQjQYs",
        "outputId": "c86c0ab7-15e9-466c-8a8a-ebb684f7eb34"
      },
      "execution_count": null,
      "outputs": [
        {
          "output_type": "execute_result",
          "data": {
            "text/html": [
              "\n",
              "  <div id=\"df-2a9cbc23-b0ab-470d-a35a-fc08f2d7b7c1\">\n",
              "    <div class=\"colab-df-container\">\n",
              "      <div>\n",
              "<style scoped>\n",
              "    .dataframe tbody tr th:only-of-type {\n",
              "        vertical-align: middle;\n",
              "    }\n",
              "\n",
              "    .dataframe tbody tr th {\n",
              "        vertical-align: top;\n",
              "    }\n",
              "\n",
              "    .dataframe thead th {\n",
              "        text-align: right;\n",
              "    }\n",
              "</style>\n",
              "<table border=\"1\" class=\"dataframe\">\n",
              "  <thead>\n",
              "    <tr style=\"text-align: right;\">\n",
              "      <th></th>\n",
              "      <th>Lifetouch Heart Rate</th>\n",
              "      <th>Lifetouch Respiration Rate</th>\n",
              "      <th>Oximeter SpO2</th>\n",
              "      <th>Oximeter Pulse</th>\n",
              "      <th>Minutes-No</th>\n",
              "      <th>Log-LHR</th>\n",
              "    </tr>\n",
              "    <tr>\n",
              "      <th>Timestamp (GMT)</th>\n",
              "      <th></th>\n",
              "      <th></th>\n",
              "      <th></th>\n",
              "      <th></th>\n",
              "      <th></th>\n",
              "      <th></th>\n",
              "    </tr>\n",
              "  </thead>\n",
              "  <tbody>\n",
              "    <tr>\n",
              "      <th>2015-08-17 15:09:00</th>\n",
              "      <td>139.0</td>\n",
              "      <td>41</td>\n",
              "      <td>NaN</td>\n",
              "      <td>NaN</td>\n",
              "      <td>0</td>\n",
              "      <td>4.934474</td>\n",
              "    </tr>\n",
              "    <tr>\n",
              "      <th>2015-08-17 15:10:00</th>\n",
              "      <td>144.0</td>\n",
              "      <td>40</td>\n",
              "      <td>92.0</td>\n",
              "      <td>140.0</td>\n",
              "      <td>1</td>\n",
              "      <td>4.969813</td>\n",
              "    </tr>\n",
              "    <tr>\n",
              "      <th>2015-08-17 15:11:00</th>\n",
              "      <td>140.0</td>\n",
              "      <td>42</td>\n",
              "      <td>89.0</td>\n",
              "      <td>144.0</td>\n",
              "      <td>2</td>\n",
              "      <td>4.941642</td>\n",
              "    </tr>\n",
              "    <tr>\n",
              "      <th>2015-08-17 15:12:00</th>\n",
              "      <td>138.0</td>\n",
              "      <td>45</td>\n",
              "      <td>93.0</td>\n",
              "      <td>141.0</td>\n",
              "      <td>3</td>\n",
              "      <td>4.927254</td>\n",
              "    </tr>\n",
              "    <tr>\n",
              "      <th>2015-08-17 15:13:00</th>\n",
              "      <td>133.0</td>\n",
              "      <td>42</td>\n",
              "      <td>94.0</td>\n",
              "      <td>134.0</td>\n",
              "      <td>4</td>\n",
              "      <td>4.890349</td>\n",
              "    </tr>\n",
              "  </tbody>\n",
              "</table>\n",
              "</div>\n",
              "      <button class=\"colab-df-convert\" onclick=\"convertToInteractive('df-2a9cbc23-b0ab-470d-a35a-fc08f2d7b7c1')\"\n",
              "              title=\"Convert this dataframe to an interactive table.\"\n",
              "              style=\"display:none;\">\n",
              "        \n",
              "  <svg xmlns=\"http://www.w3.org/2000/svg\" height=\"24px\"viewBox=\"0 0 24 24\"\n",
              "       width=\"24px\">\n",
              "    <path d=\"M0 0h24v24H0V0z\" fill=\"none\"/>\n",
              "    <path d=\"M18.56 5.44l.94 2.06.94-2.06 2.06-.94-2.06-.94-.94-2.06-.94 2.06-2.06.94zm-11 1L8.5 8.5l.94-2.06 2.06-.94-2.06-.94L8.5 2.5l-.94 2.06-2.06.94zm10 10l.94 2.06.94-2.06 2.06-.94-2.06-.94-.94-2.06-.94 2.06-2.06.94z\"/><path d=\"M17.41 7.96l-1.37-1.37c-.4-.4-.92-.59-1.43-.59-.52 0-1.04.2-1.43.59L10.3 9.45l-7.72 7.72c-.78.78-.78 2.05 0 2.83L4 21.41c.39.39.9.59 1.41.59.51 0 1.02-.2 1.41-.59l7.78-7.78 2.81-2.81c.8-.78.8-2.07 0-2.86zM5.41 20L4 18.59l7.72-7.72 1.47 1.35L5.41 20z\"/>\n",
              "  </svg>\n",
              "      </button>\n",
              "      \n",
              "  <style>\n",
              "    .colab-df-container {\n",
              "      display:flex;\n",
              "      flex-wrap:wrap;\n",
              "      gap: 12px;\n",
              "    }\n",
              "\n",
              "    .colab-df-convert {\n",
              "      background-color: #E8F0FE;\n",
              "      border: none;\n",
              "      border-radius: 50%;\n",
              "      cursor: pointer;\n",
              "      display: none;\n",
              "      fill: #1967D2;\n",
              "      height: 32px;\n",
              "      padding: 0 0 0 0;\n",
              "      width: 32px;\n",
              "    }\n",
              "\n",
              "    .colab-df-convert:hover {\n",
              "      background-color: #E2EBFA;\n",
              "      box-shadow: 0px 1px 2px rgba(60, 64, 67, 0.3), 0px 1px 3px 1px rgba(60, 64, 67, 0.15);\n",
              "      fill: #174EA6;\n",
              "    }\n",
              "\n",
              "    [theme=dark] .colab-df-convert {\n",
              "      background-color: #3B4455;\n",
              "      fill: #D2E3FC;\n",
              "    }\n",
              "\n",
              "    [theme=dark] .colab-df-convert:hover {\n",
              "      background-color: #434B5C;\n",
              "      box-shadow: 0px 1px 3px 1px rgba(0, 0, 0, 0.15);\n",
              "      filter: drop-shadow(0px 1px 2px rgba(0, 0, 0, 0.3));\n",
              "      fill: #FFFFFF;\n",
              "    }\n",
              "  </style>\n",
              "\n",
              "      <script>\n",
              "        const buttonEl =\n",
              "          document.querySelector('#df-2a9cbc23-b0ab-470d-a35a-fc08f2d7b7c1 button.colab-df-convert');\n",
              "        buttonEl.style.display =\n",
              "          google.colab.kernel.accessAllowed ? 'block' : 'none';\n",
              "\n",
              "        async function convertToInteractive(key) {\n",
              "          const element = document.querySelector('#df-2a9cbc23-b0ab-470d-a35a-fc08f2d7b7c1');\n",
              "          const dataTable =\n",
              "            await google.colab.kernel.invokeFunction('convertToInteractive',\n",
              "                                                     [key], {});\n",
              "          if (!dataTable) return;\n",
              "\n",
              "          const docLinkHtml = 'Like what you see? Visit the ' +\n",
              "            '<a target=\"_blank\" href=https://colab.research.google.com/notebooks/data_table.ipynb>data table notebook</a>'\n",
              "            + ' to learn more about interactive tables.';\n",
              "          element.innerHTML = '';\n",
              "          dataTable['output_type'] = 'display_data';\n",
              "          await google.colab.output.renderOutput(dataTable, element);\n",
              "          const docLink = document.createElement('div');\n",
              "          docLink.innerHTML = docLinkHtml;\n",
              "          element.appendChild(docLink);\n",
              "        }\n",
              "      </script>\n",
              "    </div>\n",
              "  </div>\n",
              "  "
            ],
            "text/plain": [
              "                     Lifetouch Heart Rate  ...   Log-LHR\n",
              "Timestamp (GMT)                            ...          \n",
              "2015-08-17 15:09:00                 139.0  ...  4.934474\n",
              "2015-08-17 15:10:00                 144.0  ...  4.969813\n",
              "2015-08-17 15:11:00                 140.0  ...  4.941642\n",
              "2015-08-17 15:12:00                 138.0  ...  4.927254\n",
              "2015-08-17 15:13:00                 133.0  ...  4.890349\n",
              "\n",
              "[5 rows x 6 columns]"
            ]
          },
          "metadata": {},
          "execution_count": 13
        }
      ]
    },
    {
      "cell_type": "code",
      "source": [
        "# plot time series (after log transformation)\n",
        "\n",
        "plt.figure(figsize=(12, 8))\n",
        "plt.plot(df[\"Minutes-No\"], df['Log-LHR'])\n",
        "plt.xticks(np.arange(min(df[\"Minutes-No\"]), max(df[\"Minutes-No\"])+1, 20))\n",
        "plt.legend(labels=\"HeartRate\", loc=2)\n",
        "plt.title(\"Logrithmic Plot of Time Series\")\n",
        "plt.show()"
      ],
      "metadata": {
        "colab": {
          "base_uri": "https://localhost:8080/",
          "height": 499
        },
        "id": "r4cQnivYjZLz",
        "outputId": "98e9081f-a347-48eb-c7fd-404a6ae1744a"
      },
      "execution_count": null,
      "outputs": [
        {
          "output_type": "display_data",
          "data": {
            "image/png": "[encoded data removed]",
            "text/plain": [
              "<Figure size 864x576 with 1 Axes>"
            ]
          },
          "metadata": {
            "needs_background": "light"
          }
        }
      ]
    },
    {
      "cell_type": "markdown",
      "source": [
        "Deseasonalization of the Heart Rate"
      ],
      "metadata": {
        "id": "g-H80hynjheU"
      }
    },
    {
      "cell_type": "code",
      "source": [
        "df['Deseasonalised-LHR'] = df[['Log-LHR']].diff(axis=0, periods=12)\n",
        "df.head(15)"
      ],
      "metadata": {
        "colab": {
          "base_uri": "https://localhost:8080/",
          "height": 595
        },
        "id": "ZQaunOg4jebw",
        "outputId": "283beefc-fe74-44f2-e488-f2db92de2cf7"
      },
      "execution_count": null,
      "outputs": [
        {
          "output_type": "execute_result",
          "data": {
            "text/html": [
              "\n",
              "  <div id=\"df-29b61398-1998-4137-88f6-7b98fc8b2e5b\">\n",
              "    <div class=\"colab-df-container\">\n",
              "      <div>\n",
              "<style scoped>\n",
              "    .dataframe tbody tr th:only-of-type {\n",
              "        vertical-align: middle;\n",
              "    }\n",
              "\n",
              "    .dataframe tbody tr th {\n",
              "        vertical-align: top;\n",
              "    }\n",
              "\n",
              "    .dataframe thead th {\n",
              "        text-align: right;\n",
              "    }\n",
              "</style>\n",
              "<table border=\"1\" class=\"dataframe\">\n",
              "  <thead>\n",
              "    <tr style=\"text-align: right;\">\n",
              "      <th></th>\n",
              "      <th>Lifetouch Heart Rate</th>\n",
              "      <th>Lifetouch Respiration Rate</th>\n",
              "      <th>Oximeter SpO2</th>\n",
              "      <th>Oximeter Pulse</th>\n",
              "      <th>Minutes-No</th>\n",
              "      <th>Log-LHR</th>\n",
              "      <th>Deseasonalised-LHR</th>\n",
              "    </tr>\n",
              "    <tr>\n",
              "      <th>Timestamp (GMT)</th>\n",
              "      <th></th>\n",
              "      <th></th>\n",
              "      <th></th>\n",
              "      <th></th>\n",
              "      <th></th>\n",
              "      <th></th>\n",
              "      <th></th>\n",
              "    </tr>\n",
              "  </thead>\n",
              "  <tbody>\n",
              "    <tr>\n",
              "      <th>2015-08-17 15:09:00</th>\n",
              "      <td>139.0</td>\n",
              "      <td>41</td>\n",
              "      <td>NaN</td>\n",
              "      <td>NaN</td>\n",
              "      <td>0</td>\n",
              "      <td>4.934474</td>\n",
              "      <td>NaN</td>\n",
              "    </tr>\n",
              "    <tr>\n",
              "      <th>2015-08-17 15:10:00</th>\n",
              "      <td>144.0</td>\n",
              "      <td>40</td>\n",
              "      <td>92.0</td>\n",
              "      <td>140.0</td>\n",
              "      <td>1</td>\n",
              "      <td>4.969813</td>\n",
              "      <td>NaN</td>\n",
              "    </tr>\n",
              "    <tr>\n",
              "      <th>2015-08-17 15:11:00</th>\n",
              "      <td>140.0</td>\n",
              "      <td>42</td>\n",
              "      <td>89.0</td>\n",
              "      <td>144.0</td>\n",
              "      <td>2</td>\n",
              "      <td>4.941642</td>\n",
              "      <td>NaN</td>\n",
              "    </tr>\n",
              "    <tr>\n",
              "      <th>2015-08-17 15:12:00</th>\n",
              "      <td>138.0</td>\n",
              "      <td>45</td>\n",
              "      <td>93.0</td>\n",
              "      <td>141.0</td>\n",
              "      <td>3</td>\n",
              "      <td>4.927254</td>\n",
              "      <td>NaN</td>\n",
              "    </tr>\n",
              "    <tr>\n",
              "      <th>2015-08-17 15:13:00</th>\n",
              "      <td>133.0</td>\n",
              "      <td>42</td>\n",
              "      <td>94.0</td>\n",
              "      <td>134.0</td>\n",
              "      <td>4</td>\n",
              "      <td>4.890349</td>\n",
              "      <td>NaN</td>\n",
              "    </tr>\n",
              "    <tr>\n",
              "      <th>2015-08-17 15:14:00</th>\n",
              "      <td>132.0</td>\n",
              "      <td>41</td>\n",
              "      <td>92.0</td>\n",
              "      <td>134.0</td>\n",
              "      <td>5</td>\n",
              "      <td>4.882802</td>\n",
              "      <td>NaN</td>\n",
              "    </tr>\n",
              "    <tr>\n",
              "      <th>2015-08-17 15:15:00</th>\n",
              "      <td>132.0</td>\n",
              "      <td>47</td>\n",
              "      <td>92.0</td>\n",
              "      <td>135.0</td>\n",
              "      <td>6</td>\n",
              "      <td>4.882802</td>\n",
              "      <td>NaN</td>\n",
              "    </tr>\n",
              "    <tr>\n",
              "      <th>2015-08-17 15:16:00</th>\n",
              "      <td>133.0</td>\n",
              "      <td>44</td>\n",
              "      <td>92.0</td>\n",
              "      <td>135.0</td>\n",
              "      <td>7</td>\n",
              "      <td>4.890349</td>\n",
              "      <td>NaN</td>\n",
              "    </tr>\n",
              "    <tr>\n",
              "      <th>2015-08-17 15:17:00</th>\n",
              "      <td>136.0</td>\n",
              "      <td>45</td>\n",
              "      <td>94.0</td>\n",
              "      <td>136.0</td>\n",
              "      <td>8</td>\n",
              "      <td>4.912655</td>\n",
              "      <td>NaN</td>\n",
              "    </tr>\n",
              "    <tr>\n",
              "      <th>2015-08-17 15:18:00</th>\n",
              "      <td>137.0</td>\n",
              "      <td>42</td>\n",
              "      <td>93.0</td>\n",
              "      <td>138.0</td>\n",
              "      <td>9</td>\n",
              "      <td>4.919981</td>\n",
              "      <td>NaN</td>\n",
              "    </tr>\n",
              "    <tr>\n",
              "      <th>2015-08-17 15:19:00</th>\n",
              "      <td>136.0</td>\n",
              "      <td>41</td>\n",
              "      <td>93.0</td>\n",
              "      <td>136.0</td>\n",
              "      <td>10</td>\n",
              "      <td>4.912655</td>\n",
              "      <td>NaN</td>\n",
              "    </tr>\n",
              "    <tr>\n",
              "      <th>2015-08-17 15:20:00</th>\n",
              "      <td>137.0</td>\n",
              "      <td>46</td>\n",
              "      <td>93.0</td>\n",
              "      <td>137.0</td>\n",
              "      <td>11</td>\n",
              "      <td>4.919981</td>\n",
              "      <td>NaN</td>\n",
              "    </tr>\n",
              "    <tr>\n",
              "      <th>2015-08-17 15:21:00</th>\n",
              "      <td>139.0</td>\n",
              "      <td>42</td>\n",
              "      <td>94.0</td>\n",
              "      <td>138.0</td>\n",
              "      <td>12</td>\n",
              "      <td>4.934474</td>\n",
              "      <td>0.000000</td>\n",
              "    </tr>\n",
              "    <tr>\n",
              "      <th>2015-08-17 15:22:00</th>\n",
              "      <td>138.0</td>\n",
              "      <td>44</td>\n",
              "      <td>94.0</td>\n",
              "      <td>140.0</td>\n",
              "      <td>13</td>\n",
              "      <td>4.927254</td>\n",
              "      <td>-0.042560</td>\n",
              "    </tr>\n",
              "    <tr>\n",
              "      <th>2015-08-17 15:23:00</th>\n",
              "      <td>141.0</td>\n",
              "      <td>42</td>\n",
              "      <td>95.0</td>\n",
              "      <td>141.0</td>\n",
              "      <td>14</td>\n",
              "      <td>4.948760</td>\n",
              "      <td>0.007117</td>\n",
              "    </tr>\n",
              "  </tbody>\n",
              "</table>\n",
              "</div>\n",
              "      <button class=\"colab-df-convert\" onclick=\"convertToInteractive('df-29b61398-1998-4137-88f6-7b98fc8b2e5b')\"\n",
              "              title=\"Convert this dataframe to an interactive table.\"\n",
              "              style=\"display:none;\">\n",
              "        \n",
              "  <svg xmlns=\"http://www.w3.org/2000/svg\" height=\"24px\"viewBox=\"0 0 24 24\"\n",
              "       width=\"24px\">\n",
              "    <path d=\"M0 0h24v24H0V0z\" fill=\"none\"/>\n",
              "    <path d=\"M18.56 5.44l.94 2.06.94-2.06 2.06-.94-2.06-.94-.94-2.06-.94 2.06-2.06.94zm-11 1L8.5 8.5l.94-2.06 2.06-.94-2.06-.94L8.5 2.5l-.94 2.06-2.06.94zm10 10l.94 2.06.94-2.06 2.06-.94-2.06-.94-.94-2.06-.94 2.06-2.06.94z\"/><path d=\"M17.41 7.96l-1.37-1.37c-.4-.4-.92-.59-1.43-.59-.52 0-1.04.2-1.43.59L10.3 9.45l-7.72 7.72c-.78.78-.78 2.05 0 2.83L4 21.41c.39.39.9.59 1.41.59.51 0 1.02-.2 1.41-.59l7.78-7.78 2.81-2.81c.8-.78.8-2.07 0-2.86zM5.41 20L4 18.59l7.72-7.72 1.47 1.35L5.41 20z\"/>\n",
              "  </svg>\n",
              "      </button>\n",
              "      \n",
              "  <style>\n",
              "    .colab-df-container {\n",
              "      display:flex;\n",
              "      flex-wrap:wrap;\n",
              "      gap: 12px;\n",
              "    }\n",
              "\n",
              "    .colab-df-convert {\n",
              "      background-color: #E8F0FE;\n",
              "      border: none;\n",
              "      border-radius: 50%;\n",
              "      cursor: pointer;\n",
              "      display: none;\n",
              "      fill: #1967D2;\n",
              "      height: 32px;\n",
              "      padding: 0 0 0 0;\n",
              "      width: 32px;\n",
              "    }\n",
              "\n",
              "    .colab-df-convert:hover {\n",
              "      background-color: #E2EBFA;\n",
              "      box-shadow: 0px 1px 2px rgba(60, 64, 67, 0.3), 0px 1px 3px 1px rgba(60, 64, 67, 0.15);\n",
              "      fill: #174EA6;\n",
              "    }\n",
              "\n",
              "    [theme=dark] .colab-df-convert {\n",
              "      background-color: #3B4455;\n",
              "      fill: #D2E3FC;\n",
              "    }\n",
              "\n",
              "    [theme=dark] .colab-df-convert:hover {\n",
              "      background-color: #434B5C;\n",
              "      box-shadow: 0px 1px 3px 1px rgba(0, 0, 0, 0.15);\n",
              "      filter: drop-shadow(0px 1px 2px rgba(0, 0, 0, 0.3));\n",
              "      fill: #FFFFFF;\n",
              "    }\n",
              "  </style>\n",
              "\n",
              "      <script>\n",
              "        const buttonEl =\n",
              "          document.querySelector('#df-29b61398-1998-4137-88f6-7b98fc8b2e5b button.colab-df-convert');\n",
              "        buttonEl.style.display =\n",
              "          google.colab.kernel.accessAllowed ? 'block' : 'none';\n",
              "\n",
              "        async function convertToInteractive(key) {\n",
              "          const element = document.querySelector('#df-29b61398-1998-4137-88f6-7b98fc8b2e5b');\n",
              "          const dataTable =\n",
              "            await google.colab.kernel.invokeFunction('convertToInteractive',\n",
              "                                                     [key], {});\n",
              "          if (!dataTable) return;\n",
              "\n",
              "          const docLinkHtml = 'Like what you see? Visit the ' +\n",
              "            '<a target=\"_blank\" href=https://colab.research.google.com/notebooks/data_table.ipynb>data table notebook</a>'\n",
              "            + ' to learn more about interactive tables.';\n",
              "          element.innerHTML = '';\n",
              "          dataTable['output_type'] = 'display_data';\n",
              "          await google.colab.output.renderOutput(dataTable, element);\n",
              "          const docLink = document.createElement('div');\n",
              "          docLink.innerHTML = docLinkHtml;\n",
              "          element.appendChild(docLink);\n",
              "        }\n",
              "      </script>\n",
              "    </div>\n",
              "  </div>\n",
              "  "
            ],
            "text/plain": [
              "                     Lifetouch Heart Rate  ...  Deseasonalised-LHR\n",
              "Timestamp (GMT)                            ...                    \n",
              "2015-08-17 15:09:00                 139.0  ...                 NaN\n",
              "2015-08-17 15:10:00                 144.0  ...                 NaN\n",
              "2015-08-17 15:11:00                 140.0  ...                 NaN\n",
              "2015-08-17 15:12:00                 138.0  ...                 NaN\n",
              "2015-08-17 15:13:00                 133.0  ...                 NaN\n",
              "2015-08-17 15:14:00                 132.0  ...                 NaN\n",
              "2015-08-17 15:15:00                 132.0  ...                 NaN\n",
              "2015-08-17 15:16:00                 133.0  ...                 NaN\n",
              "2015-08-17 15:17:00                 136.0  ...                 NaN\n",
              "2015-08-17 15:18:00                 137.0  ...                 NaN\n",
              "2015-08-17 15:19:00                 136.0  ...                 NaN\n",
              "2015-08-17 15:20:00                 137.0  ...                 NaN\n",
              "2015-08-17 15:21:00                 139.0  ...            0.000000\n",
              "2015-08-17 15:22:00                 138.0  ...           -0.042560\n",
              "2015-08-17 15:23:00                 141.0  ...            0.007117\n",
              "\n",
              "[15 rows x 7 columns]"
            ]
          },
          "metadata": {},
          "execution_count": 15
        }
      ]
    },
    {
      "cell_type": "code",
      "source": [
        "# plot time series\n",
        "plt.figure(figsize=(12, 8))\n",
        "plt.plot(df[\"Minutes-No\"], df['Deseasonalised-LHR'])\n",
        "plt.xticks(np.arange(min(df[\"Minutes-No\"]), max(df[\"Minutes-No\"])+1, 20))\n",
        "plt.legend(labels=\"HeartRate\", loc=2)\n",
        "plt.title(\"Deseasonalized Plot of Time Series\")\n",
        "plt.show()"
      ],
      "metadata": {
        "colab": {
          "base_uri": "https://localhost:8080/",
          "height": 499
        },
        "id": "cOVFAXXZjlNv",
        "outputId": "c1f02a2d-1613-4f51-e0e5-b99c4e5ee489"
      },
      "execution_count": null,
      "outputs": [
        {
          "output_type": "display_data",
          "data": {
            "image/png": "[encoded data removed]",
            "text/plain": [
              "<Figure size 864x576 with 1 Axes>"
            ]
          },
          "metadata": {
            "needs_background": "light"
          }
        }
      ]
    },
    {
      "cell_type": "code",
      "source": [
        "df['Differenced-LHR'] = df[['Deseasonalised-LHR']].diff(axis=0, periods=1)\n",
        "df.tail(15)"
      ],
      "metadata": {
        "colab": {
          "base_uri": "https://localhost:8080/",
          "height": 873
        },
        "id": "Qr9IRtVCjomx",
        "outputId": "d07123c9-60b8-4ad8-bb73-3ed827528f85"
      },
      "execution_count": null,
      "outputs": [
        {
          "output_type": "execute_result",
          "data": {
            "text/html": [
              "\n",
              "  <div id=\"df-30ed3ffb-952b-42ef-8929-d255ea2d82af\">\n",
              "    <div class=\"colab-df-container\">\n",
              "      <div>\n",
              "<style scoped>\n",
              "    .dataframe tbody tr th:only-of-type {\n",
              "        vertical-align: middle;\n",
              "    }\n",
              "\n",
              "    .dataframe tbody tr th {\n",
              "        vertical-align: top;\n",
              "    }\n",
              "\n",
              "    .dataframe thead th {\n",
              "        text-align: right;\n",
              "    }\n",
              "</style>\n",
              "<table border=\"1\" class=\"dataframe\">\n",
              "  <thead>\n",
              "    <tr style=\"text-align: right;\">\n",
              "      <th></th>\n",
              "      <th>Lifetouch Heart Rate</th>\n",
              "      <th>Lifetouch Respiration Rate</th>\n",
              "      <th>Oximeter SpO2</th>\n",
              "      <th>Oximeter Pulse</th>\n",
              "      <th>Minutes-No</th>\n",
              "      <th>Log-LHR</th>\n",
              "      <th>Deseasonalised-LHR</th>\n",
              "      <th>Differenced-LHR</th>\n",
              "    </tr>\n",
              "    <tr>\n",
              "      <th>Timestamp (GMT)</th>\n",
              "      <th></th>\n",
              "      <th></th>\n",
              "      <th></th>\n",
              "      <th></th>\n",
              "      <th></th>\n",
              "      <th></th>\n",
              "      <th></th>\n",
              "      <th></th>\n",
              "    </tr>\n",
              "  </thead>\n",
              "  <tbody>\n",
              "    <tr>\n",
              "      <th>2015-08-17 18:40:00</th>\n",
              "      <td>148.0</td>\n",
              "      <td>51</td>\n",
              "      <td>97.0</td>\n",
              "      <td>150.0</td>\n",
              "      <td>211</td>\n",
              "      <td>4.997212</td>\n",
              "      <td>-0.065383</td>\n",
              "      <td>-0.025642</td>\n",
              "    </tr>\n",
              "    <tr>\n",
              "      <th>2015-08-17 18:41:00</th>\n",
              "      <td>152.0</td>\n",
              "      <td>55</td>\n",
              "      <td>98.0</td>\n",
              "      <td>152.0</td>\n",
              "      <td>212</td>\n",
              "      <td>5.023881</td>\n",
              "      <td>-0.019545</td>\n",
              "      <td>0.045838</td>\n",
              "    </tr>\n",
              "    <tr>\n",
              "      <th>2015-08-17 18:42:00</th>\n",
              "      <td>152.0</td>\n",
              "      <td>54</td>\n",
              "      <td>97.0</td>\n",
              "      <td>142.0</td>\n",
              "      <td>213</td>\n",
              "      <td>5.023881</td>\n",
              "      <td>0.013245</td>\n",
              "      <td>0.032790</td>\n",
              "    </tr>\n",
              "    <tr>\n",
              "      <th>2015-08-17 18:43:00</th>\n",
              "      <td>150.0</td>\n",
              "      <td>54</td>\n",
              "      <td>98.0</td>\n",
              "      <td>151.0</td>\n",
              "      <td>214</td>\n",
              "      <td>5.010635</td>\n",
              "      <td>0.006689</td>\n",
              "      <td>-0.006556</td>\n",
              "    </tr>\n",
              "    <tr>\n",
              "      <th>2015-08-17 18:44:00</th>\n",
              "      <td>153.0</td>\n",
              "      <td>51</td>\n",
              "      <td>NaN</td>\n",
              "      <td>NaN</td>\n",
              "      <td>215</td>\n",
              "      <td>5.030438</td>\n",
              "      <td>0.033226</td>\n",
              "      <td>0.026537</td>\n",
              "    </tr>\n",
              "    <tr>\n",
              "      <th>2015-08-17 18:45:00</th>\n",
              "      <td>158.0</td>\n",
              "      <td>53</td>\n",
              "      <td>95.0</td>\n",
              "      <td>31.0</td>\n",
              "      <td>216</td>\n",
              "      <td>5.062595</td>\n",
              "      <td>0.012739</td>\n",
              "      <td>-0.020487</td>\n",
              "    </tr>\n",
              "    <tr>\n",
              "      <th>2015-08-17 18:46:00</th>\n",
              "      <td>158.0</td>\n",
              "      <td>48</td>\n",
              "      <td>-1.0</td>\n",
              "      <td>-1.0</td>\n",
              "      <td>217</td>\n",
              "      <td>5.062595</td>\n",
              "      <td>0.000000</td>\n",
              "      <td>-0.012739</td>\n",
              "    </tr>\n",
              "    <tr>\n",
              "      <th>2015-08-17 18:47:00</th>\n",
              "      <td>154.0</td>\n",
              "      <td>49</td>\n",
              "      <td>NaN</td>\n",
              "      <td>NaN</td>\n",
              "      <td>218</td>\n",
              "      <td>5.036953</td>\n",
              "      <td>-0.031952</td>\n",
              "      <td>-0.031952</td>\n",
              "    </tr>\n",
              "    <tr>\n",
              "      <th>2015-08-17 18:48:00</th>\n",
              "      <td>155.0</td>\n",
              "      <td>54</td>\n",
              "      <td>NaN</td>\n",
              "      <td>NaN</td>\n",
              "      <td>219</td>\n",
              "      <td>5.043425</td>\n",
              "      <td>-0.031749</td>\n",
              "      <td>0.000203</td>\n",
              "    </tr>\n",
              "    <tr>\n",
              "      <th>2015-08-17 18:49:00</th>\n",
              "      <td>157.0</td>\n",
              "      <td>52</td>\n",
              "      <td>NaN</td>\n",
              "      <td>NaN</td>\n",
              "      <td>220</td>\n",
              "      <td>5.056246</td>\n",
              "      <td>0.012821</td>\n",
              "      <td>0.044569</td>\n",
              "    </tr>\n",
              "    <tr>\n",
              "      <th>2015-08-17 18:50:00</th>\n",
              "      <td>159.0</td>\n",
              "      <td>51</td>\n",
              "      <td>NaN</td>\n",
              "      <td>NaN</td>\n",
              "      <td>221</td>\n",
              "      <td>5.068904</td>\n",
              "      <td>0.025479</td>\n",
              "      <td>0.012658</td>\n",
              "    </tr>\n",
              "    <tr>\n",
              "      <th>2015-08-17 18:51:00</th>\n",
              "      <td>151.0</td>\n",
              "      <td>64</td>\n",
              "      <td>NaN</td>\n",
              "      <td>NaN</td>\n",
              "      <td>222</td>\n",
              "      <td>5.017280</td>\n",
              "      <td>0.020068</td>\n",
              "      <td>-0.005412</td>\n",
              "    </tr>\n",
              "    <tr>\n",
              "      <th>2015-08-17 18:52:00</th>\n",
              "      <td>140.0</td>\n",
              "      <td>64</td>\n",
              "      <td>NaN</td>\n",
              "      <td>NaN</td>\n",
              "      <td>223</td>\n",
              "      <td>4.941642</td>\n",
              "      <td>-0.055570</td>\n",
              "      <td>-0.075637</td>\n",
              "    </tr>\n",
              "    <tr>\n",
              "      <th>2015-08-17 18:53:00</th>\n",
              "      <td>140.0</td>\n",
              "      <td>55</td>\n",
              "      <td>NaN</td>\n",
              "      <td>NaN</td>\n",
              "      <td>224</td>\n",
              "      <td>4.941642</td>\n",
              "      <td>-0.082238</td>\n",
              "      <td>-0.026668</td>\n",
              "    </tr>\n",
              "    <tr>\n",
              "      <th>2015-08-17 18:54:00</th>\n",
              "      <td>138.0</td>\n",
              "      <td>54</td>\n",
              "      <td>NaN</td>\n",
              "      <td>NaN</td>\n",
              "      <td>225</td>\n",
              "      <td>4.927254</td>\n",
              "      <td>-0.096627</td>\n",
              "      <td>-0.014389</td>\n",
              "    </tr>\n",
              "  </tbody>\n",
              "</table>\n",
              "</div>\n",
              "      <button class=\"colab-df-convert\" onclick=\"convertToInteractive('df-30ed3ffb-952b-42ef-8929-d255ea2d82af')\"\n",
              "              title=\"Convert this dataframe to an interactive table.\"\n",
              "              style=\"display:none;\">\n",
              "        \n",
              "  <svg xmlns=\"http://www.w3.org/2000/svg\" height=\"24px\"viewBox=\"0 0 24 24\"\n",
              "       width=\"24px\">\n",
              "    <path d=\"M0 0h24v24H0V0z\" fill=\"none\"/>\n",
              "    <path d=\"M18.56 5.44l.94 2.06.94-2.06 2.06-.94-2.06-.94-.94-2.06-.94 2.06-2.06.94zm-11 1L8.5 8.5l.94-2.06 2.06-.94-2.06-.94L8.5 2.5l-.94 2.06-2.06.94zm10 10l.94 2.06.94-2.06 2.06-.94-2.06-.94-.94-2.06-.94 2.06-2.06.94z\"/><path d=\"M17.41 7.96l-1.37-1.37c-.4-.4-.92-.59-1.43-.59-.52 0-1.04.2-1.43.59L10.3 9.45l-7.72 7.72c-.78.78-.78 2.05 0 2.83L4 21.41c.39.39.9.59 1.41.59.51 0 1.02-.2 1.41-.59l7.78-7.78 2.81-2.81c.8-.78.8-2.07 0-2.86zM5.41 20L4 18.59l7.72-7.72 1.47 1.35L5.41 20z\"/>\n",
              "  </svg>\n",
              "      </button>\n",
              "      \n",
              "  <style>\n",
              "    .colab-df-container {\n",
              "      display:flex;\n",
              "      flex-wrap:wrap;\n",
              "      gap: 12px;\n",
              "    }\n",
              "\n",
              "    .colab-df-convert {\n",
              "      background-color: #E8F0FE;\n",
              "      border: none;\n",
              "      border-radius: 50%;\n",
              "      cursor: pointer;\n",
              "      display: none;\n",
              "      fill: #1967D2;\n",
              "      height: 32px;\n",
              "      padding: 0 0 0 0;\n",
              "      width: 32px;\n",
              "    }\n",
              "\n",
              "    .colab-df-convert:hover {\n",
              "      background-color: #E2EBFA;\n",
              "      box-shadow: 0px 1px 2px rgba(60, 64, 67, 0.3), 0px 1px 3px 1px rgba(60, 64, 67, 0.15);\n",
              "      fill: #174EA6;\n",
              "    }\n",
              "\n",
              "    [theme=dark] .colab-df-convert {\n",
              "      background-color: #3B4455;\n",
              "      fill: #D2E3FC;\n",
              "    }\n",
              "\n",
              "    [theme=dark] .colab-df-convert:hover {\n",
              "      background-color: #434B5C;\n",
              "      box-shadow: 0px 1px 3px 1px rgba(0, 0, 0, 0.15);\n",
              "      filter: drop-shadow(0px 1px 2px rgba(0, 0, 0, 0.3));\n",
              "      fill: #FFFFFF;\n",
              "    }\n",
              "  </style>\n",
              "\n",
              "      <script>\n",
              "        const buttonEl =\n",
              "          document.querySelector('#df-30ed3ffb-952b-42ef-8929-d255ea2d82af button.colab-df-convert');\n",
              "        buttonEl.style.display =\n",
              "          google.colab.kernel.accessAllowed ? 'block' : 'none';\n",
              "\n",
              "        async function convertToInteractive(key) {\n",
              "          const element = document.querySelector('#df-30ed3ffb-952b-42ef-8929-d255ea2d82af');\n",
              "          const dataTable =\n",
              "            await google.colab.kernel.invokeFunction('convertToInteractive',\n",
              "                                                     [key], {});\n",
              "          if (!dataTable) return;\n",
              "\n",
              "          const docLinkHtml = 'Like what you see? Visit the ' +\n",
              "            '<a target=\"_blank\" href=https://colab.research.google.com/notebooks/data_table.ipynb>data table notebook</a>'\n",
              "            + ' to learn more about interactive tables.';\n",
              "          element.innerHTML = '';\n",
              "          dataTable['output_type'] = 'display_data';\n",
              "          await google.colab.output.renderOutput(dataTable, element);\n",
              "          const docLink = document.createElement('div');\n",
              "          docLink.innerHTML = docLinkHtml;\n",
              "          element.appendChild(docLink);\n",
              "        }\n",
              "      </script>\n",
              "    </div>\n",
              "  </div>\n",
              "  "
            ],
            "text/plain": [
              "                     Lifetouch Heart Rate  ...  Differenced-LHR\n",
              "Timestamp (GMT)                            ...                 \n",
              "2015-08-17 18:40:00                 148.0  ...        -0.025642\n",
              "2015-08-17 18:41:00                 152.0  ...         0.045838\n",
              "2015-08-17 18:42:00                 152.0  ...         0.032790\n",
              "2015-08-17 18:43:00                 150.0  ...        -0.006556\n",
              "2015-08-17 18:44:00                 153.0  ...         0.026537\n",
              "2015-08-17 18:45:00                 158.0  ...        -0.020487\n",
              "2015-08-17 18:46:00                 158.0  ...        -0.012739\n",
              "2015-08-17 18:47:00                 154.0  ...        -0.031952\n",
              "2015-08-17 18:48:00                 155.0  ...         0.000203\n",
              "2015-08-17 18:49:00                 157.0  ...         0.044569\n",
              "2015-08-17 18:50:00                 159.0  ...         0.012658\n",
              "2015-08-17 18:51:00                 151.0  ...        -0.005412\n",
              "2015-08-17 18:52:00                 140.0  ...        -0.075637\n",
              "2015-08-17 18:53:00                 140.0  ...        -0.026668\n",
              "2015-08-17 18:54:00                 138.0  ...        -0.014389\n",
              "\n",
              "[15 rows x 8 columns]"
            ]
          },
          "metadata": {},
          "execution_count": 17
        }
      ]
    },
    {
      "cell_type": "code",
      "source": [
        "# plot time series\n",
        "plt.figure(figsize=(12, 8))\n",
        "plt.plot(df[\"Minutes-No\"], df['Differenced-LHR'])\n",
        "plt.xticks(np.arange(min(df[\"Minutes-No\"]), max(df[\"Minutes-No\"])+1, 20))\n",
        "plt.legend(labels=\"HeartRate\", loc=2)\n",
        "plt.title(\"Differenced Plot of Time Series\")\n",
        "plt.show()"
      ],
      "metadata": {
        "colab": {
          "base_uri": "https://localhost:8080/",
          "height": 499
        },
        "id": "iSdpqVb_jwbm",
        "outputId": "3ff2e3c8-f875-4a0f-c8d8-83e5be55bbe1"
      },
      "execution_count": null,
      "outputs": [
        {
          "output_type": "display_data",
          "data": {
            "image/png": "[encoded data removed]",
            "text/plain": [
              "<Figure size 864x576 with 1 Axes>"
            ]
          },
          "metadata": {
            "needs_background": "light"
          }
        }
      ]
    },
    {
      "cell_type": "code",
      "source": [
        "check_stationarity(df['Differenced-LHR'][13:])"
      ],
      "metadata": {
        "colab": {
          "base_uri": "https://localhost:8080/"
        },
        "id": "mq7H1_QBkOCe",
        "outputId": "cbdfc8bf-8a24-408e-febf-5fb4a8d882a4"
      },
      "execution_count": null,
      "outputs": [
        {
          "output_type": "stream",
          "name": "stdout",
          "text": [
            "p value: 0.1\n",
            "Result: The series is stationary \n",
            "\n"
          ]
        },
        {
          "output_type": "stream",
          "name": "stderr",
          "text": [
            "/usr/local/lib/python3.7/dist-packages/statsmodels/tsa/stattools.py:1685: FutureWarning: The behavior of using lags=None will change in the next release. Currently lags=None is the same as lags='legacy', and so a sample-size lag length is used. After the next release, the default will change to be the same as lags='auto' which uses an automatic lag length selection method. To silence this warning, either use 'auto' or 'legacy'\n",
            "  warn(msg, FutureWarning)\n",
            "/usr/local/lib/python3.7/dist-packages/statsmodels/tsa/stattools.py:1711: InterpolationWarning: p-value is greater than the indicated p-value\n",
            "  warn(\"p-value is greater than the indicated p-value\", InterpolationWarning)\n"
          ]
        }
      ]
    },
    {
      "cell_type": "code",
      "source": [
        "series = df['Differenced-LHR'][13:]\n",
        "adf_test(series)"
      ],
      "metadata": {
        "colab": {
          "base_uri": "https://localhost:8080/"
        },
        "id": "vIeRBl0-kQ3J",
        "outputId": "4161d088-7f0a-4ee8-ccb2-0c4dd2f1c1d3"
      },
      "execution_count": null,
      "outputs": [
        {
          "output_type": "stream",
          "name": "stdout",
          "text": [
            "ADF Statistic: -7.43731942309769\n",
            "p-value: 6.134605892405097e-11\n",
            "Critial Values:\n",
            "   1%, -3.463476079125\n",
            "Critial Values:\n",
            "   5%, -2.876102355\n",
            "Critial Values:\n",
            "   10%, -2.574532225\n"
          ]
        }
      ]
    },
    {
      "cell_type": "markdown",
      "source": [
        "Modelling"
      ],
      "metadata": {
        "id": "9NlvuiMUks_e"
      }
    },
    {
      "cell_type": "markdown",
      "source": [
        "SARIMAX"
      ],
      "metadata": {
        "id": "MfpHAWNbkvMx"
      }
    },
    {
      "cell_type": "code",
      "source": [
        "# order - The (p,d,q) order of the model for the number of AR parameters, differences, and MA parameters.\n",
        "# seasonal_order - The (P,D,Q,s) order of the seasonal component of the model for the AR parameters, differences, MA parameters, and periodicity.\n",
        "model = sm.tsa.statespace.SARIMAX(df['Lifetouch Heart Rate'],\n",
        "                                  order=(0, 0, 1),\n",
        "                                  seasonal_order=(0, 0, 0, 12),\n",
        "                                  enforce_stationarity=False,\n",
        "                                  enforce_invertibility=False)\n",
        "# train model\n",
        "model_fit = model.fit()\n",
        "print(model_fit.summary())"
      ],
      "metadata": {
        "colab": {
          "base_uri": "https://localhost:8080/"
        },
        "id": "ezwBofA1kruH",
        "outputId": "c6bccb04-8275-4135-9f2b-cea477b33323"
      },
      "execution_count": null,
      "outputs": [
        {
          "output_type": "stream",
          "name": "stdout",
          "text": [
            "                            Statespace Model Results                            \n",
            "================================================================================\n",
            "Dep. Variable:     Lifetouch Heart Rate   No. Observations:                  226\n",
            "Model:                 SARIMAX(0, 0, 1)   Log Likelihood               -1285.209\n",
            "Date:                  Fri, 18 Feb 2022   AIC                           2574.417\n",
            "Time:                          16:07:05   BIC                           2581.241\n",
            "Sample:                      08-17-2015   HQIC                          2577.171\n",
            "                           - 08-17-2015                                         \n",
            "Covariance Type:                    opg                                         \n",
            "==============================================================================\n",
            "                 coef    std err          z      P>|z|      [0.025      0.975]\n",
            "------------------------------------------------------------------------------\n",
            "ma.L1          1.0000     35.975      0.028      0.978     -69.511      71.511\n",
            "sigma2      5503.4623   1.97e+05      0.028      0.978    -3.8e+05    3.91e+05\n",
            "===================================================================================\n",
            "Ljung-Box (Q):                     1562.00   Jarque-Bera (JB):                14.50\n",
            "Prob(Q):                              0.00   Prob(JB):                         0.00\n",
            "Heteroskedasticity (H):               1.21   Skew:                            -0.23\n",
            "Prob(H) (two-sided):                  0.41   Kurtosis:                         1.84\n",
            "===================================================================================\n",
            "\n",
            "Warnings:\n",
            "[1] Covariance matrix calculated using the outer product of gradients (complex-step).\n"
          ]
        },
        {
          "output_type": "stream",
          "name": "stderr",
          "text": [
            "/usr/local/lib/python3.7/dist-packages/statsmodels/tsa/base/tsa_model.py:165: ValueWarning: No frequency information was provided, so inferred frequency T will be used.\n",
            "  % freq, ValueWarning)\n"
          ]
        }
      ]
    },
    {
      "cell_type": "code",
      "source": [
        "# make predictions\n",
        "preds = model_fit.predict(start=pd.to_datetime('2015-08-17 17:55:00'), end=pd.to_datetime('2015-08-17 18:54:00'), dynamic=False)\n",
        "print(preds)"
      ],
      "metadata": {
        "colab": {
          "base_uri": "https://localhost:8080/"
        },
        "id": "WyAiYC8_k1YM",
        "outputId": "29184fb2-7af7-4a79-ef47-4afd7d05d0eb"
      },
      "execution_count": null,
      "outputs": [
        {
          "output_type": "stream",
          "name": "stdout",
          "text": [
            "2015-08-17 17:55:00    82.256627\n",
            "2015-08-17 17:56:00    81.250960\n",
            "2015-08-17 17:57:00    84.241578\n",
            "2015-08-17 17:58:00    84.253924\n",
            "2015-08-17 17:59:00    84.244636\n",
            "2015-08-17 18:00:00    85.250937\n",
            "2015-08-17 18:01:00    86.241775\n",
            "2015-08-17 18:02:00    78.300343\n",
            "2015-08-17 18:03:00    84.210079\n",
            "2015-08-17 18:04:00    71.377348\n",
            "2015-08-17 18:05:00    84.139109\n",
            "2015-08-17 18:06:00    76.424195\n",
            "2015-08-17 18:07:00    84.097990\n",
            "2015-08-17 18:08:00    79.453136\n",
            "2015-08-17 18:09:00    80.096895\n",
            "2015-08-17 18:10:00    77.470323\n",
            "2015-08-17 18:11:00    81.079251\n",
            "2015-08-17 18:12:00    72.520098\n",
            "2015-08-17 18:13:00    85.012813\n",
            "2015-08-17 18:14:00    66.623137\n",
            "2015-08-17 18:15:00    92.872138\n",
            "2015-08-17 18:16:00    61.793851\n",
            "2015-08-17 18:17:00    86.739819\n",
            "2015-08-17 18:18:00    63.918381\n",
            "2015-08-17 18:19:00    83.636755\n",
            "2015-08-17 18:20:00    62.035026\n",
            "2015-08-17 18:21:00    91.483495\n",
            "2015-08-17 18:22:00    63.185699\n",
            "2015-08-17 18:23:00    88.354136\n",
            "2015-08-17 18:24:00    63.317801\n",
            "2015-08-17 18:25:00    92.206918\n",
            "2015-08-17 18:26:00    63.467616\n",
            "2015-08-17 18:27:00    89.077918\n",
            "2015-08-17 18:28:00    64.594202\n",
            "2015-08-17 18:29:00    92.936435\n",
            "2015-08-17 18:30:00    61.753256\n",
            "2015-08-17 18:31:00    87.807718\n",
            "2015-08-17 18:32:00    60.889358\n",
            "2015-08-17 18:33:00    86.681537\n",
            "2015-08-17 18:34:00    68.978676\n",
            "2015-08-17 18:35:00    88.587085\n",
            "2015-08-17 18:36:00    70.071114\n",
            "2015-08-17 18:37:00    89.494459\n",
            "2015-08-17 18:38:00    65.190619\n",
            "2015-08-17 18:39:00    89.379682\n",
            "2015-08-17 18:40:00    58.341181\n",
            "2015-08-17 18:41:00    89.233907\n",
            "2015-08-17 18:42:00    62.470034\n",
            "2015-08-17 18:43:00    89.109648\n",
            "2015-08-17 18:44:00    60.605825\n",
            "2015-08-17 18:45:00    91.964446\n",
            "2015-08-17 18:46:00    65.729842\n",
            "2015-08-17 18:47:00    91.844961\n",
            "2015-08-17 18:48:00    61.869932\n",
            "2015-08-17 18:49:00    92.704827\n",
            "2015-08-17 18:50:00    64.002929\n",
            "2015-08-17 18:51:00    94.567231\n",
            "2015-08-17 18:52:00    56.178574\n",
            "2015-08-17 18:53:00    83.445554\n",
            "2015-08-17 18:54:00    56.301977\n",
            "Freq: T, dtype: float64\n"
          ]
        }
      ]
    },
    {
      "cell_type": "code",
      "source": [
        "p = d = q = range(0, 3)\n",
        "\n",
        "# generate all different combinations of p, q and q triplets\n",
        "pdq = list(itertools.product(p, d, q))\n",
        "# generate all different combinations of seasonal p, q and q triplets\n",
        "# seasonal_pdq = [(x[0], x[1], x[2], 12) for x in list(itertools.product(p, d, q))]\n",
        "seasonal_pdq = [(1, 1, 1, 12)]\n",
        "\n",
        "for param in pdq:\n",
        "    for param_seasonal in seasonal_pdq:\n",
        "          mod = sm.tsa.statespace.SARIMAX(df['Lifetouch Heart Rate'],\n",
        "                                          \n",
        "                                          order=param,\n",
        "                                          seasonal_order=param_seasonal,\n",
        "                                          enforce_stationarity=False,\n",
        "                                          enforce_invertibility=False)\n",
        "\n",
        "          mod_fit = mod.fit()\n",
        "\n",
        "          print('ARIMA{}x{}12 - AIC:{}'.format(param, param_seasonal, mod_fit.aic))"
      ],
      "metadata": {
        "colab": {
          "base_uri": "https://localhost:8080/"
        },
        "id": "R70gqAHEk7I_",
        "outputId": "3002bf47-16ca-401f-c8a2-477f54086412"
      },
      "execution_count": null,
      "outputs": [
        {
          "output_type": "stream",
          "name": "stderr",
          "text": [
            "/usr/local/lib/python3.7/dist-packages/statsmodels/tsa/base/tsa_model.py:165: ValueWarning: No frequency information was provided, so inferred frequency T will be used.\n",
            "  % freq, ValueWarning)\n"
          ]
        },
        {
          "output_type": "stream",
          "name": "stdout",
          "text": [
            "ARIMA(0, 0, 0)x(1, 1, 1, 12)12 - AIC:1451.4779180910155\n"
          ]
        },
        {
          "output_type": "stream",
          "name": "stderr",
          "text": [
            "/usr/local/lib/python3.7/dist-packages/statsmodels/tsa/base/tsa_model.py:165: ValueWarning: No frequency information was provided, so inferred frequency T will be used.\n",
            "  % freq, ValueWarning)\n"
          ]
        },
        {
          "output_type": "stream",
          "name": "stdout",
          "text": [
            "ARIMA(0, 0, 1)x(1, 1, 1, 12)12 - AIC:1368.2168976244434\n"
          ]
        },
        {
          "output_type": "stream",
          "name": "stderr",
          "text": [
            "/usr/local/lib/python3.7/dist-packages/statsmodels/tsa/base/tsa_model.py:165: ValueWarning: No frequency information was provided, so inferred frequency T will be used.\n",
            "  % freq, ValueWarning)\n"
          ]
        },
        {
          "output_type": "stream",
          "name": "stdout",
          "text": [
            "ARIMA(0, 0, 2)x(1, 1, 1, 12)12 - AIC:1341.471712605175\n"
          ]
        },
        {
          "output_type": "stream",
          "name": "stderr",
          "text": [
            "/usr/local/lib/python3.7/dist-packages/statsmodels/tsa/base/tsa_model.py:165: ValueWarning: No frequency information was provided, so inferred frequency T will be used.\n",
            "  % freq, ValueWarning)\n"
          ]
        },
        {
          "output_type": "stream",
          "name": "stdout",
          "text": [
            "ARIMA(0, 1, 0)x(1, 1, 1, 12)12 - AIC:1284.1988250047714\n"
          ]
        },
        {
          "output_type": "stream",
          "name": "stderr",
          "text": [
            "/usr/local/lib/python3.7/dist-packages/statsmodels/tsa/base/tsa_model.py:165: ValueWarning: No frequency information was provided, so inferred frequency T will be used.\n",
            "  % freq, ValueWarning)\n"
          ]
        },
        {
          "output_type": "stream",
          "name": "stdout",
          "text": [
            "ARIMA(0, 1, 1)x(1, 1, 1, 12)12 - AIC:1247.628599510941\n"
          ]
        },
        {
          "output_type": "stream",
          "name": "stderr",
          "text": [
            "/usr/local/lib/python3.7/dist-packages/statsmodels/tsa/base/tsa_model.py:165: ValueWarning: No frequency information was provided, so inferred frequency T will be used.\n",
            "  % freq, ValueWarning)\n"
          ]
        },
        {
          "output_type": "stream",
          "name": "stdout",
          "text": [
            "ARIMA(0, 1, 2)x(1, 1, 1, 12)12 - AIC:1243.336471813433\n"
          ]
        },
        {
          "output_type": "stream",
          "name": "stderr",
          "text": [
            "/usr/local/lib/python3.7/dist-packages/statsmodels/tsa/base/tsa_model.py:165: ValueWarning: No frequency information was provided, so inferred frequency T will be used.\n",
            "  % freq, ValueWarning)\n"
          ]
        },
        {
          "output_type": "stream",
          "name": "stdout",
          "text": [
            "ARIMA(0, 2, 0)x(1, 1, 1, 12)12 - AIC:1462.3394556628164\n"
          ]
        },
        {
          "output_type": "stream",
          "name": "stderr",
          "text": [
            "/usr/local/lib/python3.7/dist-packages/statsmodels/tsa/base/tsa_model.py:165: ValueWarning: No frequency information was provided, so inferred frequency T will be used.\n",
            "  % freq, ValueWarning)\n"
          ]
        },
        {
          "output_type": "stream",
          "name": "stdout",
          "text": [
            "ARIMA(0, 2, 1)x(1, 1, 1, 12)12 - AIC:1266.672111410879\n"
          ]
        },
        {
          "output_type": "stream",
          "name": "stderr",
          "text": [
            "/usr/local/lib/python3.7/dist-packages/statsmodels/tsa/base/tsa_model.py:165: ValueWarning: No frequency information was provided, so inferred frequency T will be used.\n",
            "  % freq, ValueWarning)\n"
          ]
        },
        {
          "output_type": "stream",
          "name": "stdout",
          "text": [
            "ARIMA(0, 2, 2)x(1, 1, 1, 12)12 - AIC:1233.0793739054961\n"
          ]
        },
        {
          "output_type": "stream",
          "name": "stderr",
          "text": [
            "/usr/local/lib/python3.7/dist-packages/statsmodels/tsa/base/tsa_model.py:165: ValueWarning: No frequency information was provided, so inferred frequency T will be used.\n",
            "  % freq, ValueWarning)\n"
          ]
        },
        {
          "output_type": "stream",
          "name": "stdout",
          "text": [
            "ARIMA(1, 0, 0)x(1, 1, 1, 12)12 - AIC:1268.2507406215036\n"
          ]
        },
        {
          "output_type": "stream",
          "name": "stderr",
          "text": [
            "/usr/local/lib/python3.7/dist-packages/statsmodels/tsa/base/tsa_model.py:165: ValueWarning: No frequency information was provided, so inferred frequency T will be used.\n",
            "  % freq, ValueWarning)\n"
          ]
        },
        {
          "output_type": "stream",
          "name": "stdout",
          "text": [
            "ARIMA(1, 0, 1)x(1, 1, 1, 12)12 - AIC:1252.694523281149\n"
          ]
        },
        {
          "output_type": "stream",
          "name": "stderr",
          "text": [
            "/usr/local/lib/python3.7/dist-packages/statsmodels/tsa/base/tsa_model.py:165: ValueWarning: No frequency information was provided, so inferred frequency T will be used.\n",
            "  % freq, ValueWarning)\n"
          ]
        },
        {
          "output_type": "stream",
          "name": "stdout",
          "text": [
            "ARIMA(1, 0, 2)x(1, 1, 1, 12)12 - AIC:1247.9139053587655\n"
          ]
        },
        {
          "output_type": "stream",
          "name": "stderr",
          "text": [
            "/usr/local/lib/python3.7/dist-packages/statsmodels/tsa/base/tsa_model.py:165: ValueWarning: No frequency information was provided, so inferred frequency T will be used.\n",
            "  % freq, ValueWarning)\n"
          ]
        },
        {
          "output_type": "stream",
          "name": "stdout",
          "text": [
            "ARIMA(1, 1, 0)x(1, 1, 1, 12)12 - AIC:1248.2312976284002\n"
          ]
        },
        {
          "output_type": "stream",
          "name": "stderr",
          "text": [
            "/usr/local/lib/python3.7/dist-packages/statsmodels/tsa/base/tsa_model.py:165: ValueWarning: No frequency information was provided, so inferred frequency T will be used.\n",
            "  % freq, ValueWarning)\n"
          ]
        },
        {
          "output_type": "stream",
          "name": "stdout",
          "text": [
            "ARIMA(1, 1, 1)x(1, 1, 1, 12)12 - AIC:1249.6284559705703\n"
          ]
        },
        {
          "output_type": "stream",
          "name": "stderr",
          "text": [
            "/usr/local/lib/python3.7/dist-packages/statsmodels/tsa/base/tsa_model.py:165: ValueWarning: No frequency information was provided, so inferred frequency T will be used.\n",
            "  % freq, ValueWarning)\n"
          ]
        },
        {
          "output_type": "stream",
          "name": "stdout",
          "text": [
            "ARIMA(1, 1, 2)x(1, 1, 1, 12)12 - AIC:1243.9241463791982\n"
          ]
        },
        {
          "output_type": "stream",
          "name": "stderr",
          "text": [
            "/usr/local/lib/python3.7/dist-packages/statsmodels/tsa/base/tsa_model.py:165: ValueWarning: No frequency information was provided, so inferred frequency T will be used.\n",
            "  % freq, ValueWarning)\n"
          ]
        },
        {
          "output_type": "stream",
          "name": "stdout",
          "text": [
            "ARIMA(1, 2, 0)x(1, 1, 1, 12)12 - AIC:1373.9285323799595\n"
          ]
        },
        {
          "output_type": "stream",
          "name": "stderr",
          "text": [
            "/usr/local/lib/python3.7/dist-packages/statsmodels/tsa/base/tsa_model.py:165: ValueWarning: No frequency information was provided, so inferred frequency T will be used.\n",
            "  % freq, ValueWarning)\n"
          ]
        },
        {
          "output_type": "stream",
          "name": "stdout",
          "text": [
            "ARIMA(1, 2, 1)x(1, 1, 1, 12)12 - AIC:1244.046169408604\n"
          ]
        },
        {
          "output_type": "stream",
          "name": "stderr",
          "text": [
            "/usr/local/lib/python3.7/dist-packages/statsmodels/tsa/base/tsa_model.py:165: ValueWarning: No frequency information was provided, so inferred frequency T will be used.\n",
            "  % freq, ValueWarning)\n",
            "/usr/local/lib/python3.7/dist-packages/statsmodels/base/model.py:512: ConvergenceWarning: Maximum Likelihood optimization failed to converge. Check mle_retvals\n",
            "  \"Check mle_retvals\", ConvergenceWarning)\n",
            "/usr/local/lib/python3.7/dist-packages/statsmodels/tsa/base/tsa_model.py:165: ValueWarning: No frequency information was provided, so inferred frequency T will be used.\n",
            "  % freq, ValueWarning)\n"
          ]
        },
        {
          "output_type": "stream",
          "name": "stdout",
          "text": [
            "ARIMA(1, 2, 2)x(1, 1, 1, 12)12 - AIC:1235.0559556502471\n",
            "ARIMA(2, 0, 0)x(1, 1, 1, 12)12 - AIC:1244.7243887105412\n"
          ]
        },
        {
          "output_type": "stream",
          "name": "stderr",
          "text": [
            "/usr/local/lib/python3.7/dist-packages/statsmodels/tsa/base/tsa_model.py:165: ValueWarning: No frequency information was provided, so inferred frequency T will be used.\n",
            "  % freq, ValueWarning)\n"
          ]
        },
        {
          "output_type": "stream",
          "name": "stdout",
          "text": [
            "ARIMA(2, 0, 1)x(1, 1, 1, 12)12 - AIC:1254.610507750435\n"
          ]
        },
        {
          "output_type": "stream",
          "name": "stderr",
          "text": [
            "/usr/local/lib/python3.7/dist-packages/statsmodels/tsa/base/tsa_model.py:165: ValueWarning: No frequency information was provided, so inferred frequency T will be used.\n",
            "  % freq, ValueWarning)\n"
          ]
        },
        {
          "output_type": "stream",
          "name": "stdout",
          "text": [
            "ARIMA(2, 0, 2)x(1, 1, 1, 12)12 - AIC:1238.817596492818\n"
          ]
        },
        {
          "output_type": "stream",
          "name": "stderr",
          "text": [
            "/usr/local/lib/python3.7/dist-packages/statsmodels/tsa/base/tsa_model.py:165: ValueWarning: No frequency information was provided, so inferred frequency T will be used.\n",
            "  % freq, ValueWarning)\n"
          ]
        },
        {
          "output_type": "stream",
          "name": "stdout",
          "text": [
            "ARIMA(2, 1, 0)x(1, 1, 1, 12)12 - AIC:1235.7126648751591\n"
          ]
        },
        {
          "output_type": "stream",
          "name": "stderr",
          "text": [
            "/usr/local/lib/python3.7/dist-packages/statsmodels/tsa/base/tsa_model.py:165: ValueWarning: No frequency information was provided, so inferred frequency T will be used.\n",
            "  % freq, ValueWarning)\n"
          ]
        },
        {
          "output_type": "stream",
          "name": "stdout",
          "text": [
            "ARIMA(2, 1, 1)x(1, 1, 1, 12)12 - AIC:1235.3306981890114\n"
          ]
        },
        {
          "output_type": "stream",
          "name": "stderr",
          "text": [
            "/usr/local/lib/python3.7/dist-packages/statsmodels/tsa/base/tsa_model.py:165: ValueWarning: No frequency information was provided, so inferred frequency T will be used.\n",
            "  % freq, ValueWarning)\n"
          ]
        },
        {
          "output_type": "stream",
          "name": "stdout",
          "text": [
            "ARIMA(2, 1, 2)x(1, 1, 1, 12)12 - AIC:1230.4432440921837\n"
          ]
        },
        {
          "output_type": "stream",
          "name": "stderr",
          "text": [
            "/usr/local/lib/python3.7/dist-packages/statsmodels/tsa/base/tsa_model.py:165: ValueWarning: No frequency information was provided, so inferred frequency T will be used.\n",
            "  % freq, ValueWarning)\n"
          ]
        },
        {
          "output_type": "stream",
          "name": "stdout",
          "text": [
            "ARIMA(2, 2, 0)x(1, 1, 1, 12)12 - AIC:1293.6433680011885\n"
          ]
        },
        {
          "output_type": "stream",
          "name": "stderr",
          "text": [
            "/usr/local/lib/python3.7/dist-packages/statsmodels/tsa/base/tsa_model.py:165: ValueWarning: No frequency information was provided, so inferred frequency T will be used.\n",
            "  % freq, ValueWarning)\n"
          ]
        },
        {
          "output_type": "stream",
          "name": "stdout",
          "text": [
            "ARIMA(2, 2, 1)x(1, 1, 1, 12)12 - AIC:1237.724780174164\n"
          ]
        },
        {
          "output_type": "stream",
          "name": "stderr",
          "text": [
            "/usr/local/lib/python3.7/dist-packages/statsmodels/tsa/base/tsa_model.py:165: ValueWarning: No frequency information was provided, so inferred frequency T will be used.\n",
            "  % freq, ValueWarning)\n"
          ]
        },
        {
          "output_type": "stream",
          "name": "stdout",
          "text": [
            "ARIMA(2, 2, 2)x(1, 1, 1, 12)12 - AIC:1232.001879562707\n"
          ]
        }
      ]
    },
    {
      "cell_type": "code",
      "source": [
        "# order - The (p,d,q) order of the model for the number of AR parameters, differences, and MA parameters.\n",
        "# seasonal_order - The (P,D,Q,s) order of the seasonal component of the model for the AR parameters, differences, MA parameters, and periodicity.\n",
        "model = sm.tsa.statespace.SARIMAX(df['Lifetouch Heart Rate'],\n",
        "                                  order=(2, 1, 2),\n",
        "                                  seasonal_order=(1, 1, 1, 12),\n",
        "                                  enforce_stationarity=False,\n",
        "                                  enforce_invertibility=False)\n",
        "# train model\n",
        "model_fit = model.fit(disp=0)\n",
        "print(model_fit.summary())"
      ],
      "metadata": {
        "colab": {
          "base_uri": "https://localhost:8080/"
        },
        "id": "uSu6kyaIk-_-",
        "outputId": "645ead4c-5011-467e-c74e-7d619d6acf78"
      },
      "execution_count": null,
      "outputs": [
        {
          "output_type": "stream",
          "name": "stderr",
          "text": [
            "/usr/local/lib/python3.7/dist-packages/statsmodels/tsa/base/tsa_model.py:165: ValueWarning: No frequency information was provided, so inferred frequency T will be used.\n",
            "  % freq, ValueWarning)\n"
          ]
        },
        {
          "output_type": "stream",
          "name": "stdout",
          "text": [
            "                                 Statespace Model Results                                 \n",
            "==========================================================================================\n",
            "Dep. Variable:               Lifetouch Heart Rate   No. Observations:                  226\n",
            "Model:             SARIMAX(2, 1, 2)x(1, 1, 1, 12)   Log Likelihood                -608.222\n",
            "Date:                            Fri, 18 Feb 2022   AIC                           1230.443\n",
            "Time:                                    16:07:54   BIC                           1253.461\n",
            "Sample:                                08-17-2015   HQIC                          1239.760\n",
            "                                     - 08-17-2015                                         \n",
            "Covariance Type:                              opg                                         \n",
            "==============================================================================\n",
            "                 coef    std err          z      P>|z|      [0.025      0.975]\n",
            "------------------------------------------------------------------------------\n",
            "ar.L1         -0.7764      0.234     -3.314      0.001      -1.236      -0.317\n",
            "ar.L2         -0.4554      0.192     -2.378      0.017      -0.831      -0.080\n",
            "ma.L1          0.3929      0.254      1.549      0.122      -0.104       0.890\n",
            "ma.L2          0.1572      0.217      0.725      0.468      -0.268       0.582\n",
            "ar.S.L12    7.945e-06      0.065      0.000      1.000      -0.128       0.128\n",
            "ma.S.L12      -0.9223      0.100     -9.238      0.000      -1.118      -0.727\n",
            "sigma2        25.3454      2.488     10.188      0.000      20.470      30.221\n",
            "===================================================================================\n",
            "Ljung-Box (Q):                       19.08   Jarque-Bera (JB):               418.38\n",
            "Prob(Q):                              1.00   Prob(JB):                         0.00\n",
            "Heteroskedasticity (H):               0.53   Skew:                            -0.08\n",
            "Prob(H) (two-sided):                  0.01   Kurtosis:                        10.12\n",
            "===================================================================================\n",
            "\n",
            "Warnings:\n",
            "[1] Covariance matrix calculated using the outer product of gradients (complex-step).\n"
          ]
        }
      ]
    },
    {
      "cell_type": "code",
      "source": [
        "# make predictions\n",
        "preds = model_fit.predict(start=pd.to_datetime('2015-08-17 17:55:00'), end=pd.to_datetime('2015-08-17 18:54:00'), dynamic=False)\n",
        "print(preds)\n",
        "\n",
        "# calculate RMSE\n",
        "actuals = df[\"Lifetouch Heart Rate\"]\n",
        "actuals = actuals.loc[\"2015-08-17 17:55:0\":\"2015-08-17 18:54:00\"]\n",
        "print(f'Root Mean Squared Error: {round(np.sqrt(mean_squared_error(actuals, preds)), 2)}')"
      ],
      "metadata": {
        "colab": {
          "base_uri": "https://localhost:8080/"
        },
        "id": "FDFSMMVGlC-e",
        "outputId": "e2d3e43c-7dfa-48e4-cb09-30551a09f3db"
      },
      "execution_count": null,
      "outputs": [
        {
          "output_type": "stream",
          "name": "stdout",
          "text": [
            "2015-08-17 17:55:00    162.680448\n",
            "2015-08-17 17:56:00    159.726088\n",
            "2015-08-17 17:57:00    166.418125\n",
            "2015-08-17 17:58:00    166.941401\n",
            "2015-08-17 17:59:00    168.089484\n",
            "2015-08-17 18:00:00    170.264620\n",
            "2015-08-17 18:01:00    169.564790\n",
            "2015-08-17 18:02:00    167.914331\n",
            "2015-08-17 18:03:00    167.250840\n",
            "2015-08-17 18:04:00    159.948777\n",
            "2015-08-17 18:05:00    156.952252\n",
            "2015-08-17 18:06:00    160.263002\n",
            "2015-08-17 18:07:00    160.667257\n",
            "2015-08-17 18:08:00    161.757629\n",
            "2015-08-17 18:09:00    161.833960\n",
            "2015-08-17 18:10:00    159.162833\n",
            "2015-08-17 18:11:00    158.007179\n",
            "2015-08-17 18:12:00    156.062684\n",
            "2015-08-17 18:13:00    155.561135\n",
            "2015-08-17 18:14:00    153.051960\n",
            "2015-08-17 18:15:00    159.550930\n",
            "2015-08-17 18:16:00    156.484717\n",
            "2015-08-17 18:17:00    153.432061\n",
            "2015-08-17 18:18:00    152.382666\n",
            "2015-08-17 18:19:00    148.730527\n",
            "2015-08-17 18:20:00    145.787961\n",
            "2015-08-17 18:21:00    151.383890\n",
            "2015-08-17 18:22:00    152.680161\n",
            "2015-08-17 18:23:00    153.278772\n",
            "2015-08-17 18:24:00    153.021355\n",
            "2015-08-17 18:25:00    151.809290\n",
            "2015-08-17 18:26:00    156.134598\n",
            "2015-08-17 18:27:00    155.400209\n",
            "2015-08-17 18:28:00    154.745341\n",
            "2015-08-17 18:29:00    156.096426\n",
            "2015-08-17 18:30:00    157.331441\n",
            "2015-08-17 18:31:00    153.172684\n",
            "2015-08-17 18:32:00    148.478436\n",
            "2015-08-17 18:33:00    148.858124\n",
            "2015-08-17 18:34:00    152.547645\n",
            "2015-08-17 18:35:00    155.080747\n",
            "2015-08-17 18:36:00    160.179188\n",
            "2015-08-17 18:37:00    157.716526\n",
            "2015-08-17 18:38:00    157.082478\n",
            "2015-08-17 18:39:00    156.500413\n",
            "2015-08-17 18:40:00    151.162753\n",
            "2015-08-17 18:41:00    149.204827\n",
            "2015-08-17 18:42:00    150.594535\n",
            "2015-08-17 18:43:00    151.505338\n",
            "2015-08-17 18:44:00    150.108795\n",
            "2015-08-17 18:45:00    153.510172\n",
            "2015-08-17 18:46:00    155.268762\n",
            "2015-08-17 18:47:00    157.150575\n",
            "2015-08-17 18:48:00    156.964577\n",
            "2015-08-17 18:49:00    152.993455\n",
            "2015-08-17 18:50:00    155.731602\n",
            "2015-08-17 18:51:00    158.070455\n",
            "2015-08-17 18:52:00    154.836902\n",
            "2015-08-17 18:53:00    145.858111\n",
            "2015-08-17 18:54:00    141.649729\n",
            "Freq: T, dtype: float64\n",
            "Root Mean Squared Error: 4.62\n"
          ]
        }
      ]
    },
    {
      "cell_type": "code",
      "source": [
        "# calculate RMSE\n",
        "actuals = df[\"Lifetouch Heart Rate\"]\n",
        "actuals = actuals.loc[\"2015-08-17 17:55:0\":\"2015-08-17 18:54:00\"]\n",
        "print(f'Root Mean Squared Error: {round(np.sqrt(mean_squared_error(actuals, preds)), 2)}')\n",
        "\n",
        "# plot observations and predictions\n",
        "ax = df[\"Lifetouch Heart Rate\"].plot(label='observed', figsize=(25, 10))\n",
        "preds.plot(ax=ax, label='predicted', alpha=.7)\n",
        "\n",
        "ax.set_xlabel('Time')\n",
        "ax.set_ylabel('Heart Rate')\n",
        "plt.legend()\n",
        "plt.title(\"Observed vs Prediction\")\n",
        "plt.show()"
      ],
      "metadata": {
        "colab": {
          "base_uri": "https://localhost:8080/",
          "height": 498
        },
        "id": "mLEqOOeIlD_R",
        "outputId": "a6992150-7d82-475c-e54c-91a4866468d2"
      },
      "execution_count": null,
      "outputs": [
        {
          "output_type": "stream",
          "name": "stdout",
          "text": [
            "Root Mean Squared Error: 4.62\n"
          ]
        },
        {
          "output_type": "display_data",
          "data": {
            "image/png": "[encoded data removed]",
            "text/plain": [
              "<Figure size 1800x720 with 1 Axes>"
            ]
          },
          "metadata": {
            "needs_background": "light"
          }
        }
      ]
    },
    {
      "cell_type": "code",
      "source": [
        "# Forecasting beyond the sample\n",
        "forecasts = model_fit.forecast(steps=20)\n",
        "print(forecasts)"
      ],
      "metadata": {
        "colab": {
          "base_uri": "https://localhost:8080/"
        },
        "id": "swlJLmIplHzq",
        "outputId": "c542480d-c799-491e-e9fc-603a22ac968e"
      },
      "execution_count": null,
      "outputs": [
        {
          "output_type": "stream",
          "name": "stdout",
          "text": [
            "2015-08-17 18:55:00    137.488771\n",
            "2015-08-17 18:56:00    137.368578\n",
            "2015-08-17 18:57:00    139.193077\n",
            "2015-08-17 18:58:00    138.561571\n",
            "2015-08-17 18:59:00    137.752699\n",
            "2015-08-17 19:00:00    139.097356\n",
            "2015-08-17 19:01:00    136.870796\n",
            "2015-08-17 19:02:00    137.849771\n",
            "2015-08-17 19:03:00    137.282758\n",
            "2015-08-17 19:04:00    136.614057\n",
            "2015-08-17 19:05:00    136.910739\n",
            "2015-08-17 19:06:00    137.550025\n",
            "2015-08-17 19:07:00    137.007851\n",
            "2015-08-17 19:08:00    136.234328\n",
            "2015-08-17 19:09:00    138.580143\n",
            "2015-08-17 19:10:00    137.841395\n",
            "2015-08-17 19:11:00    136.878368\n",
            "2015-08-17 19:12:00    138.391577\n",
            "2015-08-17 19:13:00    136.104338\n",
            "2015-08-17 19:14:00    137.053626\n",
            "Freq: T, dtype: float64\n"
          ]
        }
      ]
    },
    {
      "cell_type": "code",
      "source": [
        "forecasts = pd.DataFrame(data=forecasts,columns=[\"Forecasted Heart Rate\"])\n",
        "forecasts"
      ],
      "metadata": {
        "colab": {
          "base_uri": "https://localhost:8080/",
          "height": 676
        },
        "id": "Zw_SzBpylNzP",
        "outputId": "8e9a644f-7f2a-499c-da45-98fe808efb46"
      },
      "execution_count": null,
      "outputs": [
        {
          "output_type": "execute_result",
          "data": {
            "text/html": [
              "\n",
              "  <div id=\"df-9693cf48-29a3-4b62-8a5f-a4851d31a9a6\">\n",
              "    <div class=\"colab-df-container\">\n",
              "      <div>\n",
              "<style scoped>\n",
              "    .dataframe tbody tr th:only-of-type {\n",
              "        vertical-align: middle;\n",
              "    }\n",
              "\n",
              "    .dataframe tbody tr th {\n",
              "        vertical-align: top;\n",
              "    }\n",
              "\n",
              "    .dataframe thead th {\n",
              "        text-align: right;\n",
              "    }\n",
              "</style>\n",
              "<table border=\"1\" class=\"dataframe\">\n",
              "  <thead>\n",
              "    <tr style=\"text-align: right;\">\n",
              "      <th></th>\n",
              "      <th>Forecasted Heart Rate</th>\n",
              "    </tr>\n",
              "  </thead>\n",
              "  <tbody>\n",
              "    <tr>\n",
              "      <th>2015-08-17 18:55:00</th>\n",
              "      <td>137.488771</td>\n",
              "    </tr>\n",
              "    <tr>\n",
              "      <th>2015-08-17 18:56:00</th>\n",
              "      <td>137.368578</td>\n",
              "    </tr>\n",
              "    <tr>\n",
              "      <th>2015-08-17 18:57:00</th>\n",
              "      <td>139.193077</td>\n",
              "    </tr>\n",
              "    <tr>\n",
              "      <th>2015-08-17 18:58:00</th>\n",
              "      <td>138.561571</td>\n",
              "    </tr>\n",
              "    <tr>\n",
              "      <th>2015-08-17 18:59:00</th>\n",
              "      <td>137.752699</td>\n",
              "    </tr>\n",
              "    <tr>\n",
              "      <th>2015-08-17 19:00:00</th>\n",
              "      <td>139.097356</td>\n",
              "    </tr>\n",
              "    <tr>\n",
              "      <th>2015-08-17 19:01:00</th>\n",
              "      <td>136.870796</td>\n",
              "    </tr>\n",
              "    <tr>\n",
              "      <th>2015-08-17 19:02:00</th>\n",
              "      <td>137.849771</td>\n",
              "    </tr>\n",
              "    <tr>\n",
              "      <th>2015-08-17 19:03:00</th>\n",
              "      <td>137.282758</td>\n",
              "    </tr>\n",
              "    <tr>\n",
              "      <th>2015-08-17 19:04:00</th>\n",
              "      <td>136.614057</td>\n",
              "    </tr>\n",
              "    <tr>\n",
              "      <th>2015-08-17 19:05:00</th>\n",
              "      <td>136.910739</td>\n",
              "    </tr>\n",
              "    <tr>\n",
              "      <th>2015-08-17 19:06:00</th>\n",
              "      <td>137.550025</td>\n",
              "    </tr>\n",
              "    <tr>\n",
              "      <th>2015-08-17 19:07:00</th>\n",
              "      <td>137.007851</td>\n",
              "    </tr>\n",
              "    <tr>\n",
              "      <th>2015-08-17 19:08:00</th>\n",
              "      <td>136.234328</td>\n",
              "    </tr>\n",
              "    <tr>\n",
              "      <th>2015-08-17 19:09:00</th>\n",
              "      <td>138.580143</td>\n",
              "    </tr>\n",
              "    <tr>\n",
              "      <th>2015-08-17 19:10:00</th>\n",
              "      <td>137.841395</td>\n",
              "    </tr>\n",
              "    <tr>\n",
              "      <th>2015-08-17 19:11:00</th>\n",
              "      <td>136.878368</td>\n",
              "    </tr>\n",
              "    <tr>\n",
              "      <th>2015-08-17 19:12:00</th>\n",
              "      <td>138.391577</td>\n",
              "    </tr>\n",
              "    <tr>\n",
              "      <th>2015-08-17 19:13:00</th>\n",
              "      <td>136.104338</td>\n",
              "    </tr>\n",
              "    <tr>\n",
              "      <th>2015-08-17 19:14:00</th>\n",
              "      <td>137.053626</td>\n",
              "    </tr>\n",
              "  </tbody>\n",
              "</table>\n",
              "</div>\n",
              "      <button class=\"colab-df-convert\" onclick=\"convertToInteractive('df-9693cf48-29a3-4b62-8a5f-a4851d31a9a6')\"\n",
              "              title=\"Convert this dataframe to an interactive table.\"\n",
              "              style=\"display:none;\">\n",
              "        \n",
              "  <svg xmlns=\"http://www.w3.org/2000/svg\" height=\"24px\"viewBox=\"0 0 24 24\"\n",
              "       width=\"24px\">\n",
              "    <path d=\"M0 0h24v24H0V0z\" fill=\"none\"/>\n",
              "    <path d=\"M18.56 5.44l.94 2.06.94-2.06 2.06-.94-2.06-.94-.94-2.06-.94 2.06-2.06.94zm-11 1L8.5 8.5l.94-2.06 2.06-.94-2.06-.94L8.5 2.5l-.94 2.06-2.06.94zm10 10l.94 2.06.94-2.06 2.06-.94-2.06-.94-.94-2.06-.94 2.06-2.06.94z\"/><path d=\"M17.41 7.96l-1.37-1.37c-.4-.4-.92-.59-1.43-.59-.52 0-1.04.2-1.43.59L10.3 9.45l-7.72 7.72c-.78.78-.78 2.05 0 2.83L4 21.41c.39.39.9.59 1.41.59.51 0 1.02-.2 1.41-.59l7.78-7.78 2.81-2.81c.8-.78.8-2.07 0-2.86zM5.41 20L4 18.59l7.72-7.72 1.47 1.35L5.41 20z\"/>\n",
              "  </svg>\n",
              "      </button>\n",
              "      \n",
              "  <style>\n",
              "    .colab-df-container {\n",
              "      display:flex;\n",
              "      flex-wrap:wrap;\n",
              "      gap: 12px;\n",
              "    }\n",
              "\n",
              "    .colab-df-convert {\n",
              "      background-color: #E8F0FE;\n",
              "      border: none;\n",
              "      border-radius: 50%;\n",
              "      cursor: pointer;\n",
              "      display: none;\n",
              "      fill: #1967D2;\n",
              "      height: 32px;\n",
              "      padding: 0 0 0 0;\n",
              "      width: 32px;\n",
              "    }\n",
              "\n",
              "    .colab-df-convert:hover {\n",
              "      background-color: #E2EBFA;\n",
              "      box-shadow: 0px 1px 2px rgba(60, 64, 67, 0.3), 0px 1px 3px 1px rgba(60, 64, 67, 0.15);\n",
              "      fill: #174EA6;\n",
              "    }\n",
              "\n",
              "    [theme=dark] .colab-df-convert {\n",
              "      background-color: #3B4455;\n",
              "      fill: #D2E3FC;\n",
              "    }\n",
              "\n",
              "    [theme=dark] .colab-df-convert:hover {\n",
              "      background-color: #434B5C;\n",
              "      box-shadow: 0px 1px 3px 1px rgba(0, 0, 0, 0.15);\n",
              "      filter: drop-shadow(0px 1px 2px rgba(0, 0, 0, 0.3));\n",
              "      fill: #FFFFFF;\n",
              "    }\n",
              "  </style>\n",
              "\n",
              "      <script>\n",
              "        const buttonEl =\n",
              "          document.querySelector('#df-9693cf48-29a3-4b62-8a5f-a4851d31a9a6 button.colab-df-convert');\n",
              "        buttonEl.style.display =\n",
              "          google.colab.kernel.accessAllowed ? 'block' : 'none';\n",
              "\n",
              "        async function convertToInteractive(key) {\n",
              "          const element = document.querySelector('#df-9693cf48-29a3-4b62-8a5f-a4851d31a9a6');\n",
              "          const dataTable =\n",
              "            await google.colab.kernel.invokeFunction('convertToInteractive',\n",
              "                                                     [key], {});\n",
              "          if (!dataTable) return;\n",
              "\n",
              "          const docLinkHtml = 'Like what you see? Visit the ' +\n",
              "            '<a target=\"_blank\" href=https://colab.research.google.com/notebooks/data_table.ipynb>data table notebook</a>'\n",
              "            + ' to learn more about interactive tables.';\n",
              "          element.innerHTML = '';\n",
              "          dataTable['output_type'] = 'display_data';\n",
              "          await google.colab.output.renderOutput(dataTable, element);\n",
              "          const docLink = document.createElement('div');\n",
              "          docLink.innerHTML = docLinkHtml;\n",
              "          element.appendChild(docLink);\n",
              "        }\n",
              "      </script>\n",
              "    </div>\n",
              "  </div>\n",
              "  "
            ],
            "text/plain": [
              "                     Forecasted Heart Rate\n",
              "2015-08-17 18:55:00             137.488771\n",
              "2015-08-17 18:56:00             137.368578\n",
              "2015-08-17 18:57:00             139.193077\n",
              "2015-08-17 18:58:00             138.561571\n",
              "2015-08-17 18:59:00             137.752699\n",
              "2015-08-17 19:00:00             139.097356\n",
              "2015-08-17 19:01:00             136.870796\n",
              "2015-08-17 19:02:00             137.849771\n",
              "2015-08-17 19:03:00             137.282758\n",
              "2015-08-17 19:04:00             136.614057\n",
              "2015-08-17 19:05:00             136.910739\n",
              "2015-08-17 19:06:00             137.550025\n",
              "2015-08-17 19:07:00             137.007851\n",
              "2015-08-17 19:08:00             136.234328\n",
              "2015-08-17 19:09:00             138.580143\n",
              "2015-08-17 19:10:00             137.841395\n",
              "2015-08-17 19:11:00             136.878368\n",
              "2015-08-17 19:12:00             138.391577\n",
              "2015-08-17 19:13:00             136.104338\n",
              "2015-08-17 19:14:00             137.053626"
            ]
          },
          "metadata": {},
          "execution_count": 28
        }
      ]
    },
    {
      "cell_type": "code",
      "source": [
        "forecasts.to_csv('Forecast(20 minutes).csv')"
      ],
      "metadata": {
        "id": "oKEZs3dClRY_"
      },
      "execution_count": null,
      "outputs": []
    },
    {
      "cell_type": "code",
      "source": [
        "forecasts[\"Minutes-No\"]= list(range(226,246))\n",
        "forecasts"
      ],
      "metadata": {
        "colab": {
          "base_uri": "https://localhost:8080/",
          "height": 676
        },
        "id": "t_0ZZqC8lUHU",
        "outputId": "78b546d2-e34e-4949-95b2-c2dbc5785175"
      },
      "execution_count": null,
      "outputs": [
        {
          "output_type": "execute_result",
          "data": {
            "text/html": [
              "\n",
              "  <div id=\"df-443e82c3-f4ab-4846-a828-56e5eb881f45\">\n",
              "    <div class=\"colab-df-container\">\n",
              "      <div>\n",
              "<style scoped>\n",
              "    .dataframe tbody tr th:only-of-type {\n",
              "        vertical-align: middle;\n",
              "    }\n",
              "\n",
              "    .dataframe tbody tr th {\n",
              "        vertical-align: top;\n",
              "    }\n",
              "\n",
              "    .dataframe thead th {\n",
              "        text-align: right;\n",
              "    }\n",
              "</style>\n",
              "<table border=\"1\" class=\"dataframe\">\n",
              "  <thead>\n",
              "    <tr style=\"text-align: right;\">\n",
              "      <th></th>\n",
              "      <th>Forecasted Heart Rate</th>\n",
              "      <th>Minutes-No</th>\n",
              "    </tr>\n",
              "  </thead>\n",
              "  <tbody>\n",
              "    <tr>\n",
              "      <th>2015-08-17 18:55:00</th>\n",
              "      <td>137.488771</td>\n",
              "      <td>226</td>\n",
              "    </tr>\n",
              "    <tr>\n",
              "      <th>2015-08-17 18:56:00</th>\n",
              "      <td>137.368578</td>\n",
              "      <td>227</td>\n",
              "    </tr>\n",
              "    <tr>\n",
              "      <th>2015-08-17 18:57:00</th>\n",
              "      <td>139.193077</td>\n",
              "      <td>228</td>\n",
              "    </tr>\n",
              "    <tr>\n",
              "      <th>2015-08-17 18:58:00</th>\n",
              "      <td>138.561571</td>\n",
              "      <td>229</td>\n",
              "    </tr>\n",
              "    <tr>\n",
              "      <th>2015-08-17 18:59:00</th>\n",
              "      <td>137.752699</td>\n",
              "      <td>230</td>\n",
              "    </tr>\n",
              "    <tr>\n",
              "      <th>2015-08-17 19:00:00</th>\n",
              "      <td>139.097356</td>\n",
              "      <td>231</td>\n",
              "    </tr>\n",
              "    <tr>\n",
              "      <th>2015-08-17 19:01:00</th>\n",
              "      <td>136.870796</td>\n",
              "      <td>232</td>\n",
              "    </tr>\n",
              "    <tr>\n",
              "      <th>2015-08-17 19:02:00</th>\n",
              "      <td>137.849771</td>\n",
              "      <td>233</td>\n",
              "    </tr>\n",
              "    <tr>\n",
              "      <th>2015-08-17 19:03:00</th>\n",
              "      <td>137.282758</td>\n",
              "      <td>234</td>\n",
              "    </tr>\n",
              "    <tr>\n",
              "      <th>2015-08-17 19:04:00</th>\n",
              "      <td>136.614057</td>\n",
              "      <td>235</td>\n",
              "    </tr>\n",
              "    <tr>\n",
              "      <th>2015-08-17 19:05:00</th>\n",
              "      <td>136.910739</td>\n",
              "      <td>236</td>\n",
              "    </tr>\n",
              "    <tr>\n",
              "      <th>2015-08-17 19:06:00</th>\n",
              "      <td>137.550025</td>\n",
              "      <td>237</td>\n",
              "    </tr>\n",
              "    <tr>\n",
              "      <th>2015-08-17 19:07:00</th>\n",
              "      <td>137.007851</td>\n",
              "      <td>238</td>\n",
              "    </tr>\n",
              "    <tr>\n",
              "      <th>2015-08-17 19:08:00</th>\n",
              "      <td>136.234328</td>\n",
              "      <td>239</td>\n",
              "    </tr>\n",
              "    <tr>\n",
              "      <th>2015-08-17 19:09:00</th>\n",
              "      <td>138.580143</td>\n",
              "      <td>240</td>\n",
              "    </tr>\n",
              "    <tr>\n",
              "      <th>2015-08-17 19:10:00</th>\n",
              "      <td>137.841395</td>\n",
              "      <td>241</td>\n",
              "    </tr>\n",
              "    <tr>\n",
              "      <th>2015-08-17 19:11:00</th>\n",
              "      <td>136.878368</td>\n",
              "      <td>242</td>\n",
              "    </tr>\n",
              "    <tr>\n",
              "      <th>2015-08-17 19:12:00</th>\n",
              "      <td>138.391577</td>\n",
              "      <td>243</td>\n",
              "    </tr>\n",
              "    <tr>\n",
              "      <th>2015-08-17 19:13:00</th>\n",
              "      <td>136.104338</td>\n",
              "      <td>244</td>\n",
              "    </tr>\n",
              "    <tr>\n",
              "      <th>2015-08-17 19:14:00</th>\n",
              "      <td>137.053626</td>\n",
              "      <td>245</td>\n",
              "    </tr>\n",
              "  </tbody>\n",
              "</table>\n",
              "</div>\n",
              "      <button class=\"colab-df-convert\" onclick=\"convertToInteractive('df-443e82c3-f4ab-4846-a828-56e5eb881f45')\"\n",
              "              title=\"Convert this dataframe to an interactive table.\"\n",
              "              style=\"display:none;\">\n",
              "        \n",
              "  <svg xmlns=\"http://www.w3.org/2000/svg\" height=\"24px\"viewBox=\"0 0 24 24\"\n",
              "       width=\"24px\">\n",
              "    <path d=\"M0 0h24v24H0V0z\" fill=\"none\"/>\n",
              "    <path d=\"M18.56 5.44l.94 2.06.94-2.06 2.06-.94-2.06-.94-.94-2.06-.94 2.06-2.06.94zm-11 1L8.5 8.5l.94-2.06 2.06-.94-2.06-.94L8.5 2.5l-.94 2.06-2.06.94zm10 10l.94 2.06.94-2.06 2.06-.94-2.06-.94-.94-2.06-.94 2.06-2.06.94z\"/><path d=\"M17.41 7.96l-1.37-1.37c-.4-.4-.92-.59-1.43-.59-.52 0-1.04.2-1.43.59L10.3 9.45l-7.72 7.72c-.78.78-.78 2.05 0 2.83L4 21.41c.39.39.9.59 1.41.59.51 0 1.02-.2 1.41-.59l7.78-7.78 2.81-2.81c.8-.78.8-2.07 0-2.86zM5.41 20L4 18.59l7.72-7.72 1.47 1.35L5.41 20z\"/>\n",
              "  </svg>\n",
              "      </button>\n",
              "      \n",
              "  <style>\n",
              "    .colab-df-container {\n",
              "      display:flex;\n",
              "      flex-wrap:wrap;\n",
              "      gap: 12px;\n",
              "    }\n",
              "\n",
              "    .colab-df-convert {\n",
              "      background-color: #E8F0FE;\n",
              "      border: none;\n",
              "      border-radius: 50%;\n",
              "      cursor: pointer;\n",
              "      display: none;\n",
              "      fill: #1967D2;\n",
              "      height: 32px;\n",
              "      padding: 0 0 0 0;\n",
              "      width: 32px;\n",
              "    }\n",
              "\n",
              "    .colab-df-convert:hover {\n",
              "      background-color: #E2EBFA;\n",
              "      box-shadow: 0px 1px 2px rgba(60, 64, 67, 0.3), 0px 1px 3px 1px rgba(60, 64, 67, 0.15);\n",
              "      fill: #174EA6;\n",
              "    }\n",
              "\n",
              "    [theme=dark] .colab-df-convert {\n",
              "      background-color: #3B4455;\n",
              "      fill: #D2E3FC;\n",
              "    }\n",
              "\n",
              "    [theme=dark] .colab-df-convert:hover {\n",
              "      background-color: #434B5C;\n",
              "      box-shadow: 0px 1px 3px 1px rgba(0, 0, 0, 0.15);\n",
              "      filter: drop-shadow(0px 1px 2px rgba(0, 0, 0, 0.3));\n",
              "      fill: #FFFFFF;\n",
              "    }\n",
              "  </style>\n",
              "\n",
              "      <script>\n",
              "        const buttonEl =\n",
              "          document.querySelector('#df-443e82c3-f4ab-4846-a828-56e5eb881f45 button.colab-df-convert');\n",
              "        buttonEl.style.display =\n",
              "          google.colab.kernel.accessAllowed ? 'block' : 'none';\n",
              "\n",
              "        async function convertToInteractive(key) {\n",
              "          const element = document.querySelector('#df-443e82c3-f4ab-4846-a828-56e5eb881f45');\n",
              "          const dataTable =\n",
              "            await google.colab.kernel.invokeFunction('convertToInteractive',\n",
              "                                                     [key], {});\n",
              "          if (!dataTable) return;\n",
              "\n",
              "          const docLinkHtml = 'Like what you see? Visit the ' +\n",
              "            '<a target=\"_blank\" href=https://colab.research.google.com/notebooks/data_table.ipynb>data table notebook</a>'\n",
              "            + ' to learn more about interactive tables.';\n",
              "          element.innerHTML = '';\n",
              "          dataTable['output_type'] = 'display_data';\n",
              "          await google.colab.output.renderOutput(dataTable, element);\n",
              "          const docLink = document.createElement('div');\n",
              "          docLink.innerHTML = docLinkHtml;\n",
              "          element.appendChild(docLink);\n",
              "        }\n",
              "      </script>\n",
              "    </div>\n",
              "  </div>\n",
              "  "
            ],
            "text/plain": [
              "                     Forecasted Heart Rate  Minutes-No\n",
              "2015-08-17 18:55:00             137.488771         226\n",
              "2015-08-17 18:56:00             137.368578         227\n",
              "2015-08-17 18:57:00             139.193077         228\n",
              "2015-08-17 18:58:00             138.561571         229\n",
              "2015-08-17 18:59:00             137.752699         230\n",
              "2015-08-17 19:00:00             139.097356         231\n",
              "2015-08-17 19:01:00             136.870796         232\n",
              "2015-08-17 19:02:00             137.849771         233\n",
              "2015-08-17 19:03:00             137.282758         234\n",
              "2015-08-17 19:04:00             136.614057         235\n",
              "2015-08-17 19:05:00             136.910739         236\n",
              "2015-08-17 19:06:00             137.550025         237\n",
              "2015-08-17 19:07:00             137.007851         238\n",
              "2015-08-17 19:08:00             136.234328         239\n",
              "2015-08-17 19:09:00             138.580143         240\n",
              "2015-08-17 19:10:00             137.841395         241\n",
              "2015-08-17 19:11:00             136.878368         242\n",
              "2015-08-17 19:12:00             138.391577         243\n",
              "2015-08-17 19:13:00             136.104338         244\n",
              "2015-08-17 19:14:00             137.053626         245"
            ]
          },
          "metadata": {},
          "execution_count": 30
        }
      ]
    },
    {
      "cell_type": "code",
      "source": [
        "df = pd.read_csv('Forecast(20 minutes).csv')\n",
        "df.head"
      ],
      "metadata": {
        "colab": {
          "base_uri": "https://localhost:8080/"
        },
        "id": "YW1ke3tPJipz",
        "outputId": "8691f7df-5c83-4972-eba7-33dea0cf357b"
      },
      "execution_count": null,
      "outputs": [
        {
          "output_type": "execute_result",
          "data": {
            "text/plain": [
              "<bound method NDFrame.head of              Unnamed: 0  Forecasted Heart Rate\n",
              "0   2015-08-17 18:55:00             137.488771\n",
              "1   2015-08-17 18:56:00             137.368578\n",
              "2   2015-08-17 18:57:00             139.193077\n",
              "3   2015-08-17 18:58:00             138.561571\n",
              "4   2015-08-17 18:59:00             137.752699\n",
              "5   2015-08-17 19:00:00             139.097356\n",
              "6   2015-08-17 19:01:00             136.870796\n",
              "7   2015-08-17 19:02:00             137.849771\n",
              "8   2015-08-17 19:03:00             137.282758\n",
              "9   2015-08-17 19:04:00             136.614057\n",
              "10  2015-08-17 19:05:00             136.910739\n",
              "11  2015-08-17 19:06:00             137.550025\n",
              "12  2015-08-17 19:07:00             137.007851\n",
              "13  2015-08-17 19:08:00             136.234328\n",
              "14  2015-08-17 19:09:00             138.580143\n",
              "15  2015-08-17 19:10:00             137.841395\n",
              "16  2015-08-17 19:11:00             136.878368\n",
              "17  2015-08-17 19:12:00             138.391577\n",
              "18  2015-08-17 19:13:00             136.104338\n",
              "19  2015-08-17 19:14:00             137.053626>"
            ]
          },
          "metadata": {},
          "execution_count": 31
        }
      ]
    }
  ]
}