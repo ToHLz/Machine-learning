{
  "nbformat": 4,
  "nbformat_minor": 0,
  "metadata": {
    "colab": {
      "name": "NLP SA",
      "provenance": [],
      "collapsed_sections": [],
      "authorship_tag": "ABX9TyNZ7Kthbz5oYA3wRwwC7On7",
      "include_colab_link": true
    },
    "kernelspec": {
      "name": "python3",
      "display_name": "Python 3"
    },
    "language_info": {
      "name": "python"
    }
  },
  "cells": [
    {
      "cell_type": "markdown",
      "metadata": {
        "id": "view-in-github",
        "colab_type": "text"
      },
      "source": [
        "<a href=\"https://colab.research.google.com/github/ToHLz/Machine-learning/blob/main/NLP_SA.ipynb\" target=\"_parent\"><img src=\"https://colab.research.google.com/assets/colab-badge.svg\" alt=\"Open In Colab\"/></a>"
      ]
    },
    {
      "cell_type": "code",
      "execution_count": null,
      "metadata": {
        "colab": {
          "base_uri": "https://localhost:8080/"
        },
        "id": "k5TWzAUaX_cW",
        "outputId": "28abdd6d-44be-4d51-f8a9-9c9c36051a68"
      },
      "outputs": [
        {
          "output_type": "stream",
          "name": "stdout",
          "text": [
            "[nltk_data] Downloading package punkt to /root/nltk_data...\n",
            "[nltk_data]   Unzipping tokenizers/punkt.zip.\n",
            "[nltk_data] Downloading package wordnet to /root/nltk_data...\n",
            "[nltk_data]   Unzipping corpora/wordnet.zip.\n",
            "[nltk_data] Downloading package averaged_perceptron_tagger to\n",
            "[nltk_data]     /root/nltk_data...\n",
            "[nltk_data]   Unzipping taggers/averaged_perceptron_tagger.zip.\n",
            "[nltk_data] Downloading package stopwords to /root/nltk_data...\n",
            "[nltk_data]   Unzipping corpora/stopwords.zip.\n"
          ]
        }
      ],
      "source": [
        "# import libraries\n",
        "import pandas as pd\n",
        "import numpy as np\n",
        "\n",
        "# libraries for data preprocessing\n",
        "import nltk\n",
        "# download modules available with NLTK\n",
        "nltk.download('punkt')\n",
        "nltk.download('wordnet')\n",
        "nltk.download('averaged_perceptron_tagger')\n",
        "nltk.download('stopwords')\n",
        "\n",
        "from nltk.tokenize import word_tokenize\n",
        "from nltk.tokenize import TweetTokenizer\n",
        "from nltk.stem import WordNetLemmatizer\n",
        "from nltk.stem import PorterStemmer\n",
        "from nltk.corpus import stopwords\n",
        "\n",
        "# libraries for data split and feature extraction\n",
        "from sklearn.model_selection import train_test_split\n",
        "from sklearn.feature_extraction.text import CountVectorizer\n",
        "from sklearn.feature_extraction.text import TfidfVectorizer\n",
        "\n",
        "# library for evaluation\n",
        "from sklearn import metrics\n",
        "\n",
        "# libraries for ML algorithms\n",
        "from sklearn import svm\n",
        "from sklearn import tree\n",
        "from sklearn.naive_bayes import GaussianNB\n",
        "\n",
        "# libraries for data plotting\n",
        "import seaborn as sns\n",
        "import matplotlib.pyplot as plt \n",
        "\n",
        "RANDOM_SEED = 100"
      ]
    },
    {
      "cell_type": "code",
      "source": [
        "# load the data set\n",
        "# Here I am loading the train dataset to train the model\n",
        "df = pd.read_csv('https://raw.githubusercontent.com/ToHLz/Machine-learning/main/train.csv')\n",
        "\n",
        "print(df.shape)\n",
        "df.head()"
      ],
      "metadata": {
        "colab": {
          "base_uri": "https://localhost:8080/",
          "height": 223
        },
        "id": "DPNVJ_j79-F3",
        "outputId": "f2b2c025-3b70-4014-ebcf-7cfb64a48d3a"
      },
      "execution_count": null,
      "outputs": [
        {
          "output_type": "stream",
          "name": "stdout",
          "text": [
            "(16363, 3)\n"
          ]
        },
        {
          "output_type": "execute_result",
          "data": {
            "text/html": [
              "\n",
              "  <div id=\"df-7a9d8aa2-75a2-462e-901a-0bbce4dafd7f\">\n",
              "    <div class=\"colab-df-container\">\n",
              "      <div>\n",
              "<style scoped>\n",
              "    .dataframe tbody tr th:only-of-type {\n",
              "        vertical-align: middle;\n",
              "    }\n",
              "\n",
              "    .dataframe tbody tr th {\n",
              "        vertical-align: top;\n",
              "    }\n",
              "\n",
              "    .dataframe thead th {\n",
              "        text-align: right;\n",
              "    }\n",
              "</style>\n",
              "<table border=\"1\" class=\"dataframe\">\n",
              "  <thead>\n",
              "    <tr style=\"text-align: right;\">\n",
              "      <th></th>\n",
              "      <th>Id</th>\n",
              "      <th>Text</th>\n",
              "      <th>Sentiment</th>\n",
              "    </tr>\n",
              "  </thead>\n",
              "  <tbody>\n",
              "    <tr>\n",
              "      <th>0</th>\n",
              "      <td>549e992a42</td>\n",
              "      <td>Sooo SAD I will miss you here in San Diego!!!</td>\n",
              "      <td>negative</td>\n",
              "    </tr>\n",
              "    <tr>\n",
              "      <th>1</th>\n",
              "      <td>088c60f138</td>\n",
              "      <td>my boss is bullying me...</td>\n",
              "      <td>negative</td>\n",
              "    </tr>\n",
              "    <tr>\n",
              "      <th>2</th>\n",
              "      <td>9642c003ef</td>\n",
              "      <td>what interview! leave me alone</td>\n",
              "      <td>negative</td>\n",
              "    </tr>\n",
              "    <tr>\n",
              "      <th>3</th>\n",
              "      <td>358bd9e861</td>\n",
              "      <td>Sons of ****, why couldn`t they put them on t...</td>\n",
              "      <td>negative</td>\n",
              "    </tr>\n",
              "    <tr>\n",
              "      <th>4</th>\n",
              "      <td>6e0c6d75b1</td>\n",
              "      <td>2am feedings for the baby are fun when he is a...</td>\n",
              "      <td>positive</td>\n",
              "    </tr>\n",
              "  </tbody>\n",
              "</table>\n",
              "</div>\n",
              "      <button class=\"colab-df-convert\" onclick=\"convertToInteractive('df-7a9d8aa2-75a2-462e-901a-0bbce4dafd7f')\"\n",
              "              title=\"Convert this dataframe to an interactive table.\"\n",
              "              style=\"display:none;\">\n",
              "        \n",
              "  <svg xmlns=\"http://www.w3.org/2000/svg\" height=\"24px\"viewBox=\"0 0 24 24\"\n",
              "       width=\"24px\">\n",
              "    <path d=\"M0 0h24v24H0V0z\" fill=\"none\"/>\n",
              "    <path d=\"M18.56 5.44l.94 2.06.94-2.06 2.06-.94-2.06-.94-.94-2.06-.94 2.06-2.06.94zm-11 1L8.5 8.5l.94-2.06 2.06-.94-2.06-.94L8.5 2.5l-.94 2.06-2.06.94zm10 10l.94 2.06.94-2.06 2.06-.94-2.06-.94-.94-2.06-.94 2.06-2.06.94z\"/><path d=\"M17.41 7.96l-1.37-1.37c-.4-.4-.92-.59-1.43-.59-.52 0-1.04.2-1.43.59L10.3 9.45l-7.72 7.72c-.78.78-.78 2.05 0 2.83L4 21.41c.39.39.9.59 1.41.59.51 0 1.02-.2 1.41-.59l7.78-7.78 2.81-2.81c.8-.78.8-2.07 0-2.86zM5.41 20L4 18.59l7.72-7.72 1.47 1.35L5.41 20z\"/>\n",
              "  </svg>\n",
              "      </button>\n",
              "      \n",
              "  <style>\n",
              "    .colab-df-container {\n",
              "      display:flex;\n",
              "      flex-wrap:wrap;\n",
              "      gap: 12px;\n",
              "    }\n",
              "\n",
              "    .colab-df-convert {\n",
              "      background-color: #E8F0FE;\n",
              "      border: none;\n",
              "      border-radius: 50%;\n",
              "      cursor: pointer;\n",
              "      display: none;\n",
              "      fill: #1967D2;\n",
              "      height: 32px;\n",
              "      padding: 0 0 0 0;\n",
              "      width: 32px;\n",
              "    }\n",
              "\n",
              "    .colab-df-convert:hover {\n",
              "      background-color: #E2EBFA;\n",
              "      box-shadow: 0px 1px 2px rgba(60, 64, 67, 0.3), 0px 1px 3px 1px rgba(60, 64, 67, 0.15);\n",
              "      fill: #174EA6;\n",
              "    }\n",
              "\n",
              "    [theme=dark] .colab-df-convert {\n",
              "      background-color: #3B4455;\n",
              "      fill: #D2E3FC;\n",
              "    }\n",
              "\n",
              "    [theme=dark] .colab-df-convert:hover {\n",
              "      background-color: #434B5C;\n",
              "      box-shadow: 0px 1px 3px 1px rgba(0, 0, 0, 0.15);\n",
              "      filter: drop-shadow(0px 1px 2px rgba(0, 0, 0, 0.3));\n",
              "      fill: #FFFFFF;\n",
              "    }\n",
              "  </style>\n",
              "\n",
              "      <script>\n",
              "        const buttonEl =\n",
              "          document.querySelector('#df-7a9d8aa2-75a2-462e-901a-0bbce4dafd7f button.colab-df-convert');\n",
              "        buttonEl.style.display =\n",
              "          google.colab.kernel.accessAllowed ? 'block' : 'none';\n",
              "\n",
              "        async function convertToInteractive(key) {\n",
              "          const element = document.querySelector('#df-7a9d8aa2-75a2-462e-901a-0bbce4dafd7f');\n",
              "          const dataTable =\n",
              "            await google.colab.kernel.invokeFunction('convertToInteractive',\n",
              "                                                     [key], {});\n",
              "          if (!dataTable) return;\n",
              "\n",
              "          const docLinkHtml = 'Like what you see? Visit the ' +\n",
              "            '<a target=\"_blank\" href=https://colab.research.google.com/notebooks/data_table.ipynb>data table notebook</a>'\n",
              "            + ' to learn more about interactive tables.';\n",
              "          element.innerHTML = '';\n",
              "          dataTable['output_type'] = 'display_data';\n",
              "          await google.colab.output.renderOutput(dataTable, element);\n",
              "          const docLink = document.createElement('div');\n",
              "          docLink.innerHTML = docLinkHtml;\n",
              "          element.appendChild(docLink);\n",
              "        }\n",
              "      </script>\n",
              "    </div>\n",
              "  </div>\n",
              "  "
            ],
            "text/plain": [
              "           Id                                               Text Sentiment\n",
              "0  549e992a42      Sooo SAD I will miss you here in San Diego!!!  negative\n",
              "1  088c60f138                          my boss is bullying me...  negative\n",
              "2  9642c003ef                     what interview! leave me alone  negative\n",
              "3  358bd9e861   Sons of ****, why couldn`t they put them on t...  negative\n",
              "4  6e0c6d75b1  2am feedings for the baby are fun when he is a...  positive"
            ]
          },
          "metadata": {},
          "execution_count": 37
        }
      ]
    },
    {
      "cell_type": "code",
      "source": [
        "# Summarise class details\n",
        "sns.countplot(x=df['Sentiment'])"
      ],
      "metadata": {
        "colab": {
          "base_uri": "https://localhost:8080/",
          "height": 296
        },
        "id": "h1JyYZb1-T5z",
        "outputId": "0ff1a510-4cf1-4fed-e604-786f63e01225"
      },
      "execution_count": null,
      "outputs": [
        {
          "output_type": "execute_result",
          "data": {
            "text/plain": [
              "<matplotlib.axes._subplots.AxesSubplot at 0x7fb07be14a90>"
            ]
          },
          "metadata": {},
          "execution_count": 38
        },
        {
          "output_type": "display_data",
          "data": {
            "image/png": "[encoded data removed]",
            "text/plain": [
              "<Figure size 432x288 with 1 Axes>"
            ]
          },
          "metadata": {
            "needs_background": "light"
          }
        }
      ]
    },
    {
      "cell_type": "markdown",
      "source": [
        "Data cleaning\n",
        "\n",
        "Here , i am going to find if any missing values are there in the dataset"
      ],
      "metadata": {
        "id": "opAkDs5J-beo"
      }
    },
    {
      "cell_type": "code",
      "source": [
        "# drop the rows where at least one element is missing\n",
        "df = df.dropna()\n",
        "\n",
        "print(f'Number of entries: {len(df)}')"
      ],
      "metadata": {
        "colab": {
          "base_uri": "https://localhost:8080/"
        },
        "id": "nULakQBA-YG3",
        "outputId": "c9a11d96-ea48-46e9-9ae1-49fef02d441e"
      },
      "execution_count": null,
      "outputs": [
        {
          "output_type": "stream",
          "name": "stdout",
          "text": [
            "Number of entries: 16363\n"
          ]
        }
      ]
    },
    {
      "cell_type": "markdown",
      "source": [
        "Tokenisation\n",
        "\n",
        "Under Text Preprocessing, there are 2 tokenizers as follows.\n",
        "\n",
        "word_tokenize - Tokenizer for normal text\n",
        "\n",
        "TweetTokenizer - Tokenizer for tweets\n",
        "\n",
        "In this data set, we have normal text. \n",
        "\n",
        "Then we can use TweetTokenizer."
      ],
      "metadata": {
        "id": "siPRFAZn-psM"
      }
    },
    {
      "cell_type": "code",
      "source": [
        "tknzr = TweetTokenizer()\n",
        "# iterate through each row in 'Text' columm and convert text to tokens\n",
        "list_tokenised_text = [tknzr.tokenize(text) for text in df['Text']]\n",
        "print(list_tokenised_text[:2])\n",
        "\n",
        "list_tokenised_sentences = [' '.join(tokens) for tokens in list_tokenised_text]\n",
        "print(list_tokenised_sentences[:2])\n",
        "\n",
        "# add new column to data frame\n",
        "df['Tokenised_Text'] = list_tokenised_sentences\n",
        "df.head()"
      ],
      "metadata": {
        "colab": {
          "base_uri": "https://localhost:8080/",
          "height": 241
        },
        "id": "YR-_2QKR-o4c",
        "outputId": "455a419c-d277-4735-9294-1cd99818be35"
      },
      "execution_count": null,
      "outputs": [
        {
          "output_type": "stream",
          "name": "stdout",
          "text": [
            "[['Sooo', 'SAD', 'I', 'will', 'miss', 'you', 'here', 'in', 'San', 'Diego', '!', '!', '!'], ['my', 'boss', 'is', 'bullying', 'me', '...']]\n",
            "['Sooo SAD I will miss you here in San Diego ! ! !', 'my boss is bullying me ...']\n"
          ]
        },
        {
          "output_type": "execute_result",
          "data": {
            "text/html": [
              "\n",
              "  <div id=\"df-dac76c8e-c16d-4a40-8a87-f8468becb513\">\n",
              "    <div class=\"colab-df-container\">\n",
              "      <div>\n",
              "<style scoped>\n",
              "    .dataframe tbody tr th:only-of-type {\n",
              "        vertical-align: middle;\n",
              "    }\n",
              "\n",
              "    .dataframe tbody tr th {\n",
              "        vertical-align: top;\n",
              "    }\n",
              "\n",
              "    .dataframe thead th {\n",
              "        text-align: right;\n",
              "    }\n",
              "</style>\n",
              "<table border=\"1\" class=\"dataframe\">\n",
              "  <thead>\n",
              "    <tr style=\"text-align: right;\">\n",
              "      <th></th>\n",
              "      <th>Id</th>\n",
              "      <th>Text</th>\n",
              "      <th>Sentiment</th>\n",
              "      <th>Tokenised_Text</th>\n",
              "    </tr>\n",
              "  </thead>\n",
              "  <tbody>\n",
              "    <tr>\n",
              "      <th>0</th>\n",
              "      <td>549e992a42</td>\n",
              "      <td>Sooo SAD I will miss you here in San Diego!!!</td>\n",
              "      <td>negative</td>\n",
              "      <td>Sooo SAD I will miss you here in San Diego ! ! !</td>\n",
              "    </tr>\n",
              "    <tr>\n",
              "      <th>1</th>\n",
              "      <td>088c60f138</td>\n",
              "      <td>my boss is bullying me...</td>\n",
              "      <td>negative</td>\n",
              "      <td>my boss is bullying me ...</td>\n",
              "    </tr>\n",
              "    <tr>\n",
              "      <th>2</th>\n",
              "      <td>9642c003ef</td>\n",
              "      <td>what interview! leave me alone</td>\n",
              "      <td>negative</td>\n",
              "      <td>what interview ! leave me alone</td>\n",
              "    </tr>\n",
              "    <tr>\n",
              "      <th>3</th>\n",
              "      <td>358bd9e861</td>\n",
              "      <td>Sons of ****, why couldn`t they put them on t...</td>\n",
              "      <td>negative</td>\n",
              "      <td>Sons of * * * , why couldn ` t they put them o...</td>\n",
              "    </tr>\n",
              "    <tr>\n",
              "      <th>4</th>\n",
              "      <td>6e0c6d75b1</td>\n",
              "      <td>2am feedings for the baby are fun when he is a...</td>\n",
              "      <td>positive</td>\n",
              "      <td>2am feedings for the baby are fun when he is a...</td>\n",
              "    </tr>\n",
              "  </tbody>\n",
              "</table>\n",
              "</div>\n",
              "      <button class=\"colab-df-convert\" onclick=\"convertToInteractive('df-dac76c8e-c16d-4a40-8a87-f8468becb513')\"\n",
              "              title=\"Convert this dataframe to an interactive table.\"\n",
              "              style=\"display:none;\">\n",
              "        \n",
              "  <svg xmlns=\"http://www.w3.org/2000/svg\" height=\"24px\"viewBox=\"0 0 24 24\"\n",
              "       width=\"24px\">\n",
              "    <path d=\"M0 0h24v24H0V0z\" fill=\"none\"/>\n",
              "    <path d=\"M18.56 5.44l.94 2.06.94-2.06 2.06-.94-2.06-.94-.94-2.06-.94 2.06-2.06.94zm-11 1L8.5 8.5l.94-2.06 2.06-.94-2.06-.94L8.5 2.5l-.94 2.06-2.06.94zm10 10l.94 2.06.94-2.06 2.06-.94-2.06-.94-.94-2.06-.94 2.06-2.06.94z\"/><path d=\"M17.41 7.96l-1.37-1.37c-.4-.4-.92-.59-1.43-.59-.52 0-1.04.2-1.43.59L10.3 9.45l-7.72 7.72c-.78.78-.78 2.05 0 2.83L4 21.41c.39.39.9.59 1.41.59.51 0 1.02-.2 1.41-.59l7.78-7.78 2.81-2.81c.8-.78.8-2.07 0-2.86zM5.41 20L4 18.59l7.72-7.72 1.47 1.35L5.41 20z\"/>\n",
              "  </svg>\n",
              "      </button>\n",
              "      \n",
              "  <style>\n",
              "    .colab-df-container {\n",
              "      display:flex;\n",
              "      flex-wrap:wrap;\n",
              "      gap: 12px;\n",
              "    }\n",
              "\n",
              "    .colab-df-convert {\n",
              "      background-color: #E8F0FE;\n",
              "      border: none;\n",
              "      border-radius: 50%;\n",
              "      cursor: pointer;\n",
              "      display: none;\n",
              "      fill: #1967D2;\n",
              "      height: 32px;\n",
              "      padding: 0 0 0 0;\n",
              "      width: 32px;\n",
              "    }\n",
              "\n",
              "    .colab-df-convert:hover {\n",
              "      background-color: #E2EBFA;\n",
              "      box-shadow: 0px 1px 2px rgba(60, 64, 67, 0.3), 0px 1px 3px 1px rgba(60, 64, 67, 0.15);\n",
              "      fill: #174EA6;\n",
              "    }\n",
              "\n",
              "    [theme=dark] .colab-df-convert {\n",
              "      background-color: #3B4455;\n",
              "      fill: #D2E3FC;\n",
              "    }\n",
              "\n",
              "    [theme=dark] .colab-df-convert:hover {\n",
              "      background-color: #434B5C;\n",
              "      box-shadow: 0px 1px 3px 1px rgba(0, 0, 0, 0.15);\n",
              "      filter: drop-shadow(0px 1px 2px rgba(0, 0, 0, 0.3));\n",
              "      fill: #FFFFFF;\n",
              "    }\n",
              "  </style>\n",
              "\n",
              "      <script>\n",
              "        const buttonEl =\n",
              "          document.querySelector('#df-dac76c8e-c16d-4a40-8a87-f8468becb513 button.colab-df-convert');\n",
              "        buttonEl.style.display =\n",
              "          google.colab.kernel.accessAllowed ? 'block' : 'none';\n",
              "\n",
              "        async function convertToInteractive(key) {\n",
              "          const element = document.querySelector('#df-dac76c8e-c16d-4a40-8a87-f8468becb513');\n",
              "          const dataTable =\n",
              "            await google.colab.kernel.invokeFunction('convertToInteractive',\n",
              "                                                     [key], {});\n",
              "          if (!dataTable) return;\n",
              "\n",
              "          const docLinkHtml = 'Like what you see? Visit the ' +\n",
              "            '<a target=\"_blank\" href=https://colab.research.google.com/notebooks/data_table.ipynb>data table notebook</a>'\n",
              "            + ' to learn more about interactive tables.';\n",
              "          element.innerHTML = '';\n",
              "          dataTable['output_type'] = 'display_data';\n",
              "          await google.colab.output.renderOutput(dataTable, element);\n",
              "          const docLink = document.createElement('div');\n",
              "          docLink.innerHTML = docLinkHtml;\n",
              "          element.appendChild(docLink);\n",
              "        }\n",
              "      </script>\n",
              "    </div>\n",
              "  </div>\n",
              "  "
            ],
            "text/plain": [
              "           Id  ...                                     Tokenised_Text\n",
              "0  549e992a42  ...   Sooo SAD I will miss you here in San Diego ! ! !\n",
              "1  088c60f138  ...                         my boss is bullying me ...\n",
              "2  9642c003ef  ...                    what interview ! leave me alone\n",
              "3  358bd9e861  ...  Sons of * * * , why couldn ` t they put them o...\n",
              "4  6e0c6d75b1  ...  2am feedings for the baby are fun when he is a...\n",
              "\n",
              "[5 rows x 4 columns]"
            ]
          },
          "metadata": {},
          "execution_count": 40
        }
      ]
    },
    {
      "cell_type": "markdown",
      "source": [
        "Text normalisation\n",
        "\n",
        "lemmatization - Lemmatisation is an more organised procedure to obtain the base form of a word (lemma) with the use of a vocabulary and morphological analysis (word structure and grammar relations) of words."
      ],
      "metadata": {
        "id": "cj-p0XLZ_Ehj"
      }
    },
    {
      "cell_type": "code",
      "source": [
        "wnl = WordNetLemmatizer()\n",
        "\n",
        "list_lemmatised_sentences = []\n",
        "\n",
        "# iterate through each list of tokens and lemmatise the tokens\n",
        "for tokens in list_tokenised_text:\n",
        "  lemma_words = [wnl.lemmatize(word) for word in tokens]\n",
        "  lemma_sentence = ' '.join(lemma_words)\n",
        "  list_lemmatised_sentences.append(lemma_sentence)\n",
        "  \n",
        "print(list_lemmatised_sentences[:2])\n",
        "\n",
        "# add new column to data frame\n",
        "df['Lemmatised_Text'] = list_lemmatised_sentences\n",
        "\n",
        "df.head()"
      ],
      "metadata": {
        "colab": {
          "base_uri": "https://localhost:8080/",
          "height": 223
        },
        "id": "jDo20n36_ISS",
        "outputId": "dc92b9b6-e8ae-4dcc-8340-2c4b8bb85963"
      },
      "execution_count": null,
      "outputs": [
        {
          "output_type": "stream",
          "name": "stdout",
          "text": [
            "['Sooo SAD I will miss you here in San Diego ! ! !', 'my bos is bullying me ...']\n"
          ]
        },
        {
          "output_type": "execute_result",
          "data": {
            "text/html": [
              "\n",
              "  <div id=\"df-0e93d3b6-71b5-4730-8965-b31af4bae71b\">\n",
              "    <div class=\"colab-df-container\">\n",
              "      <div>\n",
              "<style scoped>\n",
              "    .dataframe tbody tr th:only-of-type {\n",
              "        vertical-align: middle;\n",
              "    }\n",
              "\n",
              "    .dataframe tbody tr th {\n",
              "        vertical-align: top;\n",
              "    }\n",
              "\n",
              "    .dataframe thead th {\n",
              "        text-align: right;\n",
              "    }\n",
              "</style>\n",
              "<table border=\"1\" class=\"dataframe\">\n",
              "  <thead>\n",
              "    <tr style=\"text-align: right;\">\n",
              "      <th></th>\n",
              "      <th>Id</th>\n",
              "      <th>Text</th>\n",
              "      <th>Sentiment</th>\n",
              "      <th>Tokenised_Text</th>\n",
              "      <th>Lemmatised_Text</th>\n",
              "    </tr>\n",
              "  </thead>\n",
              "  <tbody>\n",
              "    <tr>\n",
              "      <th>0</th>\n",
              "      <td>549e992a42</td>\n",
              "      <td>Sooo SAD I will miss you here in San Diego!!!</td>\n",
              "      <td>negative</td>\n",
              "      <td>Sooo SAD I will miss you here in San Diego ! ! !</td>\n",
              "      <td>Sooo SAD I will miss you here in San Diego ! ! !</td>\n",
              "    </tr>\n",
              "    <tr>\n",
              "      <th>1</th>\n",
              "      <td>088c60f138</td>\n",
              "      <td>my boss is bullying me...</td>\n",
              "      <td>negative</td>\n",
              "      <td>my boss is bullying me ...</td>\n",
              "      <td>my bos is bullying me ...</td>\n",
              "    </tr>\n",
              "    <tr>\n",
              "      <th>2</th>\n",
              "      <td>9642c003ef</td>\n",
              "      <td>what interview! leave me alone</td>\n",
              "      <td>negative</td>\n",
              "      <td>what interview ! leave me alone</td>\n",
              "      <td>what interview ! leave me alone</td>\n",
              "    </tr>\n",
              "    <tr>\n",
              "      <th>3</th>\n",
              "      <td>358bd9e861</td>\n",
              "      <td>Sons of ****, why couldn`t they put them on t...</td>\n",
              "      <td>negative</td>\n",
              "      <td>Sons of * * * , why couldn ` t they put them o...</td>\n",
              "      <td>Sons of * * * , why couldn ` t they put them o...</td>\n",
              "    </tr>\n",
              "    <tr>\n",
              "      <th>4</th>\n",
              "      <td>6e0c6d75b1</td>\n",
              "      <td>2am feedings for the baby are fun when he is a...</td>\n",
              "      <td>positive</td>\n",
              "      <td>2am feedings for the baby are fun when he is a...</td>\n",
              "      <td>2am feeding for the baby are fun when he is al...</td>\n",
              "    </tr>\n",
              "  </tbody>\n",
              "</table>\n",
              "</div>\n",
              "      <button class=\"colab-df-convert\" onclick=\"convertToInteractive('df-0e93d3b6-71b5-4730-8965-b31af4bae71b')\"\n",
              "              title=\"Convert this dataframe to an interactive table.\"\n",
              "              style=\"display:none;\">\n",
              "        \n",
              "  <svg xmlns=\"http://www.w3.org/2000/svg\" height=\"24px\"viewBox=\"0 0 24 24\"\n",
              "       width=\"24px\">\n",
              "    <path d=\"M0 0h24v24H0V0z\" fill=\"none\"/>\n",
              "    <path d=\"M18.56 5.44l.94 2.06.94-2.06 2.06-.94-2.06-.94-.94-2.06-.94 2.06-2.06.94zm-11 1L8.5 8.5l.94-2.06 2.06-.94-2.06-.94L8.5 2.5l-.94 2.06-2.06.94zm10 10l.94 2.06.94-2.06 2.06-.94-2.06-.94-.94-2.06-.94 2.06-2.06.94z\"/><path d=\"M17.41 7.96l-1.37-1.37c-.4-.4-.92-.59-1.43-.59-.52 0-1.04.2-1.43.59L10.3 9.45l-7.72 7.72c-.78.78-.78 2.05 0 2.83L4 21.41c.39.39.9.59 1.41.59.51 0 1.02-.2 1.41-.59l7.78-7.78 2.81-2.81c.8-.78.8-2.07 0-2.86zM5.41 20L4 18.59l7.72-7.72 1.47 1.35L5.41 20z\"/>\n",
              "  </svg>\n",
              "      </button>\n",
              "      \n",
              "  <style>\n",
              "    .colab-df-container {\n",
              "      display:flex;\n",
              "      flex-wrap:wrap;\n",
              "      gap: 12px;\n",
              "    }\n",
              "\n",
              "    .colab-df-convert {\n",
              "      background-color: #E8F0FE;\n",
              "      border: none;\n",
              "      border-radius: 50%;\n",
              "      cursor: pointer;\n",
              "      display: none;\n",
              "      fill: #1967D2;\n",
              "      height: 32px;\n",
              "      padding: 0 0 0 0;\n",
              "      width: 32px;\n",
              "    }\n",
              "\n",
              "    .colab-df-convert:hover {\n",
              "      background-color: #E2EBFA;\n",
              "      box-shadow: 0px 1px 2px rgba(60, 64, 67, 0.3), 0px 1px 3px 1px rgba(60, 64, 67, 0.15);\n",
              "      fill: #174EA6;\n",
              "    }\n",
              "\n",
              "    [theme=dark] .colab-df-convert {\n",
              "      background-color: #3B4455;\n",
              "      fill: #D2E3FC;\n",
              "    }\n",
              "\n",
              "    [theme=dark] .colab-df-convert:hover {\n",
              "      background-color: #434B5C;\n",
              "      box-shadow: 0px 1px 3px 1px rgba(0, 0, 0, 0.15);\n",
              "      filter: drop-shadow(0px 1px 2px rgba(0, 0, 0, 0.3));\n",
              "      fill: #FFFFFF;\n",
              "    }\n",
              "  </style>\n",
              "\n",
              "      <script>\n",
              "        const buttonEl =\n",
              "          document.querySelector('#df-0e93d3b6-71b5-4730-8965-b31af4bae71b button.colab-df-convert');\n",
              "        buttonEl.style.display =\n",
              "          google.colab.kernel.accessAllowed ? 'block' : 'none';\n",
              "\n",
              "        async function convertToInteractive(key) {\n",
              "          const element = document.querySelector('#df-0e93d3b6-71b5-4730-8965-b31af4bae71b');\n",
              "          const dataTable =\n",
              "            await google.colab.kernel.invokeFunction('convertToInteractive',\n",
              "                                                     [key], {});\n",
              "          if (!dataTable) return;\n",
              "\n",
              "          const docLinkHtml = 'Like what you see? Visit the ' +\n",
              "            '<a target=\"_blank\" href=https://colab.research.google.com/notebooks/data_table.ipynb>data table notebook</a>'\n",
              "            + ' to learn more about interactive tables.';\n",
              "          element.innerHTML = '';\n",
              "          dataTable['output_type'] = 'display_data';\n",
              "          await google.colab.output.renderOutput(dataTable, element);\n",
              "          const docLink = document.createElement('div');\n",
              "          docLink.innerHTML = docLinkHtml;\n",
              "          element.appendChild(docLink);\n",
              "        }\n",
              "      </script>\n",
              "    </div>\n",
              "  </div>\n",
              "  "
            ],
            "text/plain": [
              "           Id  ...                                    Lemmatised_Text\n",
              "0  549e992a42  ...   Sooo SAD I will miss you here in San Diego ! ! !\n",
              "1  088c60f138  ...                          my bos is bullying me ...\n",
              "2  9642c003ef  ...                    what interview ! leave me alone\n",
              "3  358bd9e861  ...  Sons of * * * , why couldn ` t they put them o...\n",
              "4  6e0c6d75b1  ...  2am feeding for the baby are fun when he is al...\n",
              "\n",
              "[5 rows x 5 columns]"
            ]
          },
          "metadata": {},
          "execution_count": 41
        }
      ]
    },
    {
      "cell_type": "code",
      "source": [
        "# save updated data frame to a file\n",
        "# This step is optional for the main flow. But by saving data to a file you can analyse the preprocessed text output more deeply. \n",
        "df.to_csv('/content/reviews_preprocessed.csv', index=False)\n",
        "\n",
        "df.head()"
      ],
      "metadata": {
        "colab": {
          "base_uri": "https://localhost:8080/",
          "height": 206
        },
        "id": "zww30wYg_S4y",
        "outputId": "08733965-d74c-407b-94ac-936c2ad4f8db"
      },
      "execution_count": null,
      "outputs": [
        {
          "output_type": "execute_result",
          "data": {
            "text/html": [
              "\n",
              "  <div id=\"df-60b3d71c-1eb6-4f43-aea2-03eeed56f2fe\">\n",
              "    <div class=\"colab-df-container\">\n",
              "      <div>\n",
              "<style scoped>\n",
              "    .dataframe tbody tr th:only-of-type {\n",
              "        vertical-align: middle;\n",
              "    }\n",
              "\n",
              "    .dataframe tbody tr th {\n",
              "        vertical-align: top;\n",
              "    }\n",
              "\n",
              "    .dataframe thead th {\n",
              "        text-align: right;\n",
              "    }\n",
              "</style>\n",
              "<table border=\"1\" class=\"dataframe\">\n",
              "  <thead>\n",
              "    <tr style=\"text-align: right;\">\n",
              "      <th></th>\n",
              "      <th>Id</th>\n",
              "      <th>Text</th>\n",
              "      <th>Sentiment</th>\n",
              "      <th>Tokenised_Text</th>\n",
              "      <th>Lemmatised_Text</th>\n",
              "    </tr>\n",
              "  </thead>\n",
              "  <tbody>\n",
              "    <tr>\n",
              "      <th>0</th>\n",
              "      <td>549e992a42</td>\n",
              "      <td>Sooo SAD I will miss you here in San Diego!!!</td>\n",
              "      <td>negative</td>\n",
              "      <td>Sooo SAD I will miss you here in San Diego ! ! !</td>\n",
              "      <td>Sooo SAD I will miss you here in San Diego ! ! !</td>\n",
              "    </tr>\n",
              "    <tr>\n",
              "      <th>1</th>\n",
              "      <td>088c60f138</td>\n",
              "      <td>my boss is bullying me...</td>\n",
              "      <td>negative</td>\n",
              "      <td>my boss is bullying me ...</td>\n",
              "      <td>my bos is bullying me ...</td>\n",
              "    </tr>\n",
              "    <tr>\n",
              "      <th>2</th>\n",
              "      <td>9642c003ef</td>\n",
              "      <td>what interview! leave me alone</td>\n",
              "      <td>negative</td>\n",
              "      <td>what interview ! leave me alone</td>\n",
              "      <td>what interview ! leave me alone</td>\n",
              "    </tr>\n",
              "    <tr>\n",
              "      <th>3</th>\n",
              "      <td>358bd9e861</td>\n",
              "      <td>Sons of ****, why couldn`t they put them on t...</td>\n",
              "      <td>negative</td>\n",
              "      <td>Sons of * * * , why couldn ` t they put them o...</td>\n",
              "      <td>Sons of * * * , why couldn ` t they put them o...</td>\n",
              "    </tr>\n",
              "    <tr>\n",
              "      <th>4</th>\n",
              "      <td>6e0c6d75b1</td>\n",
              "      <td>2am feedings for the baby are fun when he is a...</td>\n",
              "      <td>positive</td>\n",
              "      <td>2am feedings for the baby are fun when he is a...</td>\n",
              "      <td>2am feeding for the baby are fun when he is al...</td>\n",
              "    </tr>\n",
              "  </tbody>\n",
              "</table>\n",
              "</div>\n",
              "      <button class=\"colab-df-convert\" onclick=\"convertToInteractive('df-60b3d71c-1eb6-4f43-aea2-03eeed56f2fe')\"\n",
              "              title=\"Convert this dataframe to an interactive table.\"\n",
              "              style=\"display:none;\">\n",
              "        \n",
              "  <svg xmlns=\"http://www.w3.org/2000/svg\" height=\"24px\"viewBox=\"0 0 24 24\"\n",
              "       width=\"24px\">\n",
              "    <path d=\"M0 0h24v24H0V0z\" fill=\"none\"/>\n",
              "    <path d=\"M18.56 5.44l.94 2.06.94-2.06 2.06-.94-2.06-.94-.94-2.06-.94 2.06-2.06.94zm-11 1L8.5 8.5l.94-2.06 2.06-.94-2.06-.94L8.5 2.5l-.94 2.06-2.06.94zm10 10l.94 2.06.94-2.06 2.06-.94-2.06-.94-.94-2.06-.94 2.06-2.06.94z\"/><path d=\"M17.41 7.96l-1.37-1.37c-.4-.4-.92-.59-1.43-.59-.52 0-1.04.2-1.43.59L10.3 9.45l-7.72 7.72c-.78.78-.78 2.05 0 2.83L4 21.41c.39.39.9.59 1.41.59.51 0 1.02-.2 1.41-.59l7.78-7.78 2.81-2.81c.8-.78.8-2.07 0-2.86zM5.41 20L4 18.59l7.72-7.72 1.47 1.35L5.41 20z\"/>\n",
              "  </svg>\n",
              "      </button>\n",
              "      \n",
              "  <style>\n",
              "    .colab-df-container {\n",
              "      display:flex;\n",
              "      flex-wrap:wrap;\n",
              "      gap: 12px;\n",
              "    }\n",
              "\n",
              "    .colab-df-convert {\n",
              "      background-color: #E8F0FE;\n",
              "      border: none;\n",
              "      border-radius: 50%;\n",
              "      cursor: pointer;\n",
              "      display: none;\n",
              "      fill: #1967D2;\n",
              "      height: 32px;\n",
              "      padding: 0 0 0 0;\n",
              "      width: 32px;\n",
              "    }\n",
              "\n",
              "    .colab-df-convert:hover {\n",
              "      background-color: #E2EBFA;\n",
              "      box-shadow: 0px 1px 2px rgba(60, 64, 67, 0.3), 0px 1px 3px 1px rgba(60, 64, 67, 0.15);\n",
              "      fill: #174EA6;\n",
              "    }\n",
              "\n",
              "    [theme=dark] .colab-df-convert {\n",
              "      background-color: #3B4455;\n",
              "      fill: #D2E3FC;\n",
              "    }\n",
              "\n",
              "    [theme=dark] .colab-df-convert:hover {\n",
              "      background-color: #434B5C;\n",
              "      box-shadow: 0px 1px 3px 1px rgba(0, 0, 0, 0.15);\n",
              "      filter: drop-shadow(0px 1px 2px rgba(0, 0, 0, 0.3));\n",
              "      fill: #FFFFFF;\n",
              "    }\n",
              "  </style>\n",
              "\n",
              "      <script>\n",
              "        const buttonEl =\n",
              "          document.querySelector('#df-60b3d71c-1eb6-4f43-aea2-03eeed56f2fe button.colab-df-convert');\n",
              "        buttonEl.style.display =\n",
              "          google.colab.kernel.accessAllowed ? 'block' : 'none';\n",
              "\n",
              "        async function convertToInteractive(key) {\n",
              "          const element = document.querySelector('#df-60b3d71c-1eb6-4f43-aea2-03eeed56f2fe');\n",
              "          const dataTable =\n",
              "            await google.colab.kernel.invokeFunction('convertToInteractive',\n",
              "                                                     [key], {});\n",
              "          if (!dataTable) return;\n",
              "\n",
              "          const docLinkHtml = 'Like what you see? Visit the ' +\n",
              "            '<a target=\"_blank\" href=https://colab.research.google.com/notebooks/data_table.ipynb>data table notebook</a>'\n",
              "            + ' to learn more about interactive tables.';\n",
              "          element.innerHTML = '';\n",
              "          dataTable['output_type'] = 'display_data';\n",
              "          await google.colab.output.renderOutput(dataTable, element);\n",
              "          const docLink = document.createElement('div');\n",
              "          docLink.innerHTML = docLinkHtml;\n",
              "          element.appendChild(docLink);\n",
              "        }\n",
              "      </script>\n",
              "    </div>\n",
              "  </div>\n",
              "  "
            ],
            "text/plain": [
              "           Id  ...                                    Lemmatised_Text\n",
              "0  549e992a42  ...   Sooo SAD I will miss you here in San Diego ! ! !\n",
              "1  088c60f138  ...                          my bos is bullying me ...\n",
              "2  9642c003ef  ...                    what interview ! leave me alone\n",
              "3  358bd9e861  ...  Sons of * * * , why couldn ` t they put them o...\n",
              "4  6e0c6d75b1  ...  2am feeding for the baby are fun when he is al...\n",
              "\n",
              "[5 rows x 5 columns]"
            ]
          },
          "metadata": {},
          "execution_count": 42
        }
      ]
    },
    {
      "cell_type": "markdown",
      "source": [
        "Stop word removal\n",
        "\n",
        "To convert text into numeric features, we use vectorizers (CountVectorizer, TfidfVectorizer). Stop word removal can be easily done by giving a stop word list as an argument to the vectorizer. So, during the preprocessing step, we need to figure out a suitable stop word list.\n",
        "\n",
        "Let's look at the English stop words list available with NLTK library."
      ],
      "metadata": {
        "id": "MEWI1aZp_a0Z"
      }
    },
    {
      "cell_type": "code",
      "source": [
        "# get English stopwords\n",
        "stop_words = set(stopwords.words('english')) \n",
        "print(stop_words)"
      ],
      "metadata": {
        "colab": {
          "base_uri": "https://localhost:8080/"
        },
        "id": "zzYAL1Av_dti",
        "outputId": "d3719061-c4f4-4cb2-ca11-4d242ae30b3a"
      },
      "execution_count": null,
      "outputs": [
        {
          "output_type": "stream",
          "name": "stdout",
          "text": [
            "{\"didn't\", 'our', 'an', 'nor', 'into', 'hasn', 'with', 'can', 'but', 'each', 'then', 'than', 'the', 'being', 'why', 'me', 'a', \"shan't\", 'after', 'as', 'only', \"needn't\", 'of', 'such', 'if', 'who', \"mustn't\", 'her', \"she's\", 'himself', 've', 'needn', \"don't\", 'weren', 'is', 'or', \"doesn't\", 'itself', 'aren', 'i', \"you're\", 'there', 'their', 'because', 'through', 'once', 'while', 'have', 'during', 'between', 'off', 'does', 'haven', 'that', 'to', \"wouldn't\", 'over', 'has', 'them', 'ain', 'ours', 'few', 's', 'against', 'below', 'should', \"should've\", 'doesn', 'from', 'in', 'no', 'ourselves', 'they', 'ma', 'at', 'm', \"weren't\", 'and', 'o', \"you'll\", 'so', 'this', 'some', 'most', 'again', 'what', 'myself', 'shan', 'was', 'y', 'when', 'here', \"couldn't\", \"that'll\", 'shouldn', 'wouldn', 'own', 'how', 'be', 'up', 'didn', 'where', 'yourselves', 'any', 'd', 'herself', 'whom', 'having', 'isn', 'just', 'for', \"mightn't\", 'll', 'hadn', 're', 'more', 'yours', \"wasn't\", \"hasn't\", \"you've\", 'which', 'on', 'it', 'same', 'too', 'him', 'above', 'don', 'other', 'down', 'further', 'theirs', \"isn't\", \"it's\", 'under', 'both', 'your', 'are', 'doing', 'about', 'will', 'won', 'these', 'very', 'yourself', 'my', \"you'd\", 'out', 'couldn', \"hadn't\", 'she', 'its', 't', 'mightn', 'mustn', \"won't\", 'wasn', 'had', 'he', 'before', \"haven't\", \"shouldn't\", 'am', 'themselves', 'now', 'those', \"aren't\", 'do', 'we', 'hers', 'all', 'you', 'were', 'did', 'until', 'by', 'his', 'been', 'not'}\n"
          ]
        }
      ]
    },
    {
      "cell_type": "markdown",
      "source": [
        "Text feature extraction and model generation\n",
        "\n",
        "We can convert text into numeric features using term occurrence vectors or tf-idf vectors. This conversion can be easily done using CountVectorizer or TfidfVectorizer.\n",
        "\n",
        "As classification algorithms, you learned SVM, Naive Bayes and decision trees under Machine Learning module. To make things simpler, let's focus on SVM for our initial experiments to understand the impact by different data preprocessing techniques and features. Later we can extend the experiments to other algorithms."
      ],
      "metadata": {
        "id": "7Hm_z_mY_kpU"
      }
    },
    {
      "cell_type": "markdown",
      "source": [
        "As the first step, we need to separate data into a training set and validation set.\n",
        "\n",
        "Since we are going to evaluate the models trained using raw (original) text, tokenised text and lemmatised text, in below, I create 3 train and test set pairs using the columns: 'Text', 'Tokenised_Text' and 'Lemmatised_Text'."
      ],
      "metadata": {
        "id": "I3qlB89T_8oC"
      }
    },
    {
      "cell_type": "code",
      "source": [
        "# use raw text\n",
        "X_train_text, X_val_text, y_train, y_val = train_test_split(df['Text'], df['Sentiment'], test_size=0.3, random_state=100)\n",
        "print(f'training data set size: {len(X_train_text)}')\n",
        "print(f'validation data set size: {len(X_val_text)}')\n",
        "\n",
        "# use tokenised text\n",
        "X_train_tokenised_text, X_val_tokenised_text, y_train, y_val = train_test_split(df['Tokenised_Text'], df['Sentiment'], test_size=0.3, random_state=100)\n",
        "print(f'training data set size: {len(X_train_tokenised_text)}')\n",
        "print(f'validation data set size: {len(X_val_tokenised_text)}')\n",
        "\n",
        "# use lemmatised text\n",
        "X_train_lemmatised_text, X_val_lemmatised_text, y_train, y_val = train_test_split(df['Lemmatised_Text'], df['Sentiment'], test_size=0.3, random_state=100)\n",
        "print(f'training data set size: {len(X_train_lemmatised_text)}')\n",
        "print(f'validation data set size: {len(X_val_lemmatised_text)}')\n",
        "\n",
        "# define class_names to using with plot_confusion_matrix\n",
        "class_list = ['positive', 'negative']"
      ],
      "metadata": {
        "colab": {
          "base_uri": "https://localhost:8080/"
        },
        "id": "mUnG7Whw_hsX",
        "outputId": "a9c196be-fcb6-4e1c-ae3a-5c1a959edf3f"
      },
      "execution_count": null,
      "outputs": [
        {
          "output_type": "stream",
          "name": "stdout",
          "text": [
            "training data set size: 11454\n",
            "validation data set size: 4909\n",
            "training data set size: 11454\n",
            "validation data set size: 4909\n",
            "training data set size: 11454\n",
            "validation data set size: 4909\n"
          ]
        }
      ]
    },
    {
      "cell_type": "code",
      "source": [
        "# method to plot confusion matrix\n",
        "def plot_confusion_matrix(matrix, class_names):\n",
        "    plt.clf()\n",
        "    plt.imshow(matrix, interpolation='nearest', cmap=plt.cm.Set2_r)\n",
        "    plt.title('Confusion Matrix')\n",
        "    plt.ylabel('Predicted')\n",
        "    plt.xlabel('Actual')\n",
        "    tick_marks = np.arange(len(class_names))\n",
        "    plt.xticks(tick_marks, class_names)\n",
        "    plt.yticks(tick_marks, class_names)\n",
        "    s = [['TP','FP'], ['FN', 'TN']]\n",
        "\n",
        "    for i in range(2):\n",
        "        for j in range(2):\n",
        "            plt.text(j,i, str(s[i][j])+\" = \"+str(matrix[i][j]))\n",
        "    plt.show()\n",
        "\n",
        "# method to calculate evaluation results\n",
        "def evaluate(actuals, predictions, class_names):\n",
        "  accuracy = metrics.accuracy_score(actuals, predictions)\n",
        "  confusion_matrix = metrics.confusion_matrix(actuals, predictions, labels=class_names)\n",
        "  return accuracy, confusion_matrix"
      ],
      "metadata": {
        "id": "68cbJIJQAF9E"
      },
      "execution_count": null,
      "outputs": []
    },
    {
      "cell_type": "markdown",
      "source": [
        "SVM"
      ],
      "metadata": {
        "id": "REa6vLAUAKKx"
      }
    },
    {
      "cell_type": "code",
      "source": [
        "# method to train and predict using SVM classifier\n",
        "def get_svm_predictions(X_train, X_val, y_train, y_val, class_names):\n",
        "  # build model\n",
        "  clf = svm.SVC(kernel='linear', random_state=RANDOM_SEED) \n",
        "  clf.fit(X_train, y_train)\n",
        "\n",
        "  # Make predictions on test data\n",
        "  y_pred = clf.predict(X_val)\n",
        "\n",
        "  # evalution\n",
        "  accuracy, confusion_matrix = evaluate(y_val, y_pred, class_names)\n",
        "  print(f'Accuracy: {accuracy}')\n",
        "  plot_confusion_matrix(confusion_matrix, class_names)\n",
        "\n",
        "  return clf"
      ],
      "metadata": {
        "id": "OMSWwcxsAH74"
      },
      "execution_count": null,
      "outputs": []
    },
    {
      "cell_type": "markdown",
      "source": [
        "Model M1\n",
        "\n",
        "Data preprocessing - lower casing, punctuation removal\n",
        "\n",
        "Features - term occurrence vector (1-grams)\n",
        "\n",
        "Algorithm - SVM"
      ],
      "metadata": {
        "id": "tBn15z23ASAm"
      }
    },
    {
      "cell_type": "code",
      "source": [
        "vectorizer = CountVectorizer()  # default: lowercase=True, ngram_range=(1,1)\n",
        "vectorizer.fit(X_train_text)\n",
        "\n",
        "# convert train and test text data to numeric vectors\n",
        "X_train = vectorizer.transform(X_train_text)\n",
        "X_val = vectorizer.transform(X_val_text)\n",
        "\n",
        "m1 = get_svm_predictions(X_train, X_val, y_train, y_val, class_list)"
      ],
      "metadata": {
        "colab": {
          "base_uri": "https://localhost:8080/",
          "height": 312
        },
        "id": "kiWVqYLVAPa2",
        "outputId": "f2047849-e07a-4bda-e4e5-fcea6dbb9022"
      },
      "execution_count": null,
      "outputs": [
        {
          "output_type": "stream",
          "name": "stdout",
          "text": [
            "Accuracy: 0.8602566714198411\n"
          ]
        },
        {
          "output_type": "display_data",
          "data": {
            "image/png": "[encoded data removed]",
            "text/plain": [
              "<Figure size 432x288 with 1 Axes>"
            ]
          },
          "metadata": {
            "needs_background": "light"
          }
        }
      ]
    },
    {
      "cell_type": "markdown",
      "source": [
        "Model M2\n",
        "\n",
        "Data preprocessing - lower casing, punctuation removal\n",
        "\n",
        "Features - tf-idf vector (1-grams)\n",
        "\n",
        "Algorithm - SVM"
      ],
      "metadata": {
        "id": "cHwwcYATAgG6"
      }
    },
    {
      "cell_type": "code",
      "source": [
        "vectorizer = TfidfVectorizer()  # default: lowercase=True, ngram_range=(1,1)\n",
        "vectorizer.fit(X_train_text)\n",
        "\n",
        "# convert train and test text data to numeric vectors\n",
        "X_train = vectorizer.transform(X_train_text)\n",
        "X_val = vectorizer.transform(X_val_text)\n",
        "\n",
        "m2 = get_svm_predictions(X_train, X_val, y_train, y_val, class_list)"
      ],
      "metadata": {
        "colab": {
          "base_uri": "https://localhost:8080/",
          "height": 312
        },
        "id": "CLg7yarwAdXW",
        "outputId": "9f2a6741-ac14-4e07-a051-5ecd8f79cd50"
      },
      "execution_count": null,
      "outputs": [
        {
          "output_type": "stream",
          "name": "stdout",
          "text": [
            "Accuracy: 0.8690160928906091\n"
          ]
        },
        {
          "output_type": "display_data",
          "data": {
            "image/png": "[encoded data removed]",
            "text/plain": [
              "<Figure size 432x288 with 1 Axes>"
            ]
          },
          "metadata": {
            "needs_background": "light"
          }
        }
      ]
    },
    {
      "cell_type": "markdown",
      "source": [
        "According to the measures accuracy values model M2 is more accurate than model M1."
      ],
      "metadata": {
        "id": "gdNgqyCJAqjg"
      }
    },
    {
      "cell_type": "markdown",
      "source": [
        "Model M3\n",
        "\n",
        "Data preprocessing - lower casing, punctuation removal, tokenisation(NLTK)\n",
        "\n",
        "Features - tf-idf vector (1-grams)\n",
        "\n",
        "Algorithm - SVM"
      ],
      "metadata": {
        "id": "DNeTOsuKAqWH"
      }
    },
    {
      "cell_type": "code",
      "source": [
        "vectorizer = TfidfVectorizer()  # default: lowercase=True, ngram_range=(1,1)\n",
        "vectorizer.fit(X_train_tokenised_text)\n",
        "\n",
        "# convert train and test text data to numeric vectors\n",
        "X_train = vectorizer.transform(X_train_tokenised_text)\n",
        "X_val = vectorizer.transform(X_val_tokenised_text)\n",
        "\n",
        "m3 = get_svm_predictions(X_train, X_val, y_train, y_val, class_list)"
      ],
      "metadata": {
        "colab": {
          "base_uri": "https://localhost:8080/",
          "height": 312
        },
        "id": "8r8DG58lAv9M",
        "outputId": "ac02d235-9362-4e48-f5e9-cbd908c62556"
      },
      "execution_count": null,
      "outputs": [
        {
          "output_type": "stream",
          "name": "stdout",
          "text": [
            "Accuracy: 0.8698309227948666\n"
          ]
        },
        {
          "output_type": "display_data",
          "data": {
            "image/png": "[encoded data removed]",
            "text/plain": [
              "<Figure size 432x288 with 1 Axes>"
            ]
          },
          "metadata": {
            "needs_background": "light"
          }
        }
      ]
    },
    {
      "cell_type": "markdown",
      "source": [
        "Model M4\n",
        "\n",
        "Data preprocessing - lower casing, punctuation removal, lemmatisation(WordNet)\n",
        "\n",
        "Features - tf-idf vector (1-grams)\n",
        "\n",
        "Algorithm - SVM"
      ],
      "metadata": {
        "id": "0H08JBHBA3oE"
      }
    },
    {
      "cell_type": "code",
      "source": [
        "vectorizer = TfidfVectorizer()  # default: lowercase=True, ngram_range=(1,1)\n",
        "vectorizer.fit(X_train_lemmatised_text)\n",
        "\n",
        "# convert train and test text data to numeric vectors\n",
        "X_train = vectorizer.transform(X_train_lemmatised_text)\n",
        "X_val = vectorizer.transform(X_val_lemmatised_text)\n",
        "\n",
        "m4 = get_svm_predictions(X_train, X_val, y_train, y_val, class_list)"
      ],
      "metadata": {
        "colab": {
          "base_uri": "https://localhost:8080/",
          "height": 312
        },
        "id": "34SP-qexA6jd",
        "outputId": "ccbe4b6b-cbc8-40e1-d994-9164818c4015"
      },
      "execution_count": null,
      "outputs": [
        {
          "output_type": "stream",
          "name": "stdout",
          "text": [
            "Accuracy: 0.8682012629863516\n"
          ]
        },
        {
          "output_type": "display_data",
          "data": {
            "image/png": "[encoded data removed]",
            "text/plain": [
              "<Figure size 432x288 with 1 Axes>"
            ]
          },
          "metadata": {
            "needs_background": "light"
          }
        }
      ]
    },
    {
      "cell_type": "markdown",
      "source": [
        "Model M5\n",
        "\n",
        "Data preprocessing - lower casing, punctuation removal, tokenisation(NLTK), \n",
        "stop word removal\n",
        "\n",
        "Features - tf-idf vector (1-grams)\n",
        "\n",
        "Algorithm - SVM"
      ],
      "metadata": {
        "id": "hmbbt6UNBC7r"
      }
    },
    {
      "cell_type": "code",
      "source": [
        "vectorizer = TfidfVectorizer(stop_words=stop_words)  # default: lowercase=True, ngram_range=(1,1)\n",
        "vectorizer.fit(X_train_tokenised_text)\n",
        "\n",
        "# convert train and test text data to numeric vectors\n",
        "X_train = vectorizer.transform(X_train_tokenised_text)\n",
        "X_val = vectorizer.transform(X_val_tokenised_text)\n",
        "\n",
        "m5 = get_svm_predictions(X_train, X_val, y_train, y_val, class_list)"
      ],
      "metadata": {
        "colab": {
          "base_uri": "https://localhost:8080/",
          "height": 312
        },
        "id": "NUOD1ck5BCcb",
        "outputId": "bd3c9467-f2b5-43a0-92bd-7013dc4c4b39"
      },
      "execution_count": null,
      "outputs": [
        {
          "output_type": "stream",
          "name": "stdout",
          "text": [
            "Accuracy: 0.8586270116113262\n"
          ]
        },
        {
          "output_type": "display_data",
          "data": {
            "image/png": "[encoded data removed]",
            "text/plain": [
              "<Figure size 432x288 with 1 Axes>"
            ]
          },
          "metadata": {
            "needs_background": "light"
          }
        }
      ]
    },
    {
      "cell_type": "markdown",
      "source": [
        "Model M6\n",
        "\n",
        "Data preprocessing - lower casing, punctuation removal, lemmatisation(WordNet), stop word removal\n",
        "\n",
        "Features - tf-idf vector (1-grams)\n",
        "\n",
        "Algorithm - SVM"
      ],
      "metadata": {
        "id": "EIgMFzjFBPdl"
      }
    },
    {
      "cell_type": "code",
      "source": [
        "vectorizer = TfidfVectorizer(stop_words=stop_words)  # default: lowercase=True, ngram_range=(1,1)\n",
        "vectorizer.fit(X_train_lemmatised_text)\n",
        "\n",
        "# convert train and test text data to numeric vectors\n",
        "X_train = vectorizer.transform(X_train_lemmatised_text)\n",
        "X_val = vectorizer.transform(X_val_lemmatised_text)\n",
        "\n",
        "m6 = get_svm_predictions(X_train, X_val, y_train, y_val, class_list)"
      ],
      "metadata": {
        "colab": {
          "base_uri": "https://localhost:8080/",
          "height": 312
        },
        "id": "PUgNs2U8BTEE",
        "outputId": "3232c945-3a71-486e-e8d8-eda0a3cb0a21"
      },
      "execution_count": null,
      "outputs": [
        {
          "output_type": "stream",
          "name": "stdout",
          "text": [
            "Accuracy: 0.8588307190873905\n"
          ]
        },
        {
          "output_type": "display_data",
          "data": {
            "image/png": "[encoded data removed]",
            "text/plain": [
              "<Figure size 432x288 with 1 Axes>"
            ]
          },
          "metadata": {
            "needs_background": "light"
          }
        }
      ]
    },
    {
      "cell_type": "markdown",
      "source": [
        "Other algorithms"
      ],
      "metadata": {
        "id": "9qW9i9uXBbmD"
      }
    },
    {
      "cell_type": "markdown",
      "source": [
        "Decision Tree"
      ],
      "metadata": {
        "id": "NHcZ4OYQBe_G"
      }
    },
    {
      "cell_type": "code",
      "source": [
        "# method to train and predict using Decision Tree\n",
        "def get_dt_predictions(X_train, X_val, y_train, y_val, class_list):\n",
        "  # build model\n",
        "  clf = tree.DecisionTreeClassifier(random_state=RANDOM_SEED)\n",
        "  clf.fit(X_train, y_train)\n",
        "\n",
        "  # Make predictions on test data\n",
        "  y_pred = clf.predict(X_val)\n",
        "\n",
        "  # evalution\n",
        "  accuracy, confusion_matrix = evaluate(y_val, y_pred, class_list)\n",
        "  print(f'Accuracy: {accuracy}')\n",
        "  plot_confusion_matrix(confusion_matrix, class_list)\n",
        "\n",
        "  return clf"
      ],
      "metadata": {
        "id": "uikec6_5Bcmi"
      },
      "execution_count": null,
      "outputs": []
    },
    {
      "cell_type": "markdown",
      "source": [
        "Data preprocessing - lower casing, punctuation removal\n",
        "\n",
        "Features - tf-idf vector (1-grams)\n",
        "\n",
        "Algorithm - DecisionTreeClassifier"
      ],
      "metadata": {
        "id": "3-pDLH0PBn0c"
      }
    },
    {
      "cell_type": "code",
      "source": [
        "vectorizer = TfidfVectorizer()  # default: lowercase=True, ngram_range=(1,1)\n",
        "vectorizer.fit(X_train_tokenised_text)\n",
        "\n",
        "# convert train and test text data to numeric vectors\n",
        "X_train = vectorizer.transform(X_train_tokenised_text)\n",
        "X_val = vectorizer.transform(X_val_tokenised_text)\n",
        "\n",
        "m3 = get_dt_predictions(X_train, X_val, y_train, y_val, class_list)"
      ],
      "metadata": {
        "colab": {
          "base_uri": "https://localhost:8080/",
          "height": 312
        },
        "id": "xsNValeKBlOW",
        "outputId": "7a9017a8-dbfd-4beb-b646-b2c2ed2d0ade"
      },
      "execution_count": null,
      "outputs": [
        {
          "output_type": "stream",
          "name": "stdout",
          "text": [
            "Accuracy: 0.8054593603585252\n"
          ]
        },
        {
          "output_type": "display_data",
          "data": {
            "image/png": "[encoded data removed]",
            "text/plain": [
              "<Figure size 432x288 with 1 Axes>"
            ]
          },
          "metadata": {
            "needs_background": "light"
          }
        }
      ]
    },
    {
      "cell_type": "code",
      "source": [
        "vectorizer = TfidfVectorizer()  # default: lowercase=True, ngram_range=(1,1)\n",
        "vectorizer.fit(X_train_text)\n",
        "\n",
        "# convert train and test text data to numeric vectors\n",
        "X_train = vectorizer.transform(X_train_text)\n",
        "X_val = vectorizer.transform(X_val_text)\n",
        "\n",
        "m7 = get_dt_predictions(X_train, X_val, y_train, y_val, class_list)"
      ],
      "metadata": {
        "colab": {
          "base_uri": "https://localhost:8080/",
          "height": 312
        },
        "id": "mpOFoWfOB0j9",
        "outputId": "6e0ac1b8-7e97-435c-922c-6a7a4db80f06"
      },
      "execution_count": null,
      "outputs": [
        {
          "output_type": "stream",
          "name": "stdout",
          "text": [
            "Accuracy: 0.8056630678345895\n"
          ]
        },
        {
          "output_type": "display_data",
          "data": {
            "image/png": "[encoded data removed]",
            "text/plain": [
              "<Figure size 432x288 with 1 Axes>"
            ]
          },
          "metadata": {
            "needs_background": "light"
          }
        }
      ]
    },
    {
      "cell_type": "markdown",
      "source": [
        "Predictions"
      ],
      "metadata": {
        "id": "LGrZ0hjWDHKP"
      }
    },
    {
      "cell_type": "code",
      "source": [
        "test_reviews = [\"My absolute favorite Yogi tea!  Pleasantly spicy, with a hint of rich chocolate.  I much prefer this to the Mayan Cocoa Spice & Sweet Thai flavors.  It's what I reach for when I get a craving for a cup of hot chocolate but don't want the calories.\",\n",
        "                \"The price is good, size is perfect...but my dog doesn't like them at all. Would not buy again sorry. Not the products fault\",\n",
        "                \"My dog loves the taste of these...they're a nice change from rawhides..I feel like I can give him treats more often\",\n",
        "                \"I buy stuff like this for the grand kids. I think they liked it.  I cannot eat pre-packaged foods due to health concerns. I haven't heard anything negative, so it must have been ok.\",\n",
        "                \"Yuck!  This is the first time this tasted bland.  Is something different with this batch?\"]"
      ],
      "metadata": {
        "id": "y5gLT9Z5DIKg"
      },
      "execution_count": null,
      "outputs": []
    },
    {
      "cell_type": "markdown",
      "source": [
        "\n",
        "Let's use the best model we have created so far to make predictions for test data."
      ],
      "metadata": {
        "id": "PQXvuEWeDQb4"
      }
    },
    {
      "cell_type": "markdown",
      "source": [
        "M3 is the best"
      ],
      "metadata": {
        "id": "W11X5GCWDT31"
      }
    },
    {
      "cell_type": "code",
      "source": [
        "# load the data set\n",
        "# As the parameter, the file path should be provided. Additionally, GitHub URL can also be provided as follows.\n",
        "df = pd.read_csv('https://raw.githubusercontent.com/ToHLz/Machine-learning/main/test.csv')\n",
        "\n",
        "print(df.shape)\n",
        "df.head()"
      ],
      "metadata": {
        "colab": {
          "base_uri": "https://localhost:8080/",
          "height": 223
        },
        "id": "crlTDWFPZbCi",
        "outputId": "afc85335-5789-4b77-d330-03c4fd5f42e0"
      },
      "execution_count": null,
      "outputs": [
        {
          "output_type": "stream",
          "name": "stdout",
          "text": [
            "(1000, 2)\n"
          ]
        },
        {
          "output_type": "execute_result",
          "data": {
            "text/html": [
              "\n",
              "  <div id=\"df-47fa680f-101f-427d-91f0-8c4325b1ef0e\">\n",
              "    <div class=\"colab-df-container\">\n",
              "      <div>\n",
              "<style scoped>\n",
              "    .dataframe tbody tr th:only-of-type {\n",
              "        vertical-align: middle;\n",
              "    }\n",
              "\n",
              "    .dataframe tbody tr th {\n",
              "        vertical-align: top;\n",
              "    }\n",
              "\n",
              "    .dataframe thead th {\n",
              "        text-align: right;\n",
              "    }\n",
              "</style>\n",
              "<table border=\"1\" class=\"dataframe\">\n",
              "  <thead>\n",
              "    <tr style=\"text-align: right;\">\n",
              "      <th></th>\n",
              "      <th>Id</th>\n",
              "      <th>Text</th>\n",
              "    </tr>\n",
              "  </thead>\n",
              "  <tbody>\n",
              "    <tr>\n",
              "      <th>0</th>\n",
              "      <td>96d74cb729</td>\n",
              "      <td>Shanghai is also really exciting (precisely -...</td>\n",
              "    </tr>\n",
              "    <tr>\n",
              "      <th>1</th>\n",
              "      <td>eee518ae67</td>\n",
              "      <td>Recession hit Veronique Branquinho, she has to...</td>\n",
              "    </tr>\n",
              "    <tr>\n",
              "      <th>2</th>\n",
              "      <td>01082688c6</td>\n",
              "      <td>happy bday!</td>\n",
              "    </tr>\n",
              "    <tr>\n",
              "      <th>3</th>\n",
              "      <td>33987a8ee5</td>\n",
              "      <td>http://twitpic.com/4w75p - I like it!!</td>\n",
              "    </tr>\n",
              "    <tr>\n",
              "      <th>4</th>\n",
              "      <td>726e501993</td>\n",
              "      <td>that`s great!! weee!! visitors!</td>\n",
              "    </tr>\n",
              "  </tbody>\n",
              "</table>\n",
              "</div>\n",
              "      <button class=\"colab-df-convert\" onclick=\"convertToInteractive('df-47fa680f-101f-427d-91f0-8c4325b1ef0e')\"\n",
              "              title=\"Convert this dataframe to an interactive table.\"\n",
              "              style=\"display:none;\">\n",
              "        \n",
              "  <svg xmlns=\"http://www.w3.org/2000/svg\" height=\"24px\"viewBox=\"0 0 24 24\"\n",
              "       width=\"24px\">\n",
              "    <path d=\"M0 0h24v24H0V0z\" fill=\"none\"/>\n",
              "    <path d=\"M18.56 5.44l.94 2.06.94-2.06 2.06-.94-2.06-.94-.94-2.06-.94 2.06-2.06.94zm-11 1L8.5 8.5l.94-2.06 2.06-.94-2.06-.94L8.5 2.5l-.94 2.06-2.06.94zm10 10l.94 2.06.94-2.06 2.06-.94-2.06-.94-.94-2.06-.94 2.06-2.06.94z\"/><path d=\"M17.41 7.96l-1.37-1.37c-.4-.4-.92-.59-1.43-.59-.52 0-1.04.2-1.43.59L10.3 9.45l-7.72 7.72c-.78.78-.78 2.05 0 2.83L4 21.41c.39.39.9.59 1.41.59.51 0 1.02-.2 1.41-.59l7.78-7.78 2.81-2.81c.8-.78.8-2.07 0-2.86zM5.41 20L4 18.59l7.72-7.72 1.47 1.35L5.41 20z\"/>\n",
              "  </svg>\n",
              "      </button>\n",
              "      \n",
              "  <style>\n",
              "    .colab-df-container {\n",
              "      display:flex;\n",
              "      flex-wrap:wrap;\n",
              "      gap: 12px;\n",
              "    }\n",
              "\n",
              "    .colab-df-convert {\n",
              "      background-color: #E8F0FE;\n",
              "      border: none;\n",
              "      border-radius: 50%;\n",
              "      cursor: pointer;\n",
              "      display: none;\n",
              "      fill: #1967D2;\n",
              "      height: 32px;\n",
              "      padding: 0 0 0 0;\n",
              "      width: 32px;\n",
              "    }\n",
              "\n",
              "    .colab-df-convert:hover {\n",
              "      background-color: #E2EBFA;\n",
              "      box-shadow: 0px 1px 2px rgba(60, 64, 67, 0.3), 0px 1px 3px 1px rgba(60, 64, 67, 0.15);\n",
              "      fill: #174EA6;\n",
              "    }\n",
              "\n",
              "    [theme=dark] .colab-df-convert {\n",
              "      background-color: #3B4455;\n",
              "      fill: #D2E3FC;\n",
              "    }\n",
              "\n",
              "    [theme=dark] .colab-df-convert:hover {\n",
              "      background-color: #434B5C;\n",
              "      box-shadow: 0px 1px 3px 1px rgba(0, 0, 0, 0.15);\n",
              "      filter: drop-shadow(0px 1px 2px rgba(0, 0, 0, 0.3));\n",
              "      fill: #FFFFFF;\n",
              "    }\n",
              "  </style>\n",
              "\n",
              "      <script>\n",
              "        const buttonEl =\n",
              "          document.querySelector('#df-47fa680f-101f-427d-91f0-8c4325b1ef0e button.colab-df-convert');\n",
              "        buttonEl.style.display =\n",
              "          google.colab.kernel.accessAllowed ? 'block' : 'none';\n",
              "\n",
              "        async function convertToInteractive(key) {\n",
              "          const element = document.querySelector('#df-47fa680f-101f-427d-91f0-8c4325b1ef0e');\n",
              "          const dataTable =\n",
              "            await google.colab.kernel.invokeFunction('convertToInteractive',\n",
              "                                                     [key], {});\n",
              "          if (!dataTable) return;\n",
              "\n",
              "          const docLinkHtml = 'Like what you see? Visit the ' +\n",
              "            '<a target=\"_blank\" href=https://colab.research.google.com/notebooks/data_table.ipynb>data table notebook</a>'\n",
              "            + ' to learn more about interactive tables.';\n",
              "          element.innerHTML = '';\n",
              "          dataTable['output_type'] = 'display_data';\n",
              "          await google.colab.output.renderOutput(dataTable, element);\n",
              "          const docLink = document.createElement('div');\n",
              "          docLink.innerHTML = docLinkHtml;\n",
              "          element.appendChild(docLink);\n",
              "        }\n",
              "      </script>\n",
              "    </div>\n",
              "  </div>\n",
              "  "
            ],
            "text/plain": [
              "           Id                                               Text\n",
              "0  96d74cb729   Shanghai is also really exciting (precisely -...\n",
              "1  eee518ae67  Recession hit Veronique Branquinho, she has to...\n",
              "2  01082688c6                                        happy bday!\n",
              "3  33987a8ee5             http://twitpic.com/4w75p - I like it!!\n",
              "4  726e501993                    that`s great!! weee!! visitors!"
            ]
          },
          "metadata": {},
          "execution_count": 28
        }
      ]
    },
    {
      "cell_type": "code",
      "source": [
        "# iterate through each row in 'Text' columm and convert text to tokens\n",
        "tknzr = TweetTokenizer()\n",
        "list_tokenised_text = [tknzr.tokenize(text) for text in df['Text']]\n",
        "print(list_tokenised_text[:2])\n",
        "\n",
        "list_tokenised_sentences = [' '.join(tokens) for tokens in list_tokenised_text]\n",
        "print(list_tokenised_sentences[:2])\n",
        "\n",
        "# add new column to data frame\n",
        "df['Tokenised_Text'] = list_tokenised_sentences\n",
        "df.head()"
      ],
      "metadata": {
        "colab": {
          "base_uri": "https://localhost:8080/",
          "height": 261
        },
        "id": "M7MpskUyEpiQ",
        "outputId": "018000a4-8f16-468d-f05e-51bf7377a099"
      },
      "execution_count": null,
      "outputs": [
        {
          "output_type": "stream",
          "name": "stdout",
          "text": [
            "[['Shanghai', 'is', 'also', 'really', 'exciting', '(', 'precisely', '-', '-', 'skyscrapers', 'galore', ')', '.', 'Good', 'tweeps', 'in', 'China', ':', '(', 'SH', ')', '(', 'BJ', ')', '.'], ['Recession', 'hit', 'Veronique', 'Branquinho', ',', 'she', 'has', 'to', 'quit', 'her', 'company', ',', 'such', 'a', 'shame', '!']]\n",
            "['Shanghai is also really exciting ( precisely - - skyscrapers galore ) . Good tweeps in China : ( SH ) ( BJ ) .', 'Recession hit Veronique Branquinho , she has to quit her company , such a shame !']\n"
          ]
        },
        {
          "output_type": "execute_result",
          "data": {
            "text/html": [
              "\n",
              "  <div id=\"df-5e6aac31-bbb3-43ae-b3ec-6eda118c592b\">\n",
              "    <div class=\"colab-df-container\">\n",
              "      <div>\n",
              "<style scoped>\n",
              "    .dataframe tbody tr th:only-of-type {\n",
              "        vertical-align: middle;\n",
              "    }\n",
              "\n",
              "    .dataframe tbody tr th {\n",
              "        vertical-align: top;\n",
              "    }\n",
              "\n",
              "    .dataframe thead th {\n",
              "        text-align: right;\n",
              "    }\n",
              "</style>\n",
              "<table border=\"1\" class=\"dataframe\">\n",
              "  <thead>\n",
              "    <tr style=\"text-align: right;\">\n",
              "      <th></th>\n",
              "      <th>Id</th>\n",
              "      <th>Text</th>\n",
              "      <th>Tokenised_Text</th>\n",
              "    </tr>\n",
              "  </thead>\n",
              "  <tbody>\n",
              "    <tr>\n",
              "      <th>0</th>\n",
              "      <td>96d74cb729</td>\n",
              "      <td>Shanghai is also really exciting (precisely -...</td>\n",
              "      <td>Shanghai is also really exciting ( precisely -...</td>\n",
              "    </tr>\n",
              "    <tr>\n",
              "      <th>1</th>\n",
              "      <td>eee518ae67</td>\n",
              "      <td>Recession hit Veronique Branquinho, she has to...</td>\n",
              "      <td>Recession hit Veronique Branquinho , she has t...</td>\n",
              "    </tr>\n",
              "    <tr>\n",
              "      <th>2</th>\n",
              "      <td>01082688c6</td>\n",
              "      <td>happy bday!</td>\n",
              "      <td>happy bday !</td>\n",
              "    </tr>\n",
              "    <tr>\n",
              "      <th>3</th>\n",
              "      <td>33987a8ee5</td>\n",
              "      <td>http://twitpic.com/4w75p - I like it!!</td>\n",
              "      <td>http://twitpic.com/4w75p - I like it ! !</td>\n",
              "    </tr>\n",
              "    <tr>\n",
              "      <th>4</th>\n",
              "      <td>726e501993</td>\n",
              "      <td>that`s great!! weee!! visitors!</td>\n",
              "      <td>that ` s great ! ! weee ! ! visitors !</td>\n",
              "    </tr>\n",
              "  </tbody>\n",
              "</table>\n",
              "</div>\n",
              "      <button class=\"colab-df-convert\" onclick=\"convertToInteractive('df-5e6aac31-bbb3-43ae-b3ec-6eda118c592b')\"\n",
              "              title=\"Convert this dataframe to an interactive table.\"\n",
              "              style=\"display:none;\">\n",
              "        \n",
              "  <svg xmlns=\"http://www.w3.org/2000/svg\" height=\"24px\"viewBox=\"0 0 24 24\"\n",
              "       width=\"24px\">\n",
              "    <path d=\"M0 0h24v24H0V0z\" fill=\"none\"/>\n",
              "    <path d=\"M18.56 5.44l.94 2.06.94-2.06 2.06-.94-2.06-.94-.94-2.06-.94 2.06-2.06.94zm-11 1L8.5 8.5l.94-2.06 2.06-.94-2.06-.94L8.5 2.5l-.94 2.06-2.06.94zm10 10l.94 2.06.94-2.06 2.06-.94-2.06-.94-.94-2.06-.94 2.06-2.06.94z\"/><path d=\"M17.41 7.96l-1.37-1.37c-.4-.4-.92-.59-1.43-.59-.52 0-1.04.2-1.43.59L10.3 9.45l-7.72 7.72c-.78.78-.78 2.05 0 2.83L4 21.41c.39.39.9.59 1.41.59.51 0 1.02-.2 1.41-.59l7.78-7.78 2.81-2.81c.8-.78.8-2.07 0-2.86zM5.41 20L4 18.59l7.72-7.72 1.47 1.35L5.41 20z\"/>\n",
              "  </svg>\n",
              "      </button>\n",
              "      \n",
              "  <style>\n",
              "    .colab-df-container {\n",
              "      display:flex;\n",
              "      flex-wrap:wrap;\n",
              "      gap: 12px;\n",
              "    }\n",
              "\n",
              "    .colab-df-convert {\n",
              "      background-color: #E8F0FE;\n",
              "      border: none;\n",
              "      border-radius: 50%;\n",
              "      cursor: pointer;\n",
              "      display: none;\n",
              "      fill: #1967D2;\n",
              "      height: 32px;\n",
              "      padding: 0 0 0 0;\n",
              "      width: 32px;\n",
              "    }\n",
              "\n",
              "    .colab-df-convert:hover {\n",
              "      background-color: #E2EBFA;\n",
              "      box-shadow: 0px 1px 2px rgba(60, 64, 67, 0.3), 0px 1px 3px 1px rgba(60, 64, 67, 0.15);\n",
              "      fill: #174EA6;\n",
              "    }\n",
              "\n",
              "    [theme=dark] .colab-df-convert {\n",
              "      background-color: #3B4455;\n",
              "      fill: #D2E3FC;\n",
              "    }\n",
              "\n",
              "    [theme=dark] .colab-df-convert:hover {\n",
              "      background-color: #434B5C;\n",
              "      box-shadow: 0px 1px 3px 1px rgba(0, 0, 0, 0.15);\n",
              "      filter: drop-shadow(0px 1px 2px rgba(0, 0, 0, 0.3));\n",
              "      fill: #FFFFFF;\n",
              "    }\n",
              "  </style>\n",
              "\n",
              "      <script>\n",
              "        const buttonEl =\n",
              "          document.querySelector('#df-5e6aac31-bbb3-43ae-b3ec-6eda118c592b button.colab-df-convert');\n",
              "        buttonEl.style.display =\n",
              "          google.colab.kernel.accessAllowed ? 'block' : 'none';\n",
              "\n",
              "        async function convertToInteractive(key) {\n",
              "          const element = document.querySelector('#df-5e6aac31-bbb3-43ae-b3ec-6eda118c592b');\n",
              "          const dataTable =\n",
              "            await google.colab.kernel.invokeFunction('convertToInteractive',\n",
              "                                                     [key], {});\n",
              "          if (!dataTable) return;\n",
              "\n",
              "          const docLinkHtml = 'Like what you see? Visit the ' +\n",
              "            '<a target=\"_blank\" href=https://colab.research.google.com/notebooks/data_table.ipynb>data table notebook</a>'\n",
              "            + ' to learn more about interactive tables.';\n",
              "          element.innerHTML = '';\n",
              "          dataTable['output_type'] = 'display_data';\n",
              "          await google.colab.output.renderOutput(dataTable, element);\n",
              "          const docLink = document.createElement('div');\n",
              "          docLink.innerHTML = docLinkHtml;\n",
              "          element.appendChild(docLink);\n",
              "        }\n",
              "      </script>\n",
              "    </div>\n",
              "  </div>\n",
              "  "
            ],
            "text/plain": [
              "           Id  ...                                     Tokenised_Text\n",
              "0  96d74cb729  ...  Shanghai is also really exciting ( precisely -...\n",
              "1  eee518ae67  ...  Recession hit Veronique Branquinho , she has t...\n",
              "2  01082688c6  ...                                       happy bday !\n",
              "3  33987a8ee5  ...           http://twitpic.com/4w75p - I like it ! !\n",
              "4  726e501993  ...             that ` s great ! ! weee ! ! visitors !\n",
              "\n",
              "[5 rows x 3 columns]"
            ]
          },
          "metadata": {},
          "execution_count": 29
        }
      ]
    },
    {
      "cell_type": "code",
      "source": [
        "vectorizer = TfidfVectorizer()  # default: lowercase=True, ngram_range=(1,1)\n",
        "vectorizer.fit(X_train_tokenised_text)\n",
        "\n",
        "# convert train and test text data to numeric vectors\n",
        "X_train = vectorizer.transform(X_train_tokenised_text)\n",
        "X_val = vectorizer.transform(X_val_tokenised_text)\n",
        "\n",
        "m3 = get_svm_predictions(X_train, X_val, y_train, y_val, class_list)"
      ],
      "metadata": {
        "colab": {
          "base_uri": "https://localhost:8080/",
          "height": 312
        },
        "id": "9C4afhB-9v6j",
        "outputId": "57992a6d-890e-4645-fde0-f23cbe7cfd34"
      },
      "execution_count": null,
      "outputs": [
        {
          "output_type": "stream",
          "name": "stdout",
          "text": [
            "Accuracy: 0.8698309227948666\n"
          ]
        },
        {
          "output_type": "display_data",
          "data": {
            "image/png": "[encoded data removed]",
            "text/plain": [
              "<Figure size 432x288 with 1 Axes>"
            ]
          },
          "metadata": {
            "needs_background": "light"
          }
        }
      ]
    },
    {
      "cell_type": "markdown",
      "source": [
        "We are going to apply the same preprocessing techniques used with model's training data to test data."
      ],
      "metadata": {
        "id": "ptVmPlw6DqKq"
      }
    },
    {
      "cell_type": "code",
      "source": [
        "# drop the rows where at least one element is missing\n",
        "df = df.dropna()\n",
        "\n",
        "print(f'Number of entries: {len(df)}')"
      ],
      "metadata": {
        "colab": {
          "base_uri": "https://localhost:8080/"
        },
        "id": "5mv2qYsgDulo",
        "outputId": "a1c13152-330b-4b65-81a1-11cca35c6193"
      },
      "execution_count": null,
      "outputs": [
        {
          "output_type": "stream",
          "name": "stdout",
          "text": [
            "Number of entries: 1000\n"
          ]
        }
      ]
    },
    {
      "cell_type": "code",
      "source": [
        "vectorizer = TfidfVectorizer()  # default: lowercase=True, ngram_range=(1,1)\n",
        "vectorizer.fit(X_train_tokenised_text)\n",
        "\n",
        "# convert train and test text data to numeric vectors\n",
        "X_train = vectorizer.transform(X_train_tokenised_text)\n",
        "X_val = vectorizer.transform(X_val_tokenised_text)\n",
        "\n",
        "m3 = get_svm_predictions(X_train, X_val, y_train, y_val, class_list)"
      ],
      "metadata": {
        "colab": {
          "base_uri": "https://localhost:8080/",
          "height": 312
        },
        "id": "MT1zvCNpDyJz",
        "outputId": "7fd20b76-8436-4b93-e222-c3b25db344e7"
      },
      "execution_count": null,
      "outputs": [
        {
          "output_type": "stream",
          "name": "stdout",
          "text": [
            "Accuracy: 0.8698309227948666\n"
          ]
        },
        {
          "output_type": "display_data",
          "data": {
            "image/png": "[encoded data removed]",
            "text/plain": [
              "<Figure size 432x288 with 1 Axes>"
            ]
          },
          "metadata": {
            "needs_background": "light"
          }
        }
      ]
    },
    {
      "cell_type": "code",
      "source": [
        "X_test = vectorizer.transform(df['Text'])\n",
        "predictions = m3.predict(X_test)\n",
        "print(predictions)"
      ],
      "metadata": {
        "colab": {
          "base_uri": "https://localhost:8080/"
        },
        "id": "zb678H9FD7H-",
        "outputId": "f302342f-a593-48d3-99c9-785b9e5f95de"
      },
      "execution_count": null,
      "outputs": [
        {
          "output_type": "stream",
          "name": "stdout",
          "text": [
            "['positive' 'negative' 'positive' 'positive' 'positive' 'negative'\n",
            " 'negative' 'negative' 'negative' 'negative' 'negative' 'negative'\n",
            " 'negative' 'positive' 'negative' 'negative' 'negative' 'negative'\n",
            " 'positive' 'positive' 'negative' 'positive' 'positive' 'negative'\n",
            " 'negative' 'negative' 'negative' 'positive' 'positive' 'negative'\n",
            " 'positive' 'negative' 'positive' 'positive' 'positive' 'negative'\n",
            " 'negative' 'positive' 'negative' 'positive' 'positive' 'positive'\n",
            " 'negative' 'negative' 'negative' 'positive' 'positive' 'positive'\n",
            " 'positive' 'negative' 'negative' 'negative' 'positive' 'positive'\n",
            " 'negative' 'positive' 'positive' 'negative' 'positive' 'negative'\n",
            " 'positive' 'negative' 'positive' 'positive' 'negative' 'negative'\n",
            " 'negative' 'positive' 'positive' 'positive' 'positive' 'negative'\n",
            " 'negative' 'positive' 'positive' 'positive' 'negative' 'negative'\n",
            " 'positive' 'positive' 'negative' 'positive' 'negative' 'negative'\n",
            " 'positive' 'positive' 'positive' 'negative' 'negative' 'positive'\n",
            " 'positive' 'positive' 'positive' 'positive' 'positive' 'positive'\n",
            " 'negative' 'negative' 'negative' 'positive' 'positive' 'positive'\n",
            " 'positive' 'negative' 'negative' 'negative' 'negative' 'negative'\n",
            " 'positive' 'positive' 'positive' 'negative' 'negative' 'negative'\n",
            " 'negative' 'negative' 'negative' 'positive' 'positive' 'positive'\n",
            " 'positive' 'negative' 'negative' 'positive' 'negative' 'negative'\n",
            " 'positive' 'positive' 'positive' 'positive' 'negative' 'negative'\n",
            " 'positive' 'negative' 'positive' 'negative' 'positive' 'negative'\n",
            " 'positive' 'negative' 'positive' 'negative' 'negative' 'positive'\n",
            " 'negative' 'positive' 'negative' 'negative' 'negative' 'negative'\n",
            " 'positive' 'negative' 'negative' 'positive' 'positive' 'negative'\n",
            " 'positive' 'negative' 'negative' 'positive' 'negative' 'positive'\n",
            " 'negative' 'positive' 'negative' 'positive' 'positive' 'positive'\n",
            " 'negative' 'negative' 'positive' 'negative' 'positive' 'positive'\n",
            " 'negative' 'positive' 'negative' 'negative' 'positive' 'positive'\n",
            " 'positive' 'negative' 'positive' 'negative' 'negative' 'positive'\n",
            " 'positive' 'positive' 'positive' 'positive' 'positive' 'negative'\n",
            " 'positive' 'negative' 'negative' 'negative' 'positive' 'positive'\n",
            " 'negative' 'positive' 'negative' 'negative' 'positive' 'positive'\n",
            " 'negative' 'negative' 'negative' 'negative' 'negative' 'negative'\n",
            " 'negative' 'negative' 'positive' 'negative' 'positive' 'negative'\n",
            " 'negative' 'positive' 'negative' 'positive' 'positive' 'negative'\n",
            " 'positive' 'positive' 'positive' 'positive' 'negative' 'negative'\n",
            " 'negative' 'positive' 'positive' 'positive' 'positive' 'positive'\n",
            " 'positive' 'negative' 'positive' 'negative' 'negative' 'positive'\n",
            " 'positive' 'positive' 'negative' 'negative' 'negative' 'positive'\n",
            " 'positive' 'positive' 'positive' 'positive' 'positive' 'negative'\n",
            " 'negative' 'positive' 'negative' 'positive' 'positive' 'positive'\n",
            " 'negative' 'positive' 'negative' 'positive' 'negative' 'negative'\n",
            " 'negative' 'positive' 'negative' 'positive' 'positive' 'positive'\n",
            " 'negative' 'positive' 'positive' 'positive' 'positive' 'negative'\n",
            " 'negative' 'negative' 'positive' 'positive' 'negative' 'positive'\n",
            " 'positive' 'positive' 'positive' 'positive' 'positive' 'negative'\n",
            " 'negative' 'positive' 'negative' 'negative' 'positive' 'positive'\n",
            " 'positive' 'negative' 'negative' 'positive' 'positive' 'positive'\n",
            " 'positive' 'negative' 'positive' 'negative' 'positive' 'negative'\n",
            " 'negative' 'positive' 'negative' 'positive' 'negative' 'positive'\n",
            " 'negative' 'negative' 'positive' 'positive' 'positive' 'positive'\n",
            " 'positive' 'negative' 'positive' 'positive' 'negative' 'positive'\n",
            " 'negative' 'negative' 'negative' 'positive' 'positive' 'negative'\n",
            " 'positive' 'negative' 'positive' 'positive' 'negative' 'negative'\n",
            " 'positive' 'negative' 'positive' 'negative' 'positive' 'positive'\n",
            " 'positive' 'negative' 'positive' 'positive' 'positive' 'negative'\n",
            " 'positive' 'negative' 'positive' 'positive' 'negative' 'negative'\n",
            " 'positive' 'positive' 'positive' 'negative' 'negative' 'negative'\n",
            " 'positive' 'negative' 'negative' 'negative' 'positive' 'negative'\n",
            " 'negative' 'negative' 'positive' 'positive' 'negative' 'negative'\n",
            " 'positive' 'negative' 'negative' 'negative' 'negative' 'positive'\n",
            " 'positive' 'positive' 'negative' 'positive' 'positive' 'positive'\n",
            " 'positive' 'negative' 'positive' 'negative' 'positive' 'negative'\n",
            " 'positive' 'negative' 'negative' 'negative' 'positive' 'negative'\n",
            " 'negative' 'positive' 'negative' 'positive' 'negative' 'positive'\n",
            " 'positive' 'negative' 'positive' 'positive' 'positive' 'positive'\n",
            " 'positive' 'negative' 'negative' 'negative' 'negative' 'negative'\n",
            " 'negative' 'positive' 'positive' 'negative' 'negative' 'positive'\n",
            " 'positive' 'negative' 'negative' 'negative' 'negative' 'positive'\n",
            " 'positive' 'negative' 'negative' 'positive' 'positive' 'negative'\n",
            " 'positive' 'positive' 'negative' 'negative' 'negative' 'positive'\n",
            " 'positive' 'negative' 'positive' 'negative' 'positive' 'negative'\n",
            " 'positive' 'negative' 'negative' 'negative' 'negative' 'negative'\n",
            " 'positive' 'negative' 'positive' 'negative' 'negative' 'positive'\n",
            " 'positive' 'negative' 'negative' 'negative' 'positive' 'positive'\n",
            " 'negative' 'positive' 'negative' 'negative' 'positive' 'positive'\n",
            " 'positive' 'positive' 'positive' 'negative' 'negative' 'positive'\n",
            " 'positive' 'positive' 'negative' 'positive' 'positive' 'negative'\n",
            " 'positive' 'positive' 'positive' 'negative' 'negative' 'negative'\n",
            " 'positive' 'positive' 'positive' 'positive' 'positive' 'negative'\n",
            " 'negative' 'negative' 'positive' 'positive' 'positive' 'positive'\n",
            " 'negative' 'positive' 'negative' 'positive' 'negative' 'positive'\n",
            " 'negative' 'positive' 'positive' 'positive' 'negative' 'positive'\n",
            " 'positive' 'positive' 'negative' 'negative' 'positive' 'positive'\n",
            " 'positive' 'positive' 'positive' 'positive' 'negative' 'negative'\n",
            " 'positive' 'negative' 'positive' 'positive' 'negative' 'negative'\n",
            " 'negative' 'positive' 'positive' 'positive' 'positive' 'negative'\n",
            " 'positive' 'positive' 'negative' 'positive' 'negative' 'positive'\n",
            " 'positive' 'positive' 'negative' 'positive' 'negative' 'positive'\n",
            " 'positive' 'positive' 'positive' 'negative' 'positive' 'negative'\n",
            " 'negative' 'positive' 'positive' 'negative' 'positive' 'negative'\n",
            " 'negative' 'negative' 'positive' 'positive' 'positive' 'negative'\n",
            " 'positive' 'negative' 'negative' 'negative' 'negative' 'positive'\n",
            " 'positive' 'negative' 'negative' 'negative' 'positive' 'negative'\n",
            " 'positive' 'positive' 'negative' 'negative' 'positive' 'negative'\n",
            " 'negative' 'negative' 'positive' 'positive' 'positive' 'positive'\n",
            " 'positive' 'negative' 'negative' 'negative' 'positive' 'negative'\n",
            " 'negative' 'positive' 'negative' 'negative' 'negative' 'negative'\n",
            " 'positive' 'positive' 'positive' 'positive' 'negative' 'positive'\n",
            " 'negative' 'positive' 'positive' 'positive' 'positive' 'negative'\n",
            " 'negative' 'negative' 'positive' 'positive' 'negative' 'positive'\n",
            " 'positive' 'positive' 'negative' 'positive' 'negative' 'positive'\n",
            " 'negative' 'positive' 'negative' 'negative' 'negative' 'negative'\n",
            " 'positive' 'negative' 'positive' 'negative' 'negative' 'negative'\n",
            " 'positive' 'positive' 'positive' 'positive' 'negative' 'positive'\n",
            " 'negative' 'negative' 'negative' 'negative' 'negative' 'positive'\n",
            " 'positive' 'positive' 'positive' 'positive' 'negative' 'negative'\n",
            " 'positive' 'positive' 'negative' 'negative' 'positive' 'negative'\n",
            " 'positive' 'negative' 'negative' 'negative' 'negative' 'negative'\n",
            " 'negative' 'negative' 'positive' 'negative' 'positive' 'negative'\n",
            " 'negative' 'positive' 'positive' 'positive' 'negative' 'negative'\n",
            " 'positive' 'negative' 'positive' 'positive' 'positive' 'negative'\n",
            " 'positive' 'negative' 'negative' 'negative' 'negative' 'positive'\n",
            " 'positive' 'negative' 'positive' 'negative' 'positive' 'negative'\n",
            " 'negative' 'negative' 'negative' 'positive' 'negative' 'positive'\n",
            " 'negative' 'positive' 'positive' 'positive' 'negative' 'positive'\n",
            " 'negative' 'positive' 'negative' 'negative' 'negative' 'negative'\n",
            " 'negative' 'positive' 'positive' 'positive' 'negative' 'negative'\n",
            " 'positive' 'positive' 'negative' 'positive' 'negative' 'positive'\n",
            " 'positive' 'negative' 'negative' 'negative' 'positive' 'positive'\n",
            " 'negative' 'negative' 'positive' 'negative' 'positive' 'negative'\n",
            " 'positive' 'negative' 'positive' 'negative' 'negative' 'negative'\n",
            " 'negative' 'positive' 'negative' 'positive' 'positive' 'negative'\n",
            " 'negative' 'negative' 'positive' 'negative' 'negative' 'positive'\n",
            " 'negative' 'negative' 'negative' 'negative' 'positive' 'positive'\n",
            " 'positive' 'positive' 'positive' 'positive' 'negative' 'negative'\n",
            " 'negative' 'positive' 'positive' 'positive' 'negative' 'negative'\n",
            " 'positive' 'negative' 'negative' 'negative' 'negative' 'positive'\n",
            " 'negative' 'positive' 'negative' 'positive' 'positive' 'negative'\n",
            " 'positive' 'positive' 'positive' 'positive' 'positive' 'negative'\n",
            " 'positive' 'positive' 'negative' 'negative' 'positive' 'positive'\n",
            " 'positive' 'positive' 'positive' 'negative' 'positive' 'negative'\n",
            " 'positive' 'positive' 'negative' 'positive' 'negative' 'positive'\n",
            " 'positive' 'negative' 'negative' 'negative' 'positive' 'positive'\n",
            " 'positive' 'negative' 'positive' 'negative' 'negative' 'negative'\n",
            " 'positive' 'positive' 'positive' 'positive' 'positive' 'negative'\n",
            " 'positive' 'negative' 'positive' 'positive' 'negative' 'positive'\n",
            " 'positive' 'positive' 'negative' 'negative' 'negative' 'positive'\n",
            " 'positive' 'negative' 'positive' 'positive' 'negative' 'negative'\n",
            " 'negative' 'negative' 'negative' 'positive' 'negative' 'negative'\n",
            " 'positive' 'positive' 'positive' 'positive' 'positive' 'negative'\n",
            " 'negative' 'positive' 'positive' 'positive' 'negative' 'positive'\n",
            " 'positive' 'positive' 'negative' 'positive' 'positive' 'positive'\n",
            " 'negative' 'positive' 'positive' 'positive' 'positive' 'positive'\n",
            " 'positive' 'negative' 'positive' 'negative' 'positive' 'negative'\n",
            " 'negative' 'positive' 'negative' 'positive' 'negative' 'negative'\n",
            " 'negative' 'positive' 'negative' 'positive' 'positive' 'positive'\n",
            " 'positive' 'negative' 'negative' 'positive' 'negative' 'negative'\n",
            " 'positive' 'negative' 'negative' 'negative' 'negative' 'positive'\n",
            " 'positive' 'negative' 'positive' 'positive' 'negative' 'positive'\n",
            " 'negative' 'positive' 'positive' 'negative' 'negative' 'positive'\n",
            " 'negative' 'negative' 'negative' 'positive' 'negative' 'positive'\n",
            " 'positive' 'negative' 'positive' 'positive' 'positive' 'positive'\n",
            " 'negative' 'positive' 'positive' 'positive' 'negative' 'negative'\n",
            " 'negative' 'negative' 'positive' 'positive' 'positive' 'negative'\n",
            " 'negative' 'positive' 'positive' 'negative' 'negative' 'positive'\n",
            " 'positive' 'negative' 'negative' 'negative' 'negative' 'negative'\n",
            " 'positive' 'negative' 'negative' 'negative' 'positive' 'negative'\n",
            " 'negative' 'positive' 'negative' 'positive' 'negative' 'negative'\n",
            " 'negative' 'positive' 'negative' 'negative' 'negative' 'positive'\n",
            " 'positive' 'negative' 'negative' 'negative' 'negative' 'positive'\n",
            " 'positive' 'positive' 'negative' 'positive' 'positive' 'positive'\n",
            " 'positive' 'negative' 'positive' 'positive' 'negative' 'negative'\n",
            " 'negative' 'positive' 'positive' 'negative' 'positive' 'positive'\n",
            " 'negative' 'positive' 'positive' 'positive']\n"
          ]
        }
      ]
    },
    {
      "cell_type": "code",
      "source": [
        "df['Sentiment'] = predictions\n",
        "df"
      ],
      "metadata": {
        "colab": {
          "base_uri": "https://localhost:8080/",
          "height": 423
        },
        "id": "0uEqTjimECyW",
        "outputId": "00f0734d-baae-44bd-aa76-7491ed661435"
      },
      "execution_count": null,
      "outputs": [
        {
          "output_type": "execute_result",
          "data": {
            "text/html": [
              "\n",
              "  <div id=\"df-0febb3ea-f88e-4504-b88b-8c149a761203\">\n",
              "    <div class=\"colab-df-container\">\n",
              "      <div>\n",
              "<style scoped>\n",
              "    .dataframe tbody tr th:only-of-type {\n",
              "        vertical-align: middle;\n",
              "    }\n",
              "\n",
              "    .dataframe tbody tr th {\n",
              "        vertical-align: top;\n",
              "    }\n",
              "\n",
              "    .dataframe thead th {\n",
              "        text-align: right;\n",
              "    }\n",
              "</style>\n",
              "<table border=\"1\" class=\"dataframe\">\n",
              "  <thead>\n",
              "    <tr style=\"text-align: right;\">\n",
              "      <th></th>\n",
              "      <th>Id</th>\n",
              "      <th>Text</th>\n",
              "      <th>Tokenised_Text</th>\n",
              "      <th>Sentiment</th>\n",
              "    </tr>\n",
              "  </thead>\n",
              "  <tbody>\n",
              "    <tr>\n",
              "      <th>0</th>\n",
              "      <td>96d74cb729</td>\n",
              "      <td>Shanghai is also really exciting (precisely -...</td>\n",
              "      <td>Shanghai is also really exciting ( precisely -...</td>\n",
              "      <td>positive</td>\n",
              "    </tr>\n",
              "    <tr>\n",
              "      <th>1</th>\n",
              "      <td>eee518ae67</td>\n",
              "      <td>Recession hit Veronique Branquinho, she has to...</td>\n",
              "      <td>Recession hit Veronique Branquinho , she has t...</td>\n",
              "      <td>negative</td>\n",
              "    </tr>\n",
              "    <tr>\n",
              "      <th>2</th>\n",
              "      <td>01082688c6</td>\n",
              "      <td>happy bday!</td>\n",
              "      <td>happy bday !</td>\n",
              "      <td>positive</td>\n",
              "    </tr>\n",
              "    <tr>\n",
              "      <th>3</th>\n",
              "      <td>33987a8ee5</td>\n",
              "      <td>http://twitpic.com/4w75p - I like it!!</td>\n",
              "      <td>http://twitpic.com/4w75p - I like it ! !</td>\n",
              "      <td>positive</td>\n",
              "    </tr>\n",
              "    <tr>\n",
              "      <th>4</th>\n",
              "      <td>726e501993</td>\n",
              "      <td>that`s great!! weee!! visitors!</td>\n",
              "      <td>that ` s great ! ! weee ! ! visitors !</td>\n",
              "      <td>positive</td>\n",
              "    </tr>\n",
              "    <tr>\n",
              "      <th>...</th>\n",
              "      <td>...</td>\n",
              "      <td>...</td>\n",
              "      <td>...</td>\n",
              "      <td>...</td>\n",
              "    </tr>\n",
              "    <tr>\n",
              "      <th>995</th>\n",
              "      <td>9b210c4a6f</td>\n",
              "      <td>Haha...YAY!!! I`M CURED!!!!</td>\n",
              "      <td>Haha ... YAY ! ! ! I ` M CURED ! ! !</td>\n",
              "      <td>positive</td>\n",
              "    </tr>\n",
              "    <tr>\n",
              "      <th>996</th>\n",
              "      <td>68c674acdb</td>\n",
              "      <td>Sick, sick, sick. This sucks. i can`t even bre...</td>\n",
              "      <td>Sick , sick , sick . This sucks . i can ` t ev...</td>\n",
              "      <td>negative</td>\n",
              "    </tr>\n",
              "    <tr>\n",
              "      <th>997</th>\n",
              "      <td>6cadda7b98</td>\n",
              "      <td>Adding names to my Twitter account and learnin...</td>\n",
              "      <td>Adding names to my Twitter account and learnin...</td>\n",
              "      <td>positive</td>\n",
              "    </tr>\n",
              "    <tr>\n",
              "      <th>998</th>\n",
              "      <td>79a28b1ac7</td>\n",
              "      <td>ooh thats an early start  ive got bed planned...</td>\n",
              "      <td>ooh thats an early start ive got bed planned f...</td>\n",
              "      <td>positive</td>\n",
              "    </tr>\n",
              "    <tr>\n",
              "      <th>999</th>\n",
              "      <td>05a1b09ce9</td>\n",
              "      <td>Booo my best friend is leavin for the weekend....</td>\n",
              "      <td>Booo my best friend is leavin for the weekend ...</td>\n",
              "      <td>positive</td>\n",
              "    </tr>\n",
              "  </tbody>\n",
              "</table>\n",
              "<p>1000 rows × 4 columns</p>\n",
              "</div>\n",
              "      <button class=\"colab-df-convert\" onclick=\"convertToInteractive('df-0febb3ea-f88e-4504-b88b-8c149a761203')\"\n",
              "              title=\"Convert this dataframe to an interactive table.\"\n",
              "              style=\"display:none;\">\n",
              "        \n",
              "  <svg xmlns=\"http://www.w3.org/2000/svg\" height=\"24px\"viewBox=\"0 0 24 24\"\n",
              "       width=\"24px\">\n",
              "    <path d=\"M0 0h24v24H0V0z\" fill=\"none\"/>\n",
              "    <path d=\"M18.56 5.44l.94 2.06.94-2.06 2.06-.94-2.06-.94-.94-2.06-.94 2.06-2.06.94zm-11 1L8.5 8.5l.94-2.06 2.06-.94-2.06-.94L8.5 2.5l-.94 2.06-2.06.94zm10 10l.94 2.06.94-2.06 2.06-.94-2.06-.94-.94-2.06-.94 2.06-2.06.94z\"/><path d=\"M17.41 7.96l-1.37-1.37c-.4-.4-.92-.59-1.43-.59-.52 0-1.04.2-1.43.59L10.3 9.45l-7.72 7.72c-.78.78-.78 2.05 0 2.83L4 21.41c.39.39.9.59 1.41.59.51 0 1.02-.2 1.41-.59l7.78-7.78 2.81-2.81c.8-.78.8-2.07 0-2.86zM5.41 20L4 18.59l7.72-7.72 1.47 1.35L5.41 20z\"/>\n",
              "  </svg>\n",
              "      </button>\n",
              "      \n",
              "  <style>\n",
              "    .colab-df-container {\n",
              "      display:flex;\n",
              "      flex-wrap:wrap;\n",
              "      gap: 12px;\n",
              "    }\n",
              "\n",
              "    .colab-df-convert {\n",
              "      background-color: #E8F0FE;\n",
              "      border: none;\n",
              "      border-radius: 50%;\n",
              "      cursor: pointer;\n",
              "      display: none;\n",
              "      fill: #1967D2;\n",
              "      height: 32px;\n",
              "      padding: 0 0 0 0;\n",
              "      width: 32px;\n",
              "    }\n",
              "\n",
              "    .colab-df-convert:hover {\n",
              "      background-color: #E2EBFA;\n",
              "      box-shadow: 0px 1px 2px rgba(60, 64, 67, 0.3), 0px 1px 3px 1px rgba(60, 64, 67, 0.15);\n",
              "      fill: #174EA6;\n",
              "    }\n",
              "\n",
              "    [theme=dark] .colab-df-convert {\n",
              "      background-color: #3B4455;\n",
              "      fill: #D2E3FC;\n",
              "    }\n",
              "\n",
              "    [theme=dark] .colab-df-convert:hover {\n",
              "      background-color: #434B5C;\n",
              "      box-shadow: 0px 1px 3px 1px rgba(0, 0, 0, 0.15);\n",
              "      filter: drop-shadow(0px 1px 2px rgba(0, 0, 0, 0.3));\n",
              "      fill: #FFFFFF;\n",
              "    }\n",
              "  </style>\n",
              "\n",
              "      <script>\n",
              "        const buttonEl =\n",
              "          document.querySelector('#df-0febb3ea-f88e-4504-b88b-8c149a761203 button.colab-df-convert');\n",
              "        buttonEl.style.display =\n",
              "          google.colab.kernel.accessAllowed ? 'block' : 'none';\n",
              "\n",
              "        async function convertToInteractive(key) {\n",
              "          const element = document.querySelector('#df-0febb3ea-f88e-4504-b88b-8c149a761203');\n",
              "          const dataTable =\n",
              "            await google.colab.kernel.invokeFunction('convertToInteractive',\n",
              "                                                     [key], {});\n",
              "          if (!dataTable) return;\n",
              "\n",
              "          const docLinkHtml = 'Like what you see? Visit the ' +\n",
              "            '<a target=\"_blank\" href=https://colab.research.google.com/notebooks/data_table.ipynb>data table notebook</a>'\n",
              "            + ' to learn more about interactive tables.';\n",
              "          element.innerHTML = '';\n",
              "          dataTable['output_type'] = 'display_data';\n",
              "          await google.colab.output.renderOutput(dataTable, element);\n",
              "          const docLink = document.createElement('div');\n",
              "          docLink.innerHTML = docLinkHtml;\n",
              "          element.appendChild(docLink);\n",
              "        }\n",
              "      </script>\n",
              "    </div>\n",
              "  </div>\n",
              "  "
            ],
            "text/plain": [
              "             Id  ... Sentiment\n",
              "0    96d74cb729  ...  positive\n",
              "1    eee518ae67  ...  negative\n",
              "2    01082688c6  ...  positive\n",
              "3    33987a8ee5  ...  positive\n",
              "4    726e501993  ...  positive\n",
              "..          ...  ...       ...\n",
              "995  9b210c4a6f  ...  positive\n",
              "996  68c674acdb  ...  negative\n",
              "997  6cadda7b98  ...  positive\n",
              "998  79a28b1ac7  ...  positive\n",
              "999  05a1b09ce9  ...  positive\n",
              "\n",
              "[1000 rows x 4 columns]"
            ]
          },
          "metadata": {},
          "execution_count": 34
        }
      ]
    },
    {
      "cell_type": "code",
      "source": [
        "df.to_csv('predictions_out.csv')"
      ],
      "metadata": {
        "id": "rQqb64ZOEKzs"
      },
      "execution_count": null,
      "outputs": []
    },
    {
      "cell_type": "code",
      "source": [
        ""
      ],
      "metadata": {
        "id": "60NCqWArJNq-"
      },
      "execution_count": null,
      "outputs": []
    }
  ]
}